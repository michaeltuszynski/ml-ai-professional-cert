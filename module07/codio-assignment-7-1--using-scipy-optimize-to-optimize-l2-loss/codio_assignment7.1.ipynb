{
 "cells": [
  {
   "cell_type": "markdown",
   "metadata": {
    "deletable": false,
    "editable": false,
    "nbgrader": {
     "checksum": "58dc5d0595345c825ccfdd03127055c7",
     "grade": false,
     "grade_id": "cell-0a074028950af7cb",
     "locked": true,
     "schema_version": 1,
     "solution": false
    }
   },
   "source": [
    "## Required Codio Assignment 7.1: Using SciPy Optimize To Optimize L2 Loss\n",
    "\n",
    "**Expected Time = 45 minutes**\n",
    "\n",
    "**Total Points = 15**\n",
    "\n",
    "This assignment focuses on using `scipy.optimize` to minimize the mean squared error for a linear model.  For this example,  a synthetic dataset is created using `sklearn`.  \n",
    "\n",
    "## Index:\n",
    "\n",
    "- [Problem 1](#Problem-1)\n",
    "- [Problem 2](#Problem-2)\n",
    "- [Problem 3](#Problem-3)"
   ]
  },
  {
   "cell_type": "code",
   "execution_count": 1,
   "metadata": {},
   "outputs": [],
   "source": [
    "import numpy as np\n",
    "import pandas as pd\n",
    "import matplotlib.pyplot as plt\n",
    "from scipy.optimize import minimize"
   ]
  },
  {
   "cell_type": "markdown",
   "metadata": {
    "deletable": false,
    "editable": false,
    "nbgrader": {
     "checksum": "10f600534f7aa1accbf807dbf326084f",
     "grade": false,
     "grade_id": "cell-03152fce7dee72a6",
     "locked": true,
     "schema_version": 1,
     "solution": false
    }
   },
   "source": [
    "### Creating Data\n",
    "\n",
    "To create the dataset, a linear function with a known slope is created, and Gaussian noise is added to each point at random.  This allows comparison to the results and helps to see if the minimum solution is reasonable. \n",
    "\n",
    "$$y = 4.2x + \\sigma$$"
   ]
  },
  {
   "cell_type": "code",
   "execution_count": 2,
   "metadata": {},
   "outputs": [
    {
     "data": {
      "text/plain": [
       "<matplotlib.collections.PathCollection at 0x1379168a0>"
      ]
     },
     "execution_count": 2,
     "metadata": {},
     "output_type": "execute_result"
    },
    {
     "data": {
      "image/png": "[encoded data removed]",
      "text/plain": [
       "<Figure size 640x480 with 1 Axes>"
      ]
     },
     "metadata": {},
     "output_type": "display_data"
    }
   ],
   "source": [
    "np.random.seed(42)\n",
    "x = np.linspace(0, 1, 100)\n",
    "y = 4.2*x + np.random.normal(size = 100)\n",
    "plt.scatter(x, y)"
   ]
  },
  {
   "cell_type": "markdown",
   "metadata": {
    "deletable": false,
    "editable": false,
    "nbgrader": {
     "checksum": "a8f1643c29ed8eb6d328ed60bd1579e5",
     "grade": false,
     "grade_id": "cell-cc4851cdca48645f",
     "locked": true,
     "schema_version": 1,
     "solution": false
    }
   },
   "source": [
    "[Back to top](#Index:) \n",
    "\n",
    "## Problem 1\n",
    "\n",
    "### Array of $\\theta$'s\n",
    "\n",
    "**5 Points**\n",
    "\n",
    "Below, create an array of possible $\\theta$ values using `np.linspace`.  Create 100 values starting at 3 and ending at 5.  Assign your solution as an array to `thetas` below."
   ]
  },
  {
   "cell_type": "code",
   "execution_count": 3,
   "metadata": {
    "deletable": false,
    "nbgrader": {
     "checksum": "d97cf31864ef5d3af92912fe687d38a7",
     "grade": false,
     "grade_id": "cell-81c5f25f91d3e024",
     "locked": false,
     "schema_version": 1,
     "solution": true
    }
   },
   "outputs": [
    {
     "name": "stdout",
     "output_type": "stream",
     "text": [
      "<class 'numpy.ndarray'>\n",
      "(100,)\n"
     ]
    }
   ],
   "source": [
    "### GRADED\n",
    "\n",
    "thetas = ''\n",
    "\n",
    "# YOUR CODE HERE\n",
    "thetas = np.linspace(3, 5, 100)\n",
    "\n",
    "# Answer check\n",
    "print(type(thetas))\n",
    "print(thetas.shape)"
   ]
  },
  {
   "cell_type": "code",
   "execution_count": null,
   "metadata": {
    "deletable": false,
    "editable": false,
    "nbgrader": {
     "checksum": "a280bac537f7d0b9aad6a312b162fba0",
     "grade": true,
     "grade_id": "cell-7f9914e3aa15bd3e",
     "locked": true,
     "points": 5,
     "schema_version": 1,
     "solution": false
    }
   },
   "outputs": [],
   "source": []
  },
  {
   "cell_type": "markdown",
   "metadata": {
    "deletable": false,
    "editable": false,
    "nbgrader": {
     "checksum": "af45c12483d273bf9f95e2f19398056d",
     "grade": false,
     "grade_id": "cell-dba9e30e6375854e",
     "locked": true,
     "schema_version": 1,
     "solution": false
    }
   },
   "source": [
    "[Back to top](#Index:) \n",
    "\n",
    "## Problem 2\n",
    "\n",
    "### Loss Function\n",
    "\n",
    "**5 Points**\n",
    "\n",
    "Now, complete the function `l2_loss` below that accepts a single `theta` value as input and calculates the mean squared error based on the true y-values and the given theta.\n",
    "\n",
    "\n",
    "The function should return a single float value representing the mean squared error."
   ]
  },
  {
   "cell_type": "code",
   "execution_count": 4,
   "metadata": {
    "deletable": false,
    "nbgrader": {
     "checksum": "e9fcf68066ebc44fc7d286f3136ebd9e",
     "grade": false,
     "grade_id": "cell-5035e8b95397a95a",
     "locked": false,
     "schema_version": 1,
     "solution": true
    }
   },
   "outputs": [
    {
     "name": "stdout",
     "output_type": "stream",
     "text": [
      "5.970444002663118\n",
      "<class 'numpy.float64'>\n"
     ]
    }
   ],
   "source": [
    "### GRADED\n",
    "def l2_loss(theta):\n",
    "  \"\"\"\n",
    "  This function accepts a single theta value\n",
    "  and calculates the mean squared error based\n",
    "  on the formula mean.(y- theta*x)^2\n",
    "\n",
    "  Arguments\n",
    "  ---------\n",
    "  theta: float\n",
    "    The value to use for the parameter of the\n",
    "    regression model.\n",
    "\n",
    "  Returns\n",
    "  -------\n",
    "  mse: float\n",
    "    Mean Squared Error\n",
    "  \"\"\"\n",
    "\n",
    "# YOUR CODE HERE\n",
    "def l2_loss(theta):\n",
    "  y_pred = theta * x\n",
    "  squared_diff = (y - y_pred) ** 2\n",
    "  mse = np.mean(squared_diff)\n",
    "  return mse\n",
    "\n",
    "mses = l2_loss(8)\n",
    "print(mses)\n",
    "print(type(mses))"
   ]
  },
  {
   "cell_type": "code",
   "execution_count": null,
   "metadata": {
    "deletable": false,
    "editable": false,
    "nbgrader": {
     "checksum": "3f581d31f541c922884bb63a09aa46fd",
     "grade": true,
     "grade_id": "cell-5aa231b004d6d303",
     "locked": true,
     "points": 5,
     "schema_version": 1,
     "solution": false
    }
   },
   "outputs": [],
   "source": []
  },
  {
   "cell_type": "markdown",
   "metadata": {
    "deletable": false,
    "editable": false,
    "nbgrader": {
     "checksum": "d9049f3954a1716a25a7ebd185d8429e",
     "grade": false,
     "grade_id": "cell-6e2c64852068d37c",
     "locked": true,
     "schema_version": 1,
     "solution": false
    }
   },
   "source": [
    "[Back to top](#Index:) \n",
    "\n",
    "## Problem 3\n",
    "\n",
    "### Using `scipy` to minimize `l2_loss`\n",
    "\n",
    "**5 Points**\n",
    "\n",
    "Use the `minimize` function that has been imported from `scipy.optimize` to find the minimum value of `l2_loss` using `x0 = 4`.  Assign your results to the `minimum_theta` variable below.  \n",
    "\n",
    "Next, use the `minimum_theta.x` attribute to examine the solution and assign as a numpy array to `theta_solution` below."
   ]
  },
  {
   "cell_type": "code",
   "execution_count": 5,
   "metadata": {
    "deletable": false,
    "nbgrader": {
     "checksum": "0544c806e4e85d47ae2ddc71fc3cb15b",
     "grade": false,
     "grade_id": "cell-e29fcd94e3583b13",
     "locked": false,
     "schema_version": 1,
     "solution": true
    }
   },
   "outputs": [
    {
     "name": "stdout",
     "output_type": "stream",
     "text": [
      "<class 'numpy.ndarray'>\n",
      "[4.08001601]\n"
     ]
    }
   ],
   "source": [
    "### GRADED\n",
    "\n",
    "minimum_theta = ''\n",
    "theta_solution = ''\n",
    "\n",
    "# YOUR CODE HERE\n",
    "minimum_theta = minimize(l2_loss, x0=4)\n",
    "theta_solution = np.array([minimum_theta.x[0]])\n",
    "\n",
    "# Answer check\n",
    "print(type(theta_solution))\n",
    "print(theta_solution)"
   ]
  },
  {
   "cell_type": "code",
   "execution_count": null,
   "metadata": {
    "deletable": false,
    "editable": false,
    "nbgrader": {
     "checksum": "d31fd4b4eab6d11b3556daa455821a23",
     "grade": true,
     "grade_id": "cell-385478303a299c9b",
     "locked": true,
     "points": 5,
     "schema_version": 1,
     "solution": false
    }
   },
   "outputs": [],
   "source": []
  },
  {
   "cell_type": "markdown",
   "metadata": {},
   "source": [
    "Now that you have found the minimum value, you can uncomment the code below and visualize the mean squared error along with the minimum value based on `scipy`.  "
   ]
  },
  {
   "cell_type": "code",
   "execution_count": 6,
   "metadata": {},
   "outputs": [
    {
     "data": {
      "image/png": "[encoded data removed]",
      "text/plain": [
       "<Figure size 640x480 with 1 Axes>"
      ]
     },
     "metadata": {},
     "output_type": "display_data"
    }
   ],
   "source": [
    "plt.plot(thetas, [l2_loss(i) for i in thetas])\n",
    "plt.plot(theta_solution, l2_loss(theta_solution), 'ro', label = f'solution: {np.round(theta_solution[0], 3)}')\n",
    "plt.legend();\n",
    "plt.title(r'Minimizing Mean Squared Error given $\\theta$');\n",
    "plt.xlabel(r'$\\theta$')\n",
    "plt.ylabel('MSE');"
   ]
  },
  {
   "cell_type": "markdown",
   "metadata": {},
   "source": [
    "# Summary of SciPy Optimization Assignment\n",
    "\n",
    "This notebook demonstrates parameter optimization for a linear model using SciPy's minimize function. Key components:\n",
    "\n",
    "### Data Generation\n",
    "- Created synthetic data using y = 4.2x + noise\n",
    "- Allows validation of optimization results against known true parameter\n",
    "\n",
    "### Key Steps\n",
    "1. Generated parameter space (θ values from 3 to 5)\n",
    "2. Implemented L2 loss function to calculate MSE\n",
    "3. Used scipy.optimize.minimize to find optimal θ\n",
    "4. Visualized loss landscape and optimal solution\n",
    "\n",
    "### Key Takeaways\n",
    "- SciPy's minimize function effectively finds the optimal parameter\n",
    "- The optimal θ closely matches the true parameter (4.2)\n",
    "- Visualization shows clear convex loss landscape with single minimum\n",
    "- L2 loss (MSE) provides smooth optimization surface\n",
    "\n",
    "### Technical Implementation\n",
    "- Used numpy for efficient array operations\n",
    "- Leveraged scipy.optimize.minimize for optimization\n",
    "- Matplotlib for loss landscape visualization"
   ]
  }
 ],
 "metadata": {
  "kernelspec": {
   "display_name": "Python 3",
   "language": "python",
   "name": "python3"
  },
  "language_info": {
   "codemirror_mode": {
    "name": "ipython",
    "version": 3
   },
   "file_extension": ".py",
   "mimetype": "text/x-python",
   "name": "python",
   "nbconvert_exporter": "python",
   "pygments_lexer": "ipython3",
   "version": "3.12.7"
  }
 },
 "nbformat": 4,
 "nbformat_minor": 4
}
