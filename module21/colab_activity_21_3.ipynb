{
 "cells": [
  {
   "attachments": {},
   "cell_type": "markdown",
   "metadata": {
    "nbgrader": {
     "grade": false,
     "grade_id": "cell-66d8ec40d6c8ee24",
     "locked": true,
     "schema_version": 3,
     "solution": false,
     "task": false
    }
   },
   "source": [
    "### Colab Activity 21.3: Using Keras\n",
    "\n",
    "**Expected Time = 60 minutes**\n",
    "\n",
    "\n",
    "\n",
    "This activity focuses on using the `keras` library to build an Artificial Neural Network using the the Titanic dataset.  You will now use all the rows of the data and the `age` and `fare` columns to build a basic network.  After building the model you will visualize the loss for each epoch.\n",
    "\n",
    "#### Index\n",
    "\n",
    "- [Problem 1](#-Problem-1)\n",
    "- [Problem 2](#-Problem-2)\n",
    "- [Problem 3](#-Problem-3)\n",
    "- [Problem 4](#-Problem-4)\n",
    "- [Problem 5](#-Problem-5)"
   ]
  },
  {
   "cell_type": "code",
   "execution_count": 1,
   "metadata": {},
   "outputs": [],
   "source": [
    "import numpy as np\n",
    "import pandas as pd\n",
    "import matplotlib.pyplot as plt\n",
    "import seaborn as sns\n",
    "import tensorflow as tf\n",
    "\n",
    "from tensorflow.keras.layers import Dense\n",
    "from tensorflow.keras.models import Sequential\n",
    "from tensorflow.keras.utils import plot_model\n",
    "\n",
    "import warnings\n",
    "warnings.filterwarnings('ignore')"
   ]
  },
  {
   "cell_type": "code",
   "execution_count": 2,
   "metadata": {},
   "outputs": [
    {
     "name": "stdout",
     "output_type": "stream",
     "text": [
      "(714, 2)\n"
     ]
    }
   ],
   "source": [
    "titanic = sns.load_dataset('titanic').dropna(subset = ['age'])\n",
    "X = titanic[['age', 'fare']].values\n",
    "y = titanic['survived'].values\n",
    "print(X.shape)"
   ]
  },
  {
   "attachments": {},
   "cell_type": "markdown",
   "metadata": {
    "nbgrader": {
     "grade": false,
     "grade_id": "cell-b15afe099bbcc7ac",
     "locked": true,
     "schema_version": 3,
     "solution": false,
     "task": false
    }
   },
   "source": [
    "[Back to top](#-Index)\n",
    "\n",
    "### Problem 1\n",
    "\n",
    "#### A Basic Network\n",
    "\n",
    "\n",
    "\n",
    "To begin, use `keras` and the `Sequential` model to create a model with the following architecture:\n",
    "\n",
    "- One hidden layer with one node\n",
    "- One output node\n",
    "- Use the sigmoid activation function on all nodes\n",
    "\n",
    "Assign this model to the variable `single_node_model`."
   ]
  },
  {
   "cell_type": "code",
   "execution_count": 3,
   "metadata": {
    "nbgrader": {
     "grade": false,
     "grade_id": "cell-2fad3e5bd06726d4",
     "locked": false,
     "schema_version": 3,
     "solution": true,
     "task": false
    }
   },
   "outputs": [
    {
     "data": {
      "text/plain": [
       "<keras.src.engine.sequential.Sequential at 0x3270376d0>"
      ]
     },
     "execution_count": 3,
     "metadata": {},
     "output_type": "execute_result"
    }
   ],
   "source": [
    "tf.random.set_seed(42)\n",
    "single_node_model = Sequential([\n",
    "    Dense(1, activation='sigmoid', input_shape=(2,)),  # Hidden layer with 1 node\n",
    "    Dense(1, activation='sigmoid')  # Output layer\n",
    "])\n",
    "\n",
    "\n",
    "\n",
    "### ANSWER CHECK\n",
    "single_node_model"
   ]
  },
  {
   "cell_type": "code",
   "execution_count": 4,
   "metadata": {},
   "outputs": [
    {
     "data": {
      "text/plain": [
       "<function keras.src.activations.sigmoid(x)>"
      ]
     },
     "execution_count": 4,
     "metadata": {},
     "output_type": "execute_result"
    }
   ],
   "source": [
    "single_node_model.layers[0].activation"
   ]
  },
  {
   "attachments": {},
   "cell_type": "markdown",
   "metadata": {
    "nbgrader": {
     "grade": false,
     "grade_id": "cell-a90e7130fc78980d",
     "locked": true,
     "points": 0,
     "schema_version": 3,
     "solution": false,
     "task": true
    }
   },
   "source": [
    "[Back to top](#-Index)\n",
    "\n",
    "### Problem 2\n",
    "\n",
    "#### Compiling the Network\n",
    "\n",
    "\n",
    "\n",
    "Now, compile the `single_node_model` model defined above using the settings below:\n",
    "\n",
    "- `optimizer = rmsprop`\n",
    "- `loss = binary_crossentropy`\n",
    "- `metrics = ['accuracy']`"
   ]
  },
  {
   "cell_type": "code",
   "execution_count": 5,
   "metadata": {
    "nbgrader": {
     "grade": false,
     "grade_id": "cell-e253d21e36668ef0",
     "locked": false,
     "schema_version": 3,
     "solution": true,
     "task": false
    }
   },
   "outputs": [
    {
     "data": {
      "text/plain": [
       "<keras.src.engine.sequential.Sequential at 0x3270376d0>"
      ]
     },
     "execution_count": 5,
     "metadata": {},
     "output_type": "execute_result"
    }
   ],
   "source": [
    "\n",
    "\n",
    "tf.random.set_seed(42)\n",
    "single_node_model.compile(\n",
    "    optimizer='rmsprop',\n",
    "    loss='binary_crossentropy',\n",
    "    metrics=['accuracy']\n",
    ")\n",
    "\n",
    "\n",
    "\n",
    "\n",
    "### ANSWER CHECK\n",
    "single_node_model"
   ]
  },
  {
   "attachments": {},
   "cell_type": "markdown",
   "metadata": {
    "nbgrader": {
     "grade": false,
     "grade_id": "cell-27499b77baa0ce58",
     "locked": true,
     "schema_version": 3,
     "solution": false,
     "task": false
    }
   },
   "source": [
    "[Back to top](#-Index)\n",
    "\n",
    "### Problem 3\n",
    "\n",
    "#### Fit the model\n",
    "\n",
    "\n",
    "\n",
    "Next, fit the `single_node_model` model below to the data `X` and `y` using the following parameters:\n",
    "\n",
    "- `epochs = 20`\n",
    "- `batch_size = 10`\n",
    "- `verbose = 0`\n",
    "\n",
    "Ensure to use `tf.random.set_seed(42)` to assure proper grading.  \n",
    "\n",
    "Assign your fit model to the variable `history` below."
   ]
  },
  {
   "cell_type": "code",
   "execution_count": 6,
   "metadata": {
    "nbgrader": {
     "grade": false,
     "grade_id": "cell-edc2684ae7362db5",
     "locked": false,
     "schema_version": 3,
     "solution": true,
     "task": false
    }
   },
   "outputs": [
    {
     "data": {
      "text/plain": [
       "{'verbose': 0, 'epochs': 20, 'steps': 72}"
      ]
     },
     "execution_count": 6,
     "metadata": {},
     "output_type": "execute_result"
    }
   ],
   "source": [
    "\n",
    "tf.random.set_seed(42)\n",
    "history = single_node_model.fit(\n",
    "    X, y,\n",
    "    epochs=20,\n",
    "    batch_size=10,\n",
    "    verbose=0)\n",
    "\n",
    "\n",
    "\n",
    "### ANSWER CHECK\n",
    "history.params"
   ]
  },
  {
   "attachments": {},
   "cell_type": "markdown",
   "metadata": {
    "nbgrader": {
     "grade": false,
     "grade_id": "cell-dd00fd6a508daa28",
     "locked": true,
     "schema_version": 3,
     "solution": false,
     "task": false
    }
   },
   "source": [
    "[Back to top](#-Index)\n",
    "\n",
    "### Problem 4\n",
    "\n",
    "#### Evaluate the model\n",
    "\n",
    "\n",
    "\n",
    "Use the `.evaluate` method on your `single_node_model` with the `X` and `y` arrays to examine the loss and accuracy of the model.  Assign these values to the variables `single_loss` and `single_acc` below."
   ]
  },
  {
   "cell_type": "code",
   "execution_count": 7,
   "metadata": {
    "nbgrader": {
     "grade": false,
     "grade_id": "cell-3fc8d4b03bcd60f1",
     "locked": false,
     "schema_version": 3,
     "solution": true,
     "task": false
    }
   },
   "outputs": [
    {
     "name": "stdout",
     "output_type": "stream",
     "text": [
      "23/23 [==============================] - 0s 444us/step - loss: 0.6757 - accuracy: 0.5938\n",
      "0.6756570339202881\n",
      "0.593837559223175\n"
     ]
    }
   ],
   "source": [
    "\n",
    "single_loss = ''\n",
    "single_acc = ''\n",
    "\n",
    "single_loss, single_acc = single_node_model.evaluate(X, y)\n",
    "\n",
    "\n",
    "### ANSWER CHECK\n",
    "print(single_loss)\n",
    "print(single_acc)"
   ]
  },
  {
   "attachments": {},
   "cell_type": "markdown",
   "metadata": {
    "nbgrader": {
     "grade": false,
     "grade_id": "cell-b0ed9e5e208e501a",
     "locked": true,
     "schema_version": 3,
     "solution": false,
     "task": false
    }
   },
   "source": [
    "[Back to top](#-Index)\n",
    "\n",
    "### Problem 5\n",
    "\n",
    "#### A More Complex Model\n",
    "\n",
    "\n",
    "\n",
    "To try to improve the model, now build and evaluate a second model that uses a single hidden layer with 100 nodes, and a single output layer.  \n",
    "\n",
    "For the hidden layer use the `relu` activation function and for the output layer use the `sigmoid` activation.  \n",
    "\n",
    "Again, set the `np.random.seed(42)`, using the same compile settings and train settings for number of epochs and batch size.  Assign the accuracy of the model to `hundred_acc` below."
   ]
  },
  {
   "cell_type": "code",
   "execution_count": 9,
   "metadata": {
    "nbgrader": {
     "grade": false,
     "grade_id": "cell-99ca08ba0f195e6e",
     "locked": false,
     "schema_version": 3,
     "solution": true,
     "task": false
    }
   },
   "outputs": [
    {
     "name": "stdout",
     "output_type": "stream",
     "text": [
      "23/23 [==============================] - 0s 518us/step - loss: 0.6397 - accuracy: 0.6905\n",
      "0.6904761791229248\n"
     ]
    }
   ],
   "source": [
    "\n",
    "complex_model = ''\n",
    "hundred_acc = ''\n",
    "\n",
    "complex_model = Sequential([\n",
    "    Dense(100, activation='relu', input_shape=(2,)),  # Hidden layer with 100 nodes\n",
    "    Dense(1, activation='sigmoid')  # Output layer\n",
    "])\n",
    "\n",
    "complex_model.compile(\n",
    "    optimizer='rmsprop',\n",
    "    loss='binary_crossentropy',\n",
    "    metrics=['accuracy']\n",
    ")\n",
    "\n",
    "history = complex_model.fit(\n",
    "    X, y,\n",
    "    epochs=20,\n",
    "    batch_size=10,\n",
    "    verbose=0\n",
    ")\n",
    "\n",
    "hundred_acc = complex_model.evaluate(X, y)[1]\n",
    "\n",
    "### ANSWER CHECK\n",
    "print(hundred_acc)"
   ]
  },
  {
   "cell_type": "markdown",
   "metadata": {},
   "source": [
    "## Summary of Exercises\n",
    "\n",
    "This notebook guided us through building and evaluating neural networks using Keras with the Titanic dataset. Here's what we accomplished:\n",
    "\n",
    "1. **Basic Network Construction**  \n",
    "   - Built a simple neural network with one hidden layer (1 node) and one output layer\n",
    "   - Used sigmoid activation for both layers\n",
    "   - Set input shape to match our features (age and fare)\n",
    "\n",
    "2. **Model Compilation**  \n",
    "   - Configured the model with RMSprop optimizer\n",
    "   - Used binary crossentropy loss function\n",
    "   - Added accuracy as our evaluation metric\n",
    "\n",
    "3. **Model Training**  \n",
    "   - Trained the model for 20 epochs\n",
    "   - Used a batch size of 10\n",
    "   - Stored training history for analysis\n",
    "\n",
    "4. **Model Evaluation**  \n",
    "   - Assessed model performance on the training data\n",
    "   - Extracted loss and accuracy metrics\n",
    "\n",
    "\n",
    "\n",
    "\n",
    "5. **Complex Model Experimentation**  \n",
    "   - Built a more sophisticated model with 100 hidden nodes\n",
    "   - Used ReLU activation in the hidden layer\n",
    "   - Compared performance with the simpler model\n",
    "\n",
    "## Key Takeaways\n",
    "\n",
    "- Keras provides a simple, intuitive API for building neural networks\n",
    "- The Sequential model allows for easy layer-by-layer construction\n",
    "- Activation functions (sigmoid, ReLU) play a crucial role in network behavior\n",
    "- Model evaluation metrics help assess performance\n",
    "- More complex models can potentially improve accuracy but may require more computational resources"
   ]
  }
 ],
 "metadata": {
  "celltoolbar": "Create Assignment",
  "kernelspec": {
   "display_name": "codio_38",
   "language": "python",
   "name": "python3"
  },
  "language_info": {
   "codemirror_mode": {
    "name": "ipython",
    "version": 3
   },
   "file_extension": ".py",
   "mimetype": "text/x-python",
   "name": "python",
   "nbconvert_exporter": "python",
   "pygments_lexer": "ipython3",
   "version": "3.8.20"
  },
  "widgets": {
   "application/vnd.jupyter.widget-state+json": {
    "state": {},
    "version_major": 2,
    "version_minor": 0
   }
  }
 },
 "nbformat": 4,
 "nbformat_minor": 4
}
