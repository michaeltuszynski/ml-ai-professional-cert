{
 "cells": [
  {
   "attachments": {},
   "cell_type": "markdown",
   "metadata": {
    "nbgrader": {
     "grade": false,
     "grade_id": "cell-91022a1411040e34",
     "locked": true,
     "schema_version": 3,
     "solution": false
    }
   },
   "source": [
    "### Colab Activity 14.2: Examining Purity\n",
    "\n",
    "**Expected Time = 60 minutes**\n",
    "\n",
    "\n",
    "By default, the metric in the `DecisionTreeClassifier` is the Gini Criterion.  This assigment introduces its use through a basic example.  Your goal is to minimize the impurity based on a range of split options.  In the following assignment you will explore the alternative notion of `entropy` that can also be used as a criterion.  \n",
    "\n",
    "\n",
    "#### Index\n",
    "\n",
    "- [Problem 1](#-Problem-1)\n",
    "- [Problem 2](#-Problem-2)\n",
    "- [Problem 3](#-Problem-3)\n",
    "- [Problem 4](#-Problem-4)\n",
    "- [Problem 5](#-Problem-5)"
   ]
  },
  {
   "cell_type": "markdown",
   "metadata": {
    "nbgrader": {
     "grade": false,
     "grade_id": "cell-f62ca59273e840c6",
     "locked": true,
     "schema_version": 3,
     "solution": false
    }
   },
   "source": [
    "### Gini Impurity\n",
    "\n",
    "The Gini Criterion is used to identify the optimal place to make a decision for classification based on the purity of the results.  This is measured by a weighted sum of the node size and gini impurity of each split node defined as:\n",
    "\n",
    "$$\\sum_{k}p_{mk}(1 - p_{mk})$$\n",
    "\n",
    "where \n",
    "\n",
    "$$p_{mk} = \\frac{1}{N_m} \\sum_{y \\in Q_m} I(y = k)$$\n",
    "\n",
    "and $Q_m$ is the data at node $m$ with $N_m$ samples.  [source](https://scikit-learn.org/stable/modules/tree.html#mathematical-formulation)"
   ]
  },
  {
   "cell_type": "markdown",
   "metadata": {
    "nbgrader": {
     "grade": false,
     "grade_id": "cell-87e6e671d609f89c",
     "locked": true,
     "schema_version": 3,
     "solution": false
    }
   },
   "source": [
    "### The Data\n",
    "\n",
    "Below, a small sample from the built in `titanic` dataset is loaded and displayed.  The classification problem is to predict survival on the ship.  You will use the `age` (age of passenger) and `pclass` (passenger class) features to explore the gini splitting criterion."
   ]
  },
  {
   "cell_type": "code",
   "execution_count": 1,
   "metadata": {},
   "outputs": [],
   "source": [
    "import pandas as pd\n",
    "import numpy as np\n",
    "import matplotlib.pyplot as plt\n",
    "import seaborn as sns\n",
    "\n",
    "from sklearn.tree import DecisionTreeClassifier, export_text, plot_tree\n",
    "from sklearn.model_selection import train_test_split"
   ]
  },
  {
   "cell_type": "code",
   "execution_count": 4,
   "metadata": {},
   "outputs": [],
   "source": [
    "# titanic = sns.load_dataset('titanic')[['age', 'pclass', 'survived']].head()\n",
    "\n",
    "#import urllib\n",
    "\n",
    "titanic = None\n",
    "\n",
    "# try:\n",
    "#     titanic = sns.load_dataset('titanic')\n",
    "# except:\n",
    "#     titanic_dataset_uri = \"https://raw.githubusercontent.com/mwaskom/seaborn-data/master/titanic.csv\"\n",
    "#     with urllib.request.urlopen(titanic_dataset_uri) as response:\n",
    "#         titanic = pd.read_csv(response)\n",
    "#load titanic dataset from local file\n",
    "titanic = pd.read_csv('data/titanic.csv')\n",
    "\n",
    "titanic = titanic[['age', 'pclass', 'survived']].head()"
   ]
  },
  {
   "cell_type": "code",
   "execution_count": 5,
   "metadata": {},
   "outputs": [
    {
     "data": {
      "text/html": [
       "<div>\n",
       "<style scoped>\n",
       "    .dataframe tbody tr th:only-of-type {\n",
       "        vertical-align: middle;\n",
       "    }\n",
       "\n",
       "    .dataframe tbody tr th {\n",
       "        vertical-align: top;\n",
       "    }\n",
       "\n",
       "    .dataframe thead th {\n",
       "        text-align: right;\n",
       "    }\n",
       "</style>\n",
       "<table border=\"1\" class=\"dataframe\">\n",
       "  <thead>\n",
       "    <tr style=\"text-align: right;\">\n",
       "      <th></th>\n",
       "      <th>age</th>\n",
       "      <th>pclass</th>\n",
       "      <th>survived</th>\n",
       "    </tr>\n",
       "  </thead>\n",
       "  <tbody>\n",
       "    <tr>\n",
       "      <th>0</th>\n",
       "      <td>22.0</td>\n",
       "      <td>3</td>\n",
       "      <td>0</td>\n",
       "    </tr>\n",
       "    <tr>\n",
       "      <th>1</th>\n",
       "      <td>38.0</td>\n",
       "      <td>1</td>\n",
       "      <td>1</td>\n",
       "    </tr>\n",
       "    <tr>\n",
       "      <th>2</th>\n",
       "      <td>26.0</td>\n",
       "      <td>3</td>\n",
       "      <td>1</td>\n",
       "    </tr>\n",
       "    <tr>\n",
       "      <th>3</th>\n",
       "      <td>35.0</td>\n",
       "      <td>1</td>\n",
       "      <td>1</td>\n",
       "    </tr>\n",
       "    <tr>\n",
       "      <th>4</th>\n",
       "      <td>35.0</td>\n",
       "      <td>3</td>\n",
       "      <td>0</td>\n",
       "    </tr>\n",
       "  </tbody>\n",
       "</table>\n",
       "</div>"
      ],
      "text/plain": [
       "    age  pclass  survived\n",
       "0  22.0       3         0\n",
       "1  38.0       1         1\n",
       "2  26.0       3         1\n",
       "3  35.0       1         1\n",
       "4  35.0       3         0"
      ]
     },
     "execution_count": 5,
     "metadata": {},
     "output_type": "execute_result"
    }
   ],
   "source": [
    "titanic"
   ]
  },
  {
   "cell_type": "markdown",
   "metadata": {
    "nbgrader": {
     "grade": false,
     "grade_id": "cell-35eeb90aac2c1997",
     "locked": true,
     "schema_version": 3,
     "solution": false
    }
   },
   "source": [
    "The **GINI IMPURITY** of the original data is:\n",
    "\n",
    "$$ 1 - (\\frac{3}{5})^2 - (\\frac{2}{5})^2$$"
   ]
  },
  {
   "cell_type": "code",
   "execution_count": 6,
   "metadata": {},
   "outputs": [
    {
     "data": {
      "text/plain": [
       "0.48"
      ]
     },
     "execution_count": 6,
     "metadata": {},
     "output_type": "execute_result"
    }
   ],
   "source": [
    "1 - (3/5)**2 - (2/5)**2"
   ]
  },
  {
   "attachments": {},
   "cell_type": "markdown",
   "metadata": {
    "nbgrader": {
     "grade": false,
     "grade_id": "cell-9061fffca7606d4a",
     "locked": true,
     "schema_version": 3,
     "solution": false
    }
   },
   "source": [
    "### Problem 1\n",
    "\n",
    "#### Split on Passenger Class\n",
    "\n",
    "\n",
    "To begin, consider the information in the data based on splitting the `pclass` column.  Compute the Gini Impurity of the left and right side of the split as `gini_pclass1` and `gini_pclass3` below.  Remember that to compute the gini impurity means:\n",
    "\n",
    "$$1 - P(\\text{survived})^2 - P(\\text{neither survived})^2$$"
   ]
  },
  {
   "cell_type": "code",
   "execution_count": 7,
   "metadata": {
    "nbgrader": {
     "grade": false,
     "grade_id": "cell-d0392c9997e52c0b",
     "locked": false,
     "schema_version": 3,
     "solution": true
    }
   },
   "outputs": [
    {
     "name": "stdout",
     "output_type": "stream",
     "text": [
      "Left node:  0.00\n",
      "Right Node:  0.44\n"
     ]
    }
   ],
   "source": [
    "\n",
    "\n",
    "gini_pclass1 = ''\n",
    "gini_pclass3 = ''\n",
    "\n",
    "# Problem 1\n",
    "# For pclass=1: 2 records, both survived\n",
    "gini_pclass1 = 1 - (2/2)**2 - (0/2)**2  # = 0.0\n",
    "\n",
    "# For pclass=3: 3 records, 1 survived, 2 not survived\n",
    "gini_pclass3 = 1 - (1/3)**2 - (2/3)**2  # ≈ 0.44\n",
    "\n",
    "\n",
    "# Answer check\n",
    "print(f'Left node: {gini_pclass1: .2f}\\nRight Node: {gini_pclass3: .2f}')"
   ]
  },
  {
   "attachments": {},
   "cell_type": "markdown",
   "metadata": {
    "nbgrader": {
     "grade": false,
     "grade_id": "cell-a63bd7dafd177d62",
     "locked": true,
     "schema_version": 3,
     "solution": false
    }
   },
   "source": [
    "### Problem 2\n",
    "\n",
    "#### Computing the Gini Impurity for Passenger Class\n",
    "\n",
    "\n",
    "\n",
    "Now, to compute the Gini Impurity of the split we find a weighted average of the gini impurities for each leaf node.  These represent the proportion of data in each node times the gini impurity.  \n",
    "\n",
    "$$\\text{Gini Impurity} = \\frac{2}{5} \\times \\text{gini\\_pclass1} + \\frac{3}{5} \\times \\text{gini\\_pclass3}$$"
   ]
  },
  {
   "cell_type": "code",
   "execution_count": 8,
   "metadata": {
    "nbgrader": {
     "grade": false,
     "grade_id": "cell-22c75648812e7583",
     "locked": false,
     "schema_version": 3,
     "solution": true
    }
   },
   "outputs": [
    {
     "name": "stdout",
     "output_type": "stream",
     "text": [
      "0.264\n"
     ]
    }
   ],
   "source": [
    "\n",
    "\n",
    "gini_imp_pclass = ''\n",
    "\n",
    "# Problem 2\n",
    "# Weighted average: (2/5 * gini_pclass1) + (3/5 * gini_pclass3)\n",
    "gini_imp_pclass = (2/5 * 0.0) + (3/5 * 0.44)  # ≈ 0.267\n",
    "\n",
    "\n",
    "# Answer check\n",
    "print(gini_imp_pclass)"
   ]
  },
  {
   "attachments": {},
   "cell_type": "markdown",
   "metadata": {
    "nbgrader": {
     "grade": false,
     "grade_id": "cell-21646be9fcb21930",
     "locked": true,
     "schema_version": 3,
     "solution": false
    }
   },
   "source": [
    "### Problem 3\n",
    "\n",
    "#### Splitting on `age` < 23\n",
    "\n",
    "\n",
    "\n",
    "Compute the gini impurity for each node below and determine the gini impurity of the split by the comparison `age < 23`.  Assign your answers as `under_23_gini`, `over_23_gini`, and `gini_imp_age` below."
   ]
  },
  {
   "cell_type": "code",
   "execution_count": 9,
   "metadata": {
    "nbgrader": {
     "grade": false,
     "grade_id": "cell-f1e748f1f73f9934",
     "locked": false,
     "schema_version": 3,
     "solution": true
    }
   },
   "outputs": [
    {
     "name": "stdout",
     "output_type": "stream",
     "text": [
      "0.30000000000000004\n"
     ]
    }
   ],
   "source": [
    "\n",
    "\n",
    "under_23_gini = ''\n",
    "over_23_gini = ''\n",
    "gini_imp_age = ''\n",
    "\n",
    "# Problem 3\n",
    "# For age<23: 1 record, not survived\n",
    "under_23_gini = 1 - (0/1)**2 - (1/1)**2  # = 0.0\n",
    "\n",
    "# For age>=23: 4 records, 3 survived, 1 not survived\n",
    "over_23_gini = 1 - (3/4)**2 - (1/4)**2  # = 0.375\n",
    "\n",
    "# Weighted average\n",
    "gini_imp_age = (1/5 * 0.0) + (4/5 * 0.375)  # = 0.3\n",
    "\n",
    "\n",
    "# Answer check\n",
    "print(gini_imp_age)"
   ]
  },
  {
   "attachments": {},
   "cell_type": "markdown",
   "metadata": {
    "nbgrader": {
     "grade": false,
     "grade_id": "cell-257a88ff2f504374",
     "locked": true,
     "schema_version": 3,
     "solution": false
    }
   },
   "source": [
    "### Problem 4\n",
    "\n",
    "#### Minimizing Impurity\n",
    "\n",
    "\n",
    "\n",
    "Compare your impurities and determine which decision rule has a lower impurtiy.  Assign your answer to `min_impurity` as `pclass` or `age_23` below."
   ]
  },
  {
   "cell_type": "code",
   "execution_count": 10,
   "metadata": {
    "nbgrader": {
     "grade": false,
     "grade_id": "cell-da1bdb22507254b6",
     "locked": false,
     "schema_version": 3,
     "solution": true
    }
   },
   "outputs": [
    {
     "name": "stdout",
     "output_type": "stream",
     "text": [
      "pclass\n"
     ]
    }
   ],
   "source": [
    "\n",
    "\n",
    "min_impurity = ''\n",
    "\n",
    "min_impurity = 'pclass'  # Since 0.267 < 0.3\n",
    "\n",
    "\n",
    "\n",
    "# Answer check\n",
    "print(min_impurity)"
   ]
  },
  {
   "attachments": {},
   "cell_type": "markdown",
   "metadata": {
    "nbgrader": {
     "grade": false,
     "grade_id": "cell-400fda462827bcce",
     "locked": true,
     "schema_version": 3,
     "solution": false
    }
   },
   "source": [
    "### Problem 5\n",
    "\n",
    "#### Comparing to `DecisionTreeClassifier`\n",
    "\n",
    "\n",
    "\n",
    "To identify the *best* split, we would have to consider the other possible age splits.  We will let the `DecisionTreeClassifier` determine this below. \n",
    "\n",
    "Plot the results of a decision tree of depth 1 below and note the ideal splitting criteria value. Plot the tree and assign to `dtree_graph` below, note the best split.  Does this line up with your earlier computations?"
   ]
  },
  {
   "cell_type": "code",
   "execution_count": 11,
   "metadata": {
    "nbgrader": {
     "grade": false,
     "grade_id": "cell-4cfcd3fb321a82db",
     "locked": false,
     "schema_version": 3,
     "solution": true
    }
   },
   "outputs": [
    {
     "data": {
      "image/png": "[encoded data removed]",
      "text/plain": [
       "<Figure size 640x480 with 1 Axes>"
      ]
     },
     "metadata": {},
     "output_type": "display_data"
    }
   ],
   "source": [
    "\n",
    "\n",
    "dtree_graph = ''\n",
    "\n",
    "dtree = DecisionTreeClassifier(max_depth=1)\n",
    "X = titanic[['age', 'pclass']]\n",
    "y = titanic['survived']\n",
    "dtree.fit(X, y)\n",
    "dtree_graph = plot_tree(dtree, feature_names=['age', 'pclass'], class_names=['Not Survived', 'Survived'], filled=True)\n",
    "\n",
    "# Answer check\n",
    "dtree_graph;"
   ]
  },
  {
   "cell_type": "markdown",
   "metadata": {},
   "source": [
    "### Summary of Exercises\n",
    "\n",
    "This notebook explored the Gini Impurity criterion used in Decision Trees through a practical example using the Titanic dataset. The exercises covered:\n",
    "\n",
    "1. **Basic Gini Impurity Calculation**\n",
    "   - Calculated initial dataset impurity (0.48)\n",
    "   - Demonstrated how to compute Gini impurity: 1 - P(class1)² - P(class2)²\n",
    "\n",
    "2. **Split Analysis on Passenger Class**\n",
    "   - Computed Gini impurity for pclass=1 (0.0) and pclass=3 (0.44)\n",
    "   - Calculated weighted average impurity (0.267)\n",
    "\n",
    "3. **Split Analysis on Age**\n",
    "   - Analyzed split at age < 23\n",
    "   - Computed impurities for both groups and weighted average (0.3)\n",
    "\n",
    "4. **Split Comparison**\n",
    "   - Determined pclass split was superior (0.267 vs 0.3)\n",
    "   - Demonstrated how to evaluate competing split options\n",
    "\n",
    "5. **Validation with sklearn**\n",
    "   - Used DecisionTreeClassifier to confirm manual calculations\n",
    "   - Visualized the optimal split decision\n",
    "\n",
    "### Key Takeaways\n",
    "\n",
    "1. Gini impurity measures node purity (0 = pure, higher values = more impure)\n",
    "2. Decision tree splits are chosen to minimize weighted average impurity\n",
    "3. The best split is determined by comparing impurity reduction across all possible splits\n",
    "4. Manual calculations align with sklearn's DecisionTreeClassifier implementation\n",
    "5. Practical demonstration of how decision trees make splitting decisions"
   ]
  }
 ],
 "metadata": {
  "celltoolbar": "Create Assignment",
  "kernelspec": {
   "display_name": "Python 3 (ipykernel)",
   "language": "python",
   "name": "python3"
  },
  "language_info": {
   "codemirror_mode": {
    "name": "ipython",
    "version": 3
   },
   "file_extension": ".py",
   "mimetype": "text/x-python",
   "name": "python",
   "nbconvert_exporter": "python",
   "pygments_lexer": "ipython3",
   "version": "3.12.7"
  },
  "widgets": {
   "application/vnd.jupyter.widget-state+json": {
    "state": {},
    "version_major": 2,
    "version_minor": 0
   }
  }
 },
 "nbformat": 4,
 "nbformat_minor": 4
}
