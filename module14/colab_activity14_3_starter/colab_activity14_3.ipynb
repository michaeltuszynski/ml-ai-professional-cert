{
 "cells": [
  {
   "attachments": {},
   "cell_type": "markdown",
   "metadata": {
    "nbgrader": {
     "grade": false,
     "grade_id": "cell-5d5f67b74a78cc06",
     "locked": true,
     "schema_version": 3,
     "solution": false
    }
   },
   "source": [
    "###  Colab Activity 14.3: Using Entropy\n",
    "\n",
    "**Expected Time = 60 minutes**\n",
    "\n",
    "\n",
    "This activity focuses on using *entropy* to split nodes in a Decision Tree.  First, you will compute entropy by hand on a small example dataset.  Next, you will use the `DecisionTreeClassifier` to split based on an entropy criteria. \n",
    "\n",
    "\n",
    "$$\\displaystyle H=-\\sum _{i}p_{i}\\log p_{i}$$\n",
    "\n",
    "#### Index\n",
    "\n",
    "- [Problem 1](#-Problem-1)\n",
    "- [Problem 2](#-Problem-2)\n",
    "- [Problem 3](#-Problem-3)\n",
    "- [Problem 4](#-Problem-4)\n",
    "- [Problem 5](#-Problem-5)"
   ]
  },
  {
   "cell_type": "code",
   "execution_count": 1,
   "metadata": {},
   "outputs": [],
   "source": [
    "import pandas as pd\n",
    "import numpy as np\n",
    "import matplotlib.pyplot as plt\n",
    "import seaborn as sns\n",
    "\n",
    "from sklearn.tree import DecisionTreeClassifier, export_text, plot_tree\n",
    "from sklearn.model_selection import train_test_split"
   ]
  },
  {
   "cell_type": "markdown",
   "metadata": {
    "nbgrader": {
     "grade": false,
     "grade_id": "cell-73d9146bf476dbbd",
     "locked": true,
     "schema_version": 3,
     "solution": false
    }
   },
   "source": [
    "### Sample Data\n",
    "\n",
    "Below, the same small titanic dataset is created for your with five rows, and assigned as `titanic` below.  "
   ]
  },
  {
   "cell_type": "code",
   "execution_count": 2,
   "metadata": {},
   "outputs": [],
   "source": [
    "titanic = sns.load_dataset('titanic')[['age', 'pclass', 'survived']].head()"
   ]
  },
  {
   "cell_type": "code",
   "execution_count": 3,
   "metadata": {},
   "outputs": [
    {
     "data": {
      "text/html": [
       "<div>\n",
       "<style scoped>\n",
       "    .dataframe tbody tr th:only-of-type {\n",
       "        vertical-align: middle;\n",
       "    }\n",
       "\n",
       "    .dataframe tbody tr th {\n",
       "        vertical-align: top;\n",
       "    }\n",
       "\n",
       "    .dataframe thead th {\n",
       "        text-align: right;\n",
       "    }\n",
       "</style>\n",
       "<table border=\"1\" class=\"dataframe\">\n",
       "  <thead>\n",
       "    <tr style=\"text-align: right;\">\n",
       "      <th></th>\n",
       "      <th>age</th>\n",
       "      <th>pclass</th>\n",
       "      <th>survived</th>\n",
       "    </tr>\n",
       "  </thead>\n",
       "  <tbody>\n",
       "    <tr>\n",
       "      <th>0</th>\n",
       "      <td>22.0</td>\n",
       "      <td>3</td>\n",
       "      <td>0</td>\n",
       "    </tr>\n",
       "    <tr>\n",
       "      <th>1</th>\n",
       "      <td>38.0</td>\n",
       "      <td>1</td>\n",
       "      <td>1</td>\n",
       "    </tr>\n",
       "    <tr>\n",
       "      <th>2</th>\n",
       "      <td>26.0</td>\n",
       "      <td>3</td>\n",
       "      <td>1</td>\n",
       "    </tr>\n",
       "    <tr>\n",
       "      <th>3</th>\n",
       "      <td>35.0</td>\n",
       "      <td>1</td>\n",
       "      <td>1</td>\n",
       "    </tr>\n",
       "    <tr>\n",
       "      <th>4</th>\n",
       "      <td>35.0</td>\n",
       "      <td>3</td>\n",
       "      <td>0</td>\n",
       "    </tr>\n",
       "  </tbody>\n",
       "</table>\n",
       "</div>"
      ],
      "text/plain": [
       "    age  pclass  survived\n",
       "0  22.0       3         0\n",
       "1  38.0       1         1\n",
       "2  26.0       3         1\n",
       "3  35.0       1         1\n",
       "4  35.0       3         0"
      ]
     },
     "execution_count": 3,
     "metadata": {},
     "output_type": "execute_result"
    }
   ],
   "source": [
    "titanic"
   ]
  },
  {
   "cell_type": "code",
   "execution_count": 3,
   "metadata": {},
   "outputs": [],
   "source": [
    "X, y = titanic.drop('survived', axis = 1), titanic.survived"
   ]
  },
  {
   "attachments": {},
   "cell_type": "markdown",
   "metadata": {
    "nbgrader": {
     "grade": false,
     "grade_id": "cell-31b689a5648ad7e2",
     "locked": true,
     "schema_version": 3,
     "solution": false
    }
   },
   "source": [
    "[Back to top](#-Index)\n",
    "\n",
    "### Problem 1\n",
    "\n",
    "#### Computing the Entropy\n",
    "\n",
    "\n",
    "To begin, the entropy of the data is determined by computing the probability for each class and plugging it into the `entropy` formula.  Use the data in `df` to compute the entropy for all the data and assign it as a float to `all_entropy` below. \n",
    "\n",
    "**NOTE**:  use `np.log2` to compute the logarithm. "
   ]
  },
  {
   "cell_type": "code",
   "execution_count": 5,
   "metadata": {
    "nbgrader": {
     "grade": false,
     "grade_id": "cell-033814c337e99422",
     "locked": false,
     "schema_version": 3,
     "solution": true
    }
   },
   "outputs": [
    {
     "name": "stdout",
     "output_type": "stream",
     "text": [
      "0.9709505944546686\n"
     ]
    }
   ],
   "source": [
    "\n",
    "\n",
    "all_entropy = ''\n",
    "\n",
    "\n",
    "p1 = 3/5  # probability of survival\n",
    "p0 = 2/5  # probability of not survival\n",
    "all_entropy = -(p0 * np.log2(p0) + p1 * np.log2(p1))\n",
    "\n",
    "\n",
    "# Answer check\n",
    "print(all_entropy)"
   ]
  },
  {
   "attachments": {},
   "cell_type": "markdown",
   "metadata": {
    "nbgrader": {
     "grade": false,
     "grade_id": "cell-17d47582606ce8a0",
     "locked": true,
     "schema_version": 3,
     "solution": false
    }
   },
   "source": [
    "[Back to top](#-Index)\n",
    "\n",
    "### Problem 2\n",
    "\n",
    "#### Splitting Data\n",
    "\n",
    "\n",
    "Now, consider splitting the data where `pclass = 1`.   \n",
    "\n",
    "Compute the entropy for each class as `ent_pclass1` and `ent_pclass3` respectively.  "
   ]
  },
  {
   "cell_type": "code",
   "execution_count": 6,
   "metadata": {
    "nbgrader": {
     "grade": false,
     "grade_id": "cell-976b2e6c2706fdec",
     "locked": false,
     "schema_version": 3,
     "solution": true
    }
   },
   "outputs": [
    {
     "name": "stdout",
     "output_type": "stream",
     "text": [
      "Left node:  0.00\n",
      "Right Node:  0.92\n"
     ]
    }
   ],
   "source": [
    "\n",
    "\n",
    "ent_pclass1 = None\n",
    "ent_pclass3 = None\n",
    "\n",
    "# For pclass=1 (all survived)\n",
    "ent_pclass1 = 0  # When all samples are in one class, entropy is 0\n",
    "\n",
    "# For pclass=3\n",
    "p_survive3 = 1/3\n",
    "p_die3 = 2/3\n",
    "ent_pclass3 = -(p_survive3 * np.log2(p_survive3) + p_die3 * np.log2(p_die3))\n",
    "\n",
    "# Answer check\n",
    "print(f'Left node: {ent_pclass1: .2f}\\nRight Node: {ent_pclass3: .2f}')"
   ]
  },
  {
   "attachments": {},
   "cell_type": "markdown",
   "metadata": {
    "nbgrader": {
     "grade": false,
     "grade_id": "cell-f43d62ceeb9e9641",
     "locked": true,
     "schema_version": 3,
     "solution": false
    }
   },
   "source": [
    "[Back to top](#-Index)\n",
    "\n",
    "### Problem 3\n",
    "\n",
    "#### Weighting the Entropy\n",
    "\n",
    "\n",
    "\n",
    "Because the split doesn't produce equal sized groups, we want to weight the entropy based on the size of the data in the node.  Use the proportion of data in the respective nodes to compute the total entropy by summing the weighted entropy values below. Assign as a float to `pclass_entropy` below. "
   ]
  },
  {
   "cell_type": "code",
   "execution_count": 7,
   "metadata": {
    "nbgrader": {
     "grade": false,
     "grade_id": "cell-0bc30f944948c7b9",
     "locked": false,
     "schema_version": 3,
     "solution": true
    }
   },
   "outputs": [
    {
     "name": "stdout",
     "output_type": "stream",
     "text": [
      "Entropy for passenger class:  0.55\n"
     ]
    }
   ],
   "source": [
    "\n",
    "\n",
    "pclass_entropy = ''\n",
    "\n",
    "# Weight by proportion of samples\n",
    "w1 = 2/5  # pclass=1 proportion\n",
    "w3 = 3/5  # pclass=3 proportion\n",
    "pclass_entropy = w1 * ent_pclass1 + w3 * ent_pclass3\n",
    "\n",
    "\n",
    "# Answer check\n",
    "print(f'Entropy for passenger class: {pclass_entropy: .2f}')"
   ]
  },
  {
   "attachments": {},
   "cell_type": "markdown",
   "metadata": {
    "nbgrader": {
     "grade": false,
     "grade_id": "cell-84fb5e4c678b3fea",
     "locked": true,
     "schema_version": 3,
     "solution": false
    }
   },
   "source": [
    "[Back to top](#-Index)\n",
    "\n",
    "### Problem 4\n",
    "\n",
    "#### Entropy based on `age < 23`\n",
    "\n",
    "\n",
    "\n",
    "Compute the weighted sum of the entropy based on splitting based on `age < 23`.  Assign this to `entropy_age` below.  "
   ]
  },
  {
   "cell_type": "code",
   "execution_count": 11,
   "metadata": {},
   "outputs": [
    {
     "data": {
      "text/html": [
       "<div>\n",
       "<style scoped>\n",
       "    .dataframe tbody tr th:only-of-type {\n",
       "        vertical-align: middle;\n",
       "    }\n",
       "\n",
       "    .dataframe tbody tr th {\n",
       "        vertical-align: top;\n",
       "    }\n",
       "\n",
       "    .dataframe thead th {\n",
       "        text-align: right;\n",
       "    }\n",
       "</style>\n",
       "<table border=\"1\" class=\"dataframe\">\n",
       "  <thead>\n",
       "    <tr style=\"text-align: right;\">\n",
       "      <th></th>\n",
       "      <th>age</th>\n",
       "      <th>pclass</th>\n",
       "      <th>survived</th>\n",
       "    </tr>\n",
       "  </thead>\n",
       "  <tbody>\n",
       "    <tr>\n",
       "      <th>0</th>\n",
       "      <td>22.0</td>\n",
       "      <td>3</td>\n",
       "      <td>0</td>\n",
       "    </tr>\n",
       "    <tr>\n",
       "      <th>1</th>\n",
       "      <td>38.0</td>\n",
       "      <td>1</td>\n",
       "      <td>1</td>\n",
       "    </tr>\n",
       "    <tr>\n",
       "      <th>2</th>\n",
       "      <td>26.0</td>\n",
       "      <td>3</td>\n",
       "      <td>1</td>\n",
       "    </tr>\n",
       "    <tr>\n",
       "      <th>3</th>\n",
       "      <td>35.0</td>\n",
       "      <td>1</td>\n",
       "      <td>1</td>\n",
       "    </tr>\n",
       "    <tr>\n",
       "      <th>4</th>\n",
       "      <td>35.0</td>\n",
       "      <td>3</td>\n",
       "      <td>0</td>\n",
       "    </tr>\n",
       "  </tbody>\n",
       "</table>\n",
       "</div>"
      ],
      "text/plain": [
       "    age  pclass  survived\n",
       "0  22.0       3         0\n",
       "1  38.0       1         1\n",
       "2  26.0       3         1\n",
       "3  35.0       1         1\n",
       "4  35.0       3         0"
      ]
     },
     "execution_count": 11,
     "metadata": {},
     "output_type": "execute_result"
    }
   ],
   "source": [
    "titanic"
   ]
  },
  {
   "cell_type": "code",
   "execution_count": 8,
   "metadata": {
    "nbgrader": {
     "grade": false,
     "grade_id": "cell-144101507c2a32e4",
     "locked": false,
     "schema_version": 3,
     "solution": true
    }
   },
   "outputs": [
    {
     "name": "stdout",
     "output_type": "stream",
     "text": [
      "0.6490224995673063\n"
     ]
    }
   ],
   "source": [
    "\n",
    "\n",
    "entropy_age = ''\n",
    "# For age < 23\n",
    "ent_young = 0  # Only one class present\n",
    "\n",
    "# For age >= 23\n",
    "p_survive_old = 3/4\n",
    "p_die_old = 1/4\n",
    "ent_old = -(p_survive_old * np.log2(p_survive_old) + p_die_old * np.log2(p_die_old))\n",
    "\n",
    "# Weighted sum\n",
    "entropy_age = (1/5 * ent_young) + (4/5 * ent_old)\n",
    "\n",
    "\n",
    "# Answer check\n",
    "print(entropy_age)"
   ]
  },
  {
   "attachments": {},
   "cell_type": "markdown",
   "metadata": {
    "nbgrader": {
     "grade": false,
     "grade_id": "cell-03ac235b78af8c64",
     "locked": true,
     "schema_version": 3,
     "solution": false
    }
   },
   "source": [
    "[Back to top](#-Index)\n",
    "\n",
    "### Problem 5\n",
    "\n",
    "#### Minimizing Entropy\n",
    "\n",
    "\n",
    "\n",
    "Use the `DecisionTreeClassifier` with `max_depth = 1` and `criterion = 'entropy'` to fit the data `X` and `y` and assign the result to `dtree`.\n",
    "\n",
    "Next, use the `plot_tree` function with arguments `dtree`, `feature_names=X.columns`, and `filled = True` to\n",
    "identify as the optimal splitting criterion. Assign the plot of the tree to `entropy_tree` below.  "
   ]
  },
  {
   "cell_type": "code",
   "execution_count": 9,
   "metadata": {
    "nbgrader": {
     "grade": false,
     "grade_id": "cell-36063834b141305b",
     "locked": false,
     "schema_version": 3,
     "solution": true
    }
   },
   "outputs": [
    {
     "data": {
      "text/plain": [
       "[Text(0.5, 0.75, 'pclass <= 2.0\\nentropy = 0.971\\nsamples = 5\\nvalue = [2, 3]'),\n",
       " Text(0.25, 0.25, 'entropy = 0.0\\nsamples = 2\\nvalue = [0, 2]'),\n",
       " Text(0.375, 0.5, 'True  '),\n",
       " Text(0.75, 0.25, 'entropy = 0.918\\nsamples = 3\\nvalue = [2, 1]'),\n",
       " Text(0.625, 0.5, '  False')]"
      ]
     },
     "execution_count": 9,
     "metadata": {},
     "output_type": "execute_result"
    },
    {
     "data": {
      "image/png": "[encoded data removed]",
      "text/plain": [
       "<Figure size 640x480 with 1 Axes>"
      ]
     },
     "metadata": {},
     "output_type": "display_data"
    }
   ],
   "source": [
    "\n",
    "\n",
    "entropy_tree = ''\n",
    "dtree = DecisionTreeClassifier(max_depth=1, criterion='entropy')\n",
    "dtree.fit(X, y)\n",
    "entropy_tree = plot_tree(dtree, feature_names=X.columns, filled=True)\n",
    "\n",
    "\n",
    "\n",
    "# Answer check\n",
    "entropy_tree"
   ]
  },
  {
   "cell_type": "markdown",
   "metadata": {},
   "source": [
    "### Summary of Entropy and Decision Trees Activity\n",
    "\n",
    "This notebook explored the practical application of entropy in decision tree splitting through 5 key exercises:\n",
    "\n",
    "1. **Computing Base Entropy**\n",
    "   - Calculated entropy for the entire Titanic dataset sample (5 records)\n",
    "   - Used the formula H = -Σ p_i * log2(p_i)\n",
    "   - Demonstrated how to handle binary classification entropy\n",
    "\n",
    "2. **Split-based Entropy**\n",
    "   - Analyzed entropy when splitting on passenger class (pclass)\n",
    "   - Showed that pure nodes (all same class) have 0 entropy\n",
    "   - Calculated entropy for mixed nodes\n",
    "\n",
    "3. **Weighted Entropy**\n",
    "   - Introduced the concept of weighted entropy based on node sizes\n",
    "   - Demonstrated how to combine entropy from multiple nodes\n",
    "   - Weighted by proportion of samples in each node\n",
    "\n",
    "4. **Alternative Split Analysis**\n",
    "   - Evaluated entropy for age-based split (age < 23)\n",
    "   - Compared different splitting criteria\n",
    "   - Showed how different features produce different entropy values\n",
    "\n",
    "5. **Decision Tree Implementation**\n",
    "   - Used sklearn's DecisionTreeClassifier with entropy criterion\n",
    "   - Visualized the optimal split using plot_tree\n",
    "   - Demonstrated how the algorithm automatically selects best split\n",
    "\n",
    "**Key Takeaways:**\n",
    "- Entropy measures the impurity/uncertainty in a dataset\n",
    "- Lower entropy indicates better splits\n",
    "- Pure nodes (single class) have 0 entropy\n",
    "- Weighted entropy considers both node purity and size\n",
    "- Decision trees automatically select splits that minimize entropy"
   ]
  }
 ],
 "metadata": {
  "celltoolbar": "Create Assignment",
  "kernelspec": {
   "display_name": "Python 3 (ipykernel)",
   "language": "python",
   "name": "python3"
  },
  "language_info": {
   "codemirror_mode": {
    "name": "ipython",
    "version": 3
   },
   "file_extension": ".py",
   "mimetype": "text/x-python",
   "name": "python",
   "nbconvert_exporter": "python",
   "pygments_lexer": "ipython3",
   "version": "3.12.7"
  },
  "widgets": {
   "application/vnd.jupyter.widget-state+json": {
    "state": {},
    "version_major": 2,
    "version_minor": 0
   }
  }
 },
 "nbformat": 4,
 "nbformat_minor": 4
}
