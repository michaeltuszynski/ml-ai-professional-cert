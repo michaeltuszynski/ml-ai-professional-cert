{
 "cells": [
  {
   "attachments": {},
   "cell_type": "markdown",
   "metadata": {
    "nbgrader": {
     "grade": false,
     "grade_id": "cell-af56e50bd68d708f",
     "locked": true,
     "schema_version": 3,
     "solution": false,
     "task": false
    }
   },
   "source": [
    "###  Colab Activity 19.1: Regression Models for Prediction\n",
    "\n",
    "**Expected Time = 60 minutes**\n",
    "\n",
    "\n",
    "This activity will use regression models to provide scores for unseen content (albums).  Using these scores, you can make recommendations for unheard albums to users. You are also given similar information as to that from the lecture in terms of *lofi* and *slick* scores for each artist.\n",
    "\n",
    "#### Index\n",
    "\n",
    "- [Problem 1](#-Problem-1)\n",
    "- [Problem 2](#-Problem-2)\n",
    "- [Problem 3](#-Problem-3)\n",
    "- [Problem 4](#-Problem-4)\n",
    "- [Problem 5](#-Problem-5)"
   ]
  },
  {
   "cell_type": "code",
   "execution_count": 1,
   "metadata": {},
   "outputs": [],
   "source": [
    "import os\n",
    "import matplotlib.pyplot as plt\n",
    "import pandas as pd\n",
    "import numpy as np\n",
    "\n",
    "from sklearn.linear_model import LinearRegression"
   ]
  },
  {
   "cell_type": "markdown",
   "metadata": {
    "nbgrader": {
     "grade": false,
     "grade_id": "cell-a4e416f01442e14f",
     "locked": true,
     "schema_version": 3,
     "solution": false,
     "task": false
    }
   },
   "source": [
    "#### Our Data\n",
    "\n",
    "This example uses a synthetic dataset of reviews from five individuals and five albums.  The dataset is loaded and displayed below. Two additional columns `lofi` and `slick` are included to rate the nature of the music. \n"
   ]
  },
  {
   "cell_type": "code",
   "execution_count": 2,
   "metadata": {},
   "outputs": [],
   "source": [
    "reviews = pd.read_csv('data/sample_reviews.csv', index_col=0)"
   ]
  },
  {
   "cell_type": "code",
   "execution_count": 3,
   "metadata": {},
   "outputs": [
    {
     "data": {
      "text/html": [
       "<div>\n",
       "<style scoped>\n",
       "    .dataframe tbody tr th:only-of-type {\n",
       "        vertical-align: middle;\n",
       "    }\n",
       "\n",
       "    .dataframe tbody tr th {\n",
       "        vertical-align: top;\n",
       "    }\n",
       "\n",
       "    .dataframe thead th {\n",
       "        text-align: right;\n",
       "    }\n",
       "</style>\n",
       "<table border=\"1\" class=\"dataframe\">\n",
       "  <thead>\n",
       "    <tr style=\"text-align: right;\">\n",
       "      <th></th>\n",
       "      <th>Alfred</th>\n",
       "      <th>Mandy</th>\n",
       "      <th>Lenny</th>\n",
       "      <th>Joan</th>\n",
       "      <th>Tino</th>\n",
       "      <th>slick</th>\n",
       "      <th>lofi</th>\n",
       "    </tr>\n",
       "  </thead>\n",
       "  <tbody>\n",
       "    <tr>\n",
       "      <th>Michael Jackson</th>\n",
       "      <td>3.0</td>\n",
       "      <td>NaN</td>\n",
       "      <td>2.0</td>\n",
       "      <td>3.0</td>\n",
       "      <td>1.0</td>\n",
       "      <td>8</td>\n",
       "      <td>2</td>\n",
       "    </tr>\n",
       "    <tr>\n",
       "      <th>Clint Black</th>\n",
       "      <td>4.0</td>\n",
       "      <td>9.0</td>\n",
       "      <td>5.0</td>\n",
       "      <td>NaN</td>\n",
       "      <td>1.0</td>\n",
       "      <td>8</td>\n",
       "      <td>2</td>\n",
       "    </tr>\n",
       "    <tr>\n",
       "      <th>Dropdead</th>\n",
       "      <td>NaN</td>\n",
       "      <td>NaN</td>\n",
       "      <td>8.0</td>\n",
       "      <td>9.0</td>\n",
       "      <td>NaN</td>\n",
       "      <td>2</td>\n",
       "      <td>9</td>\n",
       "    </tr>\n",
       "    <tr>\n",
       "      <th>Anti-Cimex</th>\n",
       "      <td>4.0</td>\n",
       "      <td>3.0</td>\n",
       "      <td>9.0</td>\n",
       "      <td>4.0</td>\n",
       "      <td>9.0</td>\n",
       "      <td>2</td>\n",
       "      <td>10</td>\n",
       "    </tr>\n",
       "    <tr>\n",
       "      <th>Cardi B</th>\n",
       "      <td>4.0</td>\n",
       "      <td>8.0</td>\n",
       "      <td>NaN</td>\n",
       "      <td>9.0</td>\n",
       "      <td>5.0</td>\n",
       "      <td>9</td>\n",
       "      <td>3</td>\n",
       "    </tr>\n",
       "  </tbody>\n",
       "</table>\n",
       "</div>"
      ],
      "text/plain": [
       "                 Alfred  Mandy  Lenny  Joan  Tino  slick  lofi\n",
       "Michael Jackson     3.0    NaN    2.0   3.0   1.0      8     2\n",
       "Clint Black         4.0    9.0    5.0   NaN   1.0      8     2\n",
       "Dropdead            NaN    NaN    8.0   9.0   NaN      2     9\n",
       "Anti-Cimex          4.0    3.0    9.0   4.0   9.0      2    10\n",
       "Cardi B             4.0    8.0    NaN   9.0   5.0      9     3"
      ]
     },
     "execution_count": 3,
     "metadata": {},
     "output_type": "execute_result"
    }
   ],
   "source": [
    "reviews.head()"
   ]
  },
  {
   "attachments": {},
   "cell_type": "markdown",
   "metadata": {
    "nbgrader": {
     "grade": false,
     "grade_id": "cell-9e923f03cdc9333d",
     "locked": true,
     "schema_version": 3,
     "solution": false,
     "task": false
    }
   },
   "source": [
    "[Back to top](#-Index)\n",
    "\n",
    "### Problem 1\n",
    "\n",
    "#### Considering Alfred\n",
    "\n",
    "Define `X` to contain only the `slick` and `lofi` columns of the `reviews` dataframe, with rows where the `Alfred` column had missing values removed. Define `y`  as a new series y that contains the non-missing values from the `Alfred` column in the `reviews` dataframe.\n",
    "\n",
    "Instantiate a new linear regression model and fit it to `X` and `y`. Assign this model to the variable `alfred_lr`.\n",
    "\n",
    "Next, create a new dataframe `newx` that contains only the rows from the `reviews` dataframe where the `Alfred` column has missing (NaN) values. Additionally, ensure that you are selecting only the `slick` and `lofi` columns from these rows.\n",
    "\n",
    "Finally, use the function `predict` on `alfred_lr` with argument equal to `newx` to calculate your predictions. Assign your result to `alfred_dd_predict`.\n"
   ]
  },
  {
   "cell_type": "code",
   "execution_count": 4,
   "metadata": {
    "nbgrader": {
     "grade": false,
     "grade_id": "cell-8dd3aaade5f4d254",
     "locked": false,
     "schema_version": 3,
     "solution": true,
     "task": false
    }
   },
   "outputs": [
    {
     "data": {
      "text/plain": [
       "array([3.75])"
      ]
     },
     "execution_count": 4,
     "metadata": {},
     "output_type": "execute_result"
    }
   ],
   "source": [
    "\n",
    "X = ''\n",
    "y = ''\n",
    "alfred_lr = ''\n",
    "alfred_dd_predict = ''\n",
    "\n",
    "# Problem 1\n",
    "# Get rows where Alfred has ratings\n",
    "X = reviews[~reviews['Alfred'].isna()][['slick', 'lofi']]\n",
    "y = reviews[~reviews['Alfred'].isna()]['Alfred']\n",
    "\n",
    "# Create and fit the model\n",
    "alfred_lr = LinearRegression()\n",
    "alfred_lr.fit(X, y)\n",
    "\n",
    "# Get rows where Alfred is missing ratings\n",
    "newx = reviews[reviews['Alfred'].isna()][['slick', 'lofi']]\n",
    "\n",
    "# Make predictions\n",
    "alfred_dd_predict = alfred_lr.predict(newx)\n",
    "\n",
    "\n",
    "### ANSWER CHECK\n",
    "alfred_dd_predict"
   ]
  },
  {
   "attachments": {},
   "cell_type": "markdown",
   "metadata": {
    "nbgrader": {
     "grade": false,
     "grade_id": "cell-a1c4b5a8d103ebb0",
     "locked": true,
     "schema_version": 3,
     "solution": false,
     "task": false
    }
   },
   "source": [
    "[Back to top](#-Index)\n",
    "\n",
    "### Problem 2\n",
    "\n",
    "#### User Vector for Alfred\n",
    "\n",
    "\n",
    "Assign the coefficients of the linear regressions model `alfred_lr` to `alfred_vector` below.\n"
   ]
  },
  {
   "cell_type": "code",
   "execution_count": 5,
   "metadata": {
    "nbgrader": {
     "grade": false,
     "grade_id": "cell-3b381e2375b1d33c",
     "locked": false,
     "schema_version": 3,
     "solution": true,
     "task": false
    }
   },
   "outputs": [
    {
     "data": {
      "text/html": [
       "<div>\n",
       "<style scoped>\n",
       "    .dataframe tbody tr th:only-of-type {\n",
       "        vertical-align: middle;\n",
       "    }\n",
       "\n",
       "    .dataframe tbody tr th {\n",
       "        vertical-align: top;\n",
       "    }\n",
       "\n",
       "    .dataframe thead th {\n",
       "        text-align: right;\n",
       "    }\n",
       "</style>\n",
       "<table border=\"1\" class=\"dataframe\">\n",
       "  <thead>\n",
       "    <tr style=\"text-align: right;\">\n",
       "      <th></th>\n",
       "      <th>slick</th>\n",
       "      <th>lofi</th>\n",
       "    </tr>\n",
       "  </thead>\n",
       "  <tbody>\n",
       "    <tr>\n",
       "      <th>Alfred</th>\n",
       "      <td>0.25</td>\n",
       "      <td>0.25</td>\n",
       "    </tr>\n",
       "  </tbody>\n",
       "</table>\n",
       "</div>"
      ],
      "text/plain": [
       "        slick  lofi\n",
       "Alfred   0.25  0.25"
      ]
     },
     "execution_count": 5,
     "metadata": {},
     "output_type": "execute_result"
    }
   ],
   "source": [
    "\n",
    "alfred_vector = ''\n",
    "# Problem 2\n",
    "alfred_vector = alfred_lr.coef_\n",
    "\n",
    "### ANSWER CHECK\n",
    "pd.DataFrame(alfred_vector.reshape(1, 2), columns = ['slick', 'lofi'], index = ['Alfred'])"
   ]
  },
  {
   "attachments": {},
   "cell_type": "markdown",
   "metadata": {
    "nbgrader": {
     "grade": false,
     "grade_id": "cell-464f03a653c20dd5",
     "locked": true,
     "schema_version": 3,
     "solution": false,
     "task": false
    }
   },
   "source": [
    "[Back to top](#-Index)\n",
    "\n",
    "### Problem 3\n",
    "\n",
    "#### Considering Tino\n",
    "\n",
    "\n",
    "Build a regression model `tino_lr` in a similar way as in Problem 1, but now for the user `Tino`.  Assign the prediction to `tino_dd_predict` as a numpy array below."
   ]
  },
  {
   "cell_type": "code",
   "execution_count": 6,
   "metadata": {
    "nbgrader": {
     "grade": false,
     "grade_id": "cell-933ef3c460668fc9",
     "locked": false,
     "schema_version": 3,
     "solution": true,
     "task": false
    }
   },
   "outputs": [
    {
     "data": {
      "text/plain": [
       "array([6.71428571])"
      ]
     },
     "execution_count": 6,
     "metadata": {},
     "output_type": "execute_result"
    }
   ],
   "source": [
    "\n",
    "tino_dd_predict = ''\n",
    "\n",
    "# Problem 3\n",
    "# Get rows where Tino has ratings\n",
    "X = reviews[~reviews['Tino'].isna()][['slick', 'lofi']]\n",
    "y = reviews[~reviews['Tino'].isna()]['Tino']\n",
    "\n",
    "# Create and fit the model\n",
    "tino_lr = LinearRegression()\n",
    "tino_lr.fit(X, y)\n",
    "\n",
    "# Get rows where Tino is missing ratings\n",
    "newx = reviews[reviews['Tino'].isna()][['slick', 'lofi']]\n",
    "\n",
    "# Make predictions\n",
    "tino_dd_predict = tino_lr.predict(newx)\n",
    "\n",
    "### ANSWER CHECK\n",
    "tino_dd_predict"
   ]
  },
  {
   "attachments": {},
   "cell_type": "markdown",
   "metadata": {
    "nbgrader": {
     "grade": false,
     "grade_id": "cell-315271ffcff37e85",
     "locked": true,
     "schema_version": 3,
     "solution": false,
     "task": false
    }
   },
   "source": [
    "[Back to top](#-Index)\n",
    "\n",
    "### Problem 4\n",
    "\n",
    "#### Tino's user vector\n",
    "\n",
    "\n",
    "Assign the coefficients of the linear regressions model `tino_lr` to `tino_vector` below. "
   ]
  },
  {
   "cell_type": "code",
   "execution_count": 7,
   "metadata": {
    "nbgrader": {
     "grade": false,
     "grade_id": "cell-36e0cafabb1c768f",
     "locked": false,
     "schema_version": 3,
     "solution": true,
     "task": false
    }
   },
   "outputs": [
    {
     "data": {
      "text/html": [
       "<div>\n",
       "<style scoped>\n",
       "    .dataframe tbody tr th:only-of-type {\n",
       "        vertical-align: middle;\n",
       "    }\n",
       "\n",
       "    .dataframe tbody tr th {\n",
       "        vertical-align: top;\n",
       "    }\n",
       "\n",
       "    .dataframe thead th {\n",
       "        text-align: right;\n",
       "    }\n",
       "</style>\n",
       "<table border=\"1\" class=\"dataframe\">\n",
       "  <thead>\n",
       "    <tr style=\"text-align: right;\">\n",
       "      <th></th>\n",
       "      <th>slick</th>\n",
       "      <th>lofi</th>\n",
       "    </tr>\n",
       "  </thead>\n",
       "  <tbody>\n",
       "    <tr>\n",
       "      <th>Tino</th>\n",
       "      <td>1.714286</td>\n",
       "      <td>2.285714</td>\n",
       "    </tr>\n",
       "  </tbody>\n",
       "</table>\n",
       "</div>"
      ],
      "text/plain": [
       "         slick      lofi\n",
       "Tino  1.714286  2.285714"
      ]
     },
     "execution_count": 7,
     "metadata": {},
     "output_type": "execute_result"
    }
   ],
   "source": [
    "\n",
    "tino_vector = ''\n",
    "# Problem 4\n",
    "tino_vector = tino_lr.coef_\n",
    "\n",
    "### ANSWER CHECK\n",
    "pd.DataFrame(tino_vector.reshape(1, 2), columns = ['slick', 'lofi'], index = ['Tino'])"
   ]
  },
  {
   "attachments": {},
   "cell_type": "markdown",
   "metadata": {
    "nbgrader": {
     "grade": false,
     "grade_id": "cell-7726f1df1de0b11d",
     "locked": true,
     "schema_version": 3,
     "solution": false,
     "task": false
    }
   },
   "source": [
    "[Back to top](#-Index)\n",
    "\n",
    "### Problem 5\n",
    "\n",
    "#### Completing the Table\n",
    "\n",
    "\n",
    "Write a `for` loop to iterate over each column of `reviews` and perform the prediction process using the same columns of `slick` and `lofi` as inputs. \n",
    "\n",
    "Create a DataFrame called `reviews_df_full` and complete the scores for each individual. "
   ]
  },
  {
   "cell_type": "code",
   "execution_count": 8,
   "metadata": {
    "nbgrader": {
     "grade": false,
     "grade_id": "cell-13ba7e6354620eac",
     "locked": false,
     "schema_version": 3,
     "solution": true,
     "task": false
    }
   },
   "outputs": [
    {
     "data": {
      "text/html": [
       "<div>\n",
       "<style scoped>\n",
       "    .dataframe tbody tr th:only-of-type {\n",
       "        vertical-align: middle;\n",
       "    }\n",
       "\n",
       "    .dataframe tbody tr th {\n",
       "        vertical-align: top;\n",
       "    }\n",
       "\n",
       "    .dataframe thead th {\n",
       "        text-align: right;\n",
       "    }\n",
       "</style>\n",
       "<table border=\"1\" class=\"dataframe\">\n",
       "  <thead>\n",
       "    <tr style=\"text-align: right;\">\n",
       "      <th></th>\n",
       "      <th>Alfred</th>\n",
       "      <th>Mandy</th>\n",
       "      <th>Lenny</th>\n",
       "      <th>Joan</th>\n",
       "      <th>Tino</th>\n",
       "      <th>slick</th>\n",
       "      <th>lofi</th>\n",
       "    </tr>\n",
       "  </thead>\n",
       "  <tbody>\n",
       "    <tr>\n",
       "      <th>Michael Jackson</th>\n",
       "      <td>3.00</td>\n",
       "      <td>9.000000</td>\n",
       "      <td>2.000000</td>\n",
       "      <td>3.000000</td>\n",
       "      <td>1.000000</td>\n",
       "      <td>8</td>\n",
       "      <td>2</td>\n",
       "    </tr>\n",
       "    <tr>\n",
       "      <th>Clint Black</th>\n",
       "      <td>4.00</td>\n",
       "      <td>9.000000</td>\n",
       "      <td>5.000000</td>\n",
       "      <td>4.664444</td>\n",
       "      <td>1.000000</td>\n",
       "      <td>8</td>\n",
       "      <td>2</td>\n",
       "    </tr>\n",
       "    <tr>\n",
       "      <th>Dropdead</th>\n",
       "      <td>3.75</td>\n",
       "      <td>3.857143</td>\n",
       "      <td>8.000000</td>\n",
       "      <td>9.000000</td>\n",
       "      <td>6.714286</td>\n",
       "      <td>2</td>\n",
       "      <td>9</td>\n",
       "    </tr>\n",
       "    <tr>\n",
       "      <th>Anti-Cimex</th>\n",
       "      <td>4.00</td>\n",
       "      <td>3.000000</td>\n",
       "      <td>9.000000</td>\n",
       "      <td>4.000000</td>\n",
       "      <td>9.000000</td>\n",
       "      <td>2</td>\n",
       "      <td>10</td>\n",
       "    </tr>\n",
       "    <tr>\n",
       "      <th>Cardi B</th>\n",
       "      <td>4.00</td>\n",
       "      <td>8.000000</td>\n",
       "      <td>4.916667</td>\n",
       "      <td>9.000000</td>\n",
       "      <td>5.000000</td>\n",
       "      <td>9</td>\n",
       "      <td>3</td>\n",
       "    </tr>\n",
       "  </tbody>\n",
       "</table>\n",
       "</div>"
      ],
      "text/plain": [
       "                 Alfred     Mandy     Lenny      Joan      Tino  slick  lofi\n",
       "Michael Jackson    3.00  9.000000  2.000000  3.000000  1.000000      8     2\n",
       "Clint Black        4.00  9.000000  5.000000  4.664444  1.000000      8     2\n",
       "Dropdead           3.75  3.857143  8.000000  9.000000  6.714286      2     9\n",
       "Anti-Cimex         4.00  3.000000  9.000000  4.000000  9.000000      2    10\n",
       "Cardi B            4.00  8.000000  4.916667  9.000000  5.000000      9     3"
      ]
     },
     "execution_count": 8,
     "metadata": {},
     "output_type": "execute_result"
    }
   ],
   "source": [
    "\n",
    "reviews_df_full = ''\n",
    "\n",
    "# Problem 5\n",
    "reviews_df_full = reviews.copy()\n",
    "\n",
    "# Iterate through each user column\n",
    "for user in ['Alfred', 'Mandy', 'Lenny', 'Joan', 'Tino']:\n",
    "    # Skip slick and lofi columns\n",
    "    if user in ['slick', 'lofi']:\n",
    "        continue\n",
    "\n",
    "    # Get rows where user has ratings\n",
    "    mask = ~reviews[user].isna()\n",
    "    X = reviews[mask][['slick', 'lofi']]\n",
    "    y = reviews[mask][user]\n",
    "\n",
    "    # Only proceed if there are missing values to predict\n",
    "    if not reviews[~mask].empty:\n",
    "        # Fit model\n",
    "        model = LinearRegression()\n",
    "        model.fit(X, y)\n",
    "\n",
    "        # Make predictions\n",
    "        newx = reviews[~mask][['slick', 'lofi']]\n",
    "        predictions = model.predict(newx)\n",
    "\n",
    "        # Fill in predictions\n",
    "        reviews_df_full.loc[~mask, user] = predictions\n",
    "\n",
    "### ANSWER CHECK\n",
    "reviews_df_full"
   ]
  },
  {
   "cell_type": "markdown",
   "metadata": {},
   "source": [
    "### Summary of Exercises\n",
    "\n",
    "This notebook demonstrates the implementation of content-based filtering for music recommendations using regression models. The exercises progress through building and understanding a recommendation system step by step.\n",
    "\n",
    "#### Dataset Structure\n",
    "- Users: 5 individuals (Alfred, Mandy, Lenny, Joan, Tino)\n",
    "- Items: 5 music artists\n",
    "- Features: 'slick' and 'lofi' scores for each artist\n",
    "- Target: User ratings (with some missing values)\n",
    "\n",
    "#### Problem Progression\n",
    "1. **Single User Model**: Building a regression model for Alfred using slick/lofi features\n",
    "2. **User Vector Analysis**: Extracting Alfred's preference vector from model coefficients\n",
    "3. **Model Replication**: Building a similar model for Tino\n",
    "4. **Comparative Analysis**: Understanding Tino's preference vector\n",
    "5. **System Scaling**: Generalizing the approach to all users and completing the rating matrix\n",
    "\n",
    "#### Key Takeaways\n",
    "- Content-based filtering can predict user preferences based on item features\n",
    "- User vectors (model coefficients) represent individual taste profiles\n",
    "- Linear regression can effectively model the relationship between item features and user preferences\n",
    "- The approach can be systematically scaled to handle multiple users and missing ratings\n",
    "- The final result is a complete recommendation matrix that preserves existing ratings while filling in predictions for missing values\n",
    "\n",
    "#### Technical Implementation\n",
    "- Uses scikit-learn's LinearRegression\n",
    "- Leverages pandas for data manipulation\n",
    "- Demonstrates handling of missing values (NaN)\n",
    "- Shows how to extract and interpret model coefficients"
   ]
  }
 ],
 "metadata": {
  "celltoolbar": "Create Assignment",
  "kernelspec": {
   "display_name": "codio",
   "language": "python",
   "name": "python3"
  },
  "language_info": {
   "codemirror_mode": {
    "name": "ipython",
    "version": 3
   },
   "file_extension": ".py",
   "mimetype": "text/x-python",
   "name": "python",
   "nbconvert_exporter": "python",
   "pygments_lexer": "ipython3",
   "version": "3.12.7"
  }
 },
 "nbformat": 4,
 "nbformat_minor": 4
}
