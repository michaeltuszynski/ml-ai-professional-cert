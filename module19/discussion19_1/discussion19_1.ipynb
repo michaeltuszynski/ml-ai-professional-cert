{
 "cells": [
  {
   "attachments": {},
   "cell_type": "markdown",
   "metadata": {},
   "source": [
    "### Required Discussion 19:1: Building a Recommender System with SURPRISE\n",
    "\n",
    "This discussion focuses on exploring additional algorithms with the `Suprise` library to generate recommendations.  Your goal is to identify the optimal algorithm by minimizing the mean squared error using cross validation. You are also going to select a dataset to use from [grouplens](https://grouplens.org/datasets/movielens/) example datasets.  \n",
    "\n",
    "To begin, head over to [grouplens](https://grouplens.org/datasets/movielens/) and examine the different datasets available.  Choose one so that it is easy to create the data as expected in `Surprise` with user, item, and rating information.  Then, compare the performance of at least the `KNNBasic`, `SVD`, `NMF`, `SlopeOne`, and `CoClustering` algorithms to build your recommendations.  For more information on the algorithms see the documentation for the algorithm package [here](https://surprise.readthedocs.io/en/stable/prediction_algorithms_package.html).\n",
    "\n",
    "Share the results of your investigation and include the results of your cross validation and a basic description of your dataset with your peers.\n"
   ]
  },
  {
   "cell_type": "code",
   "execution_count": 2,
   "metadata": {},
   "outputs": [],
   "source": [
    "from surprise import Dataset, Reader, SVD, NMF, KNNBasic, SlopeOne, CoClustering\n",
    "from surprise.model_selection import cross_validate\n",
    "\n",
    "import pandas as pd"
   ]
  },
  {
   "cell_type": "code",
   "execution_count": 3,
   "metadata": {},
   "outputs": [
    {
     "name": "stdout",
     "output_type": "stream",
     "text": [
      "Running cross-validation for SVD...\n",
      "Evaluating RMSE, MAE of algorithm SVD on 5 split(s).\n",
      "\n",
      "                  Fold 1  Fold 2  Fold 3  Fold 4  Fold 5  Mean    Std     \n",
      "RMSE (testset)    0.9363  0.9386  0.9385  0.9372  0.9336  0.9369  0.0018  \n",
      "MAE (testset)     0.7400  0.7428  0.7375  0.7383  0.7347  0.7387  0.0027  \n",
      "Fit time          0.39    0.39    0.40    0.38    0.37    0.38    0.01    \n",
      "Test time         0.04    0.04    0.04    0.04    0.07    0.05    0.01    \n",
      "Running cross-validation for NMF...\n",
      "Evaluating RMSE, MAE of algorithm NMF on 5 split(s).\n",
      "\n",
      "                  Fold 1  Fold 2  Fold 3  Fold 4  Fold 5  Mean    Std     \n",
      "RMSE (testset)    0.9655  0.9678  0.9626  0.9608  0.9703  0.9654  0.0034  \n",
      "MAE (testset)     0.7608  0.7613  0.7550  0.7535  0.7622  0.7586  0.0036  \n",
      "Fit time          0.58    0.59    0.62    0.57    0.56    0.58    0.02    \n",
      "Test time         0.04    0.07    0.04    0.07    0.04    0.05    0.02    \n",
      "Running cross-validation for KNNBasic...\n",
      "Computing the msd similarity matrix...\n",
      "Done computing similarity matrix.\n",
      "Computing the msd similarity matrix...\n",
      "Done computing similarity matrix.\n",
      "Computing the msd similarity matrix...\n",
      "Done computing similarity matrix.\n",
      "Computing the msd similarity matrix...\n",
      "Done computing similarity matrix.\n",
      "Computing the msd similarity matrix...\n",
      "Done computing similarity matrix.\n",
      "Evaluating RMSE, MAE of algorithm KNNBasic on 5 split(s).\n",
      "\n",
      "                  Fold 1  Fold 2  Fold 3  Fold 4  Fold 5  Mean    Std     \n",
      "RMSE (testset)    0.9681  0.9747  0.9883  0.9787  0.9801  0.9780  0.0066  \n",
      "MAE (testset)     0.7645  0.7692  0.7808  0.7738  0.7752  0.7727  0.0055  \n",
      "Fit time          0.10    0.11    0.11    0.10    0.11    0.11    0.00    \n",
      "Test time         1.07    1.04    1.05    1.06    1.06    1.05    0.01    \n",
      "Running cross-validation for SlopeOne...\n",
      "Evaluating RMSE, MAE of algorithm SlopeOne on 5 split(s).\n",
      "\n",
      "                  Fold 1  Fold 2  Fold 3  Fold 4  Fold 5  Mean    Std     \n",
      "RMSE (testset)    0.9459  0.9448  0.9379  0.9501  0.9436  0.9445  0.0039  \n",
      "MAE (testset)     0.7429  0.7433  0.7368  0.7470  0.7415  0.7423  0.0033  \n",
      "Fit time          0.27    0.28    0.29    0.29    0.27    0.28    0.01    \n",
      "Test time         0.89    1.00    0.93    0.93    0.94    0.94    0.04    \n",
      "Running cross-validation for CoClustering...\n",
      "Evaluating RMSE, MAE of algorithm CoClustering on 5 split(s).\n",
      "\n",
      "                  Fold 1  Fold 2  Fold 3  Fold 4  Fold 5  Mean    Std     \n",
      "RMSE (testset)    0.9666  0.9589  0.9722  0.9543  0.9653  0.9635  0.0062  \n",
      "MAE (testset)     0.7569  0.7492  0.7617  0.7465  0.7576  0.7544  0.0057  \n",
      "Fit time          0.51    0.49    0.50    0.49    0.49    0.49    0.01    \n",
      "Test time         0.04    0.08    0.04    0.08    0.03    0.05    0.02    \n",
      "\n",
      "Final Results:\n",
      "                  RMSE       MSE       MAE\n",
      "SVD           0.936851  0.877690  0.738671\n",
      "SlopeOne      0.944461  0.892007  0.742315\n",
      "CoClustering  0.963458  0.928252  0.754359\n",
      "NMF           0.965381  0.931960  0.758565\n",
      "KNNBasic      0.977992  0.956468  0.772685\n"
     ]
    }
   ],
   "source": [
    "# Load the MovieLens 100k dataset\n",
    "reader = Reader(line_format='user item rating timestamp', sep='\\t')\n",
    "data = Dataset.load_from_file('data/ml-100k/u.data', reader=reader)\n",
    "\n",
    "# Create a list of algorithms to test\n",
    "algorithms = {\n",
    "    'SVD': SVD(),\n",
    "    'NMF': NMF(),\n",
    "    'KNNBasic': KNNBasic(),\n",
    "    'SlopeOne': SlopeOne(),\n",
    "    'CoClustering': CoClustering()\n",
    "}\n",
    "\n",
    "# Dictionary to store results\n",
    "results = {}\n",
    "\n",
    "# Perform cross-validation for each algorithm\n",
    "for name, algo in algorithms.items():\n",
    "    print(f\"Running cross-validation for {name}...\")\n",
    "    cv_results = cross_validate(algo, data, measures=['RMSE', 'MAE'], cv=5, verbose=True)\n",
    "    results[name] = {\n",
    "        'RMSE': cv_results['test_rmse'].mean(),\n",
    "        'MSE': cv_results['test_rmse'].mean() ** 2,  # Calculate MSE from RMSE\n",
    "        'MAE': cv_results['test_mae'].mean()\n",
    "    }\n",
    "\n",
    "# Create a DataFrame to display results\n",
    "results_df = pd.DataFrame(results).T\n",
    "results_df = results_df.sort_values('MSE')  # Sort by MSE since that's our primary metric\n",
    "print(\"\\nFinal Results:\")\n",
    "print(results_df)"
   ]
  },
  {
   "cell_type": "markdown",
   "metadata": {},
   "source": [
    "## Analysis Summary\n",
    "\n",
    "We evaluated five collaborative filtering algorithms on the MovieLens 100K dataset, which contains 100,000 ratings from 943 users across 1,682 movies. Using 5-fold cross-validation, we compared the performance of SVD, NMF, KNNBasic, SlopeOne, and CoClustering algorithms. SVD emerged as the best performer with the lowest MSE (0.878) and RMSE (0.937), followed by SlopeOne and CoClustering. KNNBasic, despite its simplicity, showed the highest error rates. All algorithms maintained relatively consistent performance across folds, with SVD showing particularly stable results (std dev: 0.0018). While the performance differences were modest, with RMSE values ranging from 0.937 to 0.978, the computational requirements varied significantly. SVD combined superior accuracy with efficient processing, while KNNBasic required longer computation times due to similarity matrix calculations. These results suggest that matrix factorization approaches, particularly SVD, offer the best balance of accuracy and efficiency for this recommendation task."
   ]
  },
  {
   "cell_type": "markdown",
   "metadata": {},
   "source": [
    "## Analysis Summary\n",
    "\n",
    "We explored the MovieLens 100K dataset, which captures 100,000 movie ratings from 943 users rating 1,682 different movies on a 1-5 scale. Looking at how different recommendation algorithms handle this data, we found some interesting patterns. We put five popular algorithms through their paces using cross-validation, and SVD really stood out from the pack. It not only achieved the best accuracy with an MSE of 0.878, but it was also remarkably consistent across different data splits. SlopeOne came in as a solid runner-up, while KNNBasic struggled to keep up despite its straightforward approach.\n",
    "\n",
    "What's particularly interesting is how the computational demands varied. While KNNBasic seems simple on paper, it actually took the longest to run due to all its similarity calculations. SVD, on the other hand, managed to be both fast and accurate. The performance gap between the best and worst algorithms wasn't huge (RMSE ranging from 0.937 to 0.978), but when you're dealing with movie recommendations, these small improvements can make a real difference. Based on these results, SVD looks like the way to go if you want a good balance of accuracy and speed."
   ]
  }
 ],
 "metadata": {
  "kernelspec": {
   "display_name": "codio",
   "language": "python",
   "name": "python3"
  },
  "language_info": {
   "codemirror_mode": {
    "name": "ipython",
    "version": 3
   },
   "file_extension": ".py",
   "mimetype": "text/x-python",
   "name": "python",
   "nbconvert_exporter": "python",
   "pygments_lexer": "ipython3",
   "version": "3.12.7"
  }
 },
 "nbformat": 4,
 "nbformat_minor": 4
}
