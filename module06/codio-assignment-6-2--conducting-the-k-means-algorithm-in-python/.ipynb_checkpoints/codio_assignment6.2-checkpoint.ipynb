{
 "cells": [
  {
   "cell_type": "markdown",
   "metadata": {
    "deletable": false,
    "editable": false,
    "nbgrader": {
     "checksum": "366161077dbc6fb8d2132adfdc71a4cb",
     "grade": false,
     "grade_id": "cell-39494bfb12322155",
     "locked": true,
     "schema_version": 1,
     "solution": false
    }
   },
   "source": [
    "## Required Codio Assignment 6.2: Applying the K-Means Algorithm in Python \n",
    "\n",
    "**Expected Time: 120 Minutes**\n",
    "\n",
    "**Total Points: 28 Points**\n",
    "\n",
    "This exercise focuses on initially choosing the center points for each of the clusters.  Given three different datasets, you should choose cluster centers that make sense given the data.  Here, we will choose the centers given specific options.  Think about a more general approach to selecting the centers as you work through these examples. \n",
    "\n",
    "Next, you will be asked to compute the within cluster sum of squares is computed.  Once the sum of squares for each cluster center and observation are determined, a label is chosen based on the smallest sum of squares.  Finally, within each of these clusters the centers are updated based on the within cluster mean.  Formally, the KMeans objective function is:\n",
    "\n",
    "$${\\displaystyle {\\underset {\\mathbf {S} }{\\operatorname {arg\\,min} }}\\sum _{i=1}^{k}\\sum _{\\mathbf {x} \\in S_{i}}\\left\\|\\mathbf {x} -{\\boldsymbol {\\mu }}_{i}\\right\\|^{2}={\\underset {\\mathbf {S} }{\\operatorname {arg\\,min} }}\\sum _{i=1}^{k}|S_{i}|\\operatorname {Var} S_{i}}$$\n",
    "\n",
    "\n",
    "In the last part of this assignment, you will focus on using `sklearn` to perform `KMeans` clustering.  You will compare initialization methods and determine the \"right\" number of clusters using an elbow plot.  The data are again produced using `sklearn`.  \n",
    "\n",
    "## Index:\n",
    "\n",
    "- [Problem 1](#Problem-1)\n",
    "- [Problem 2](#Problem-2)\n",
    "- [Problem 3](#Problem-3)\n",
    "- [Problem 4](#Problem-4)\n",
    "- [Problem 5](#Problem-5)\n",
    "- [Problem 6](#Problem-6)\n",
    "- [Problem 7](#Problem-7)\n",
    "- [Problem 8](#Problem-8)\n",
    "- [Problem 9](#Problem-9)\n",
    "- [Problem 10](#Problem-10)"
   ]
  },
  {
   "cell_type": "code",
   "execution_count": 4,
   "metadata": {},
   "outputs": [],
   "source": [
    "from sklearn.datasets import make_blobs, make_circles, make_moons\n",
    "import numpy as np\n",
    "import pandas as pd\n",
    "import matplotlib.pyplot as plt\n",
    "import seaborn as sns\n",
    "from sklearn.cluster import KMeans\n",
    "from mpl_toolkits import mplot3d"
   ]
  },
  {
   "cell_type": "markdown",
   "metadata": {
    "deletable": false,
    "editable": false,
    "nbgrader": {
     "checksum": "ab9e10eb89abc3b0ba4ef9a3650ee419",
     "grade": false,
     "grade_id": "cell-29903dfa4fbab064",
     "locked": true,
     "schema_version": 1,
     "solution": false
    }
   },
   "source": [
    "### Creating Data\n",
    "\n",
    "Using the `sklearn` dataset utilities we create and plot three datasets below.  Your task will be to determine a starting place for the clusters by choosing appropriate cluster centers.  The clusters have been colored according to the labels created for demonstration purposes.  Recall that in a real clustering scenario you won't have labels on your data."
   ]
  },
  {
   "cell_type": "code",
   "execution_count": 5,
   "metadata": {},
   "outputs": [],
   "source": [
    "n_samples = 1500"
   ]
  },
  {
   "cell_type": "markdown",
   "metadata": {
    "deletable": false,
    "editable": false,
    "nbgrader": {
     "checksum": "abb6719ed3666971340cf5203c8ede17",
     "grade": false,
     "grade_id": "cell-9c04807e5f29c7de",
     "locked": true,
     "schema_version": 1,
     "solution": false
    }
   },
   "source": [
    "[Back to top](#Index:) \n",
    "\n",
    "## Problem 1\n",
    "\n",
    "### Choosing Initial Centers\n",
    "\n",
    "**6 Points**\n",
    "\n",
    "Which of the following options do you think would serve as good initial cluster centers for the dataset \"Cluster Group I\" visualized below.  Enter your answer as a string to `ans1` below.  \n",
    "\n",
    "```\n",
    "a) (-2, -5), (2, -5), (10, -5)\n",
    "b) (-5, -5), (2, 2), (2, -7)\n",
    "c) (-2, 5), (8, 5), (10, -5)\n",
    "```"
   ]
  },
  {
   "cell_type": "code",
   "execution_count": 6,
   "metadata": {},
   "outputs": [
    {
     "data": {
      "image/png": "[encoded data removed]",
      "text/plain": [
       "<Figure size 432x288 with 1 Axes>"
      ]
     },
     "metadata": {
      "needs_background": "light"
     },
     "output_type": "display_data"
    }
   ],
   "source": [
    "X1, Y1 = make_blobs(n_samples=n_samples, random_state=24)\n",
    "plt.scatter(X1[:, 0], X1[:, 1], c = Y1)\n",
    "plt.title('Cluster Group I')\n",
    "plt.grid();"
   ]
  },
  {
   "cell_type": "code",
   "execution_count": 7,
   "metadata": {
    "deletable": false,
    "nbgrader": {
     "checksum": "ba32ed45c4521c47db0d748482336067",
     "grade": false,
     "grade_id": "cell-86f309c710956921",
     "locked": false,
     "schema_version": 1,
     "solution": true
    }
   },
   "outputs": [],
   "source": [
    "### GRADED\n",
    "\n",
    "ans1 = ''\n",
    "\n",
    "# YOUR CODE HERE\n",
    "ans1 = 'c'"
   ]
  },
  {
   "cell_type": "code",
   "execution_count": null,
   "metadata": {
    "deletable": false,
    "editable": false,
    "nbgrader": {
     "checksum": "d3f685fd255af5990e68b0c3724c6ada",
     "grade": true,
     "grade_id": "cell-2b44e3e8cb76e2b3",
     "locked": true,
     "points": 6,
     "schema_version": 1,
     "solution": false
    }
   },
   "outputs": [],
   "source": []
  },
  {
   "cell_type": "markdown",
   "metadata": {
    "deletable": false,
    "editable": false,
    "nbgrader": {
     "checksum": "7370661f28bc02c2a414e3f513e5a770",
     "grade": false,
     "grade_id": "cell-b97f37ada7d134e9",
     "locked": true,
     "schema_version": 1,
     "solution": false
    }
   },
   "source": [
    "[Back to top](#Index:) \n",
    "\n",
    "## Problem 2\n",
    "\n",
    "## Choosing Initial Centers\n",
    "\n",
    "**6 Points**\n",
    "\n",
    "Below, a second dataset is created.  Again, your task is to identify what appropriate starting centers could be.  Assign your answer as a string to `ans2` below.\n",
    "\n",
    "```\n",
    "a) (-6, 5), (-1, 5), (3, 5)\n",
    "b) (-4, -7), (1, 6), (3, -7)\n",
    "c) (-6, 6), (0, 7), (6, 7)\n",
    "```"
   ]
  },
  {
   "cell_type": "code",
   "execution_count": 8,
   "metadata": {},
   "outputs": [
    {
     "data": {
      "image/png": "[encoded data removed]",
      "text/plain": [
       "<Figure size 432x288 with 1 Axes>"
      ]
     },
     "metadata": {
      "needs_background": "light"
     },
     "output_type": "display_data"
    }
   ],
   "source": [
    "X2, Y2 = make_blobs(n_samples=n_samples, random_state=111)\n",
    "plt.scatter(X2[:, 0], X2[:, 1], c = Y2)\n",
    "plt.grid()\n",
    "plt.title('Cluster Group II');"
   ]
  },
  {
   "cell_type": "code",
   "execution_count": 9,
   "metadata": {
    "deletable": false,
    "nbgrader": {
     "checksum": "e7a0b4897aef9abe251cbf704e5ebc64",
     "grade": false,
     "grade_id": "cell-26ca50d50e1b1d8c",
     "locked": false,
     "schema_version": 1,
     "solution": true
    }
   },
   "outputs": [],
   "source": [
    "### GRADED\n",
    "\n",
    "ans2 = ''\n",
    "\n",
    "# YOUR CODE HERE\n",
    "ans2 = 'b'"
   ]
  },
  {
   "cell_type": "code",
   "execution_count": null,
   "metadata": {
    "deletable": false,
    "editable": false,
    "nbgrader": {
     "checksum": "cf919e897d5868520a0486d47330843a",
     "grade": true,
     "grade_id": "cell-ad948a8c7dce2588",
     "locked": true,
     "points": 6,
     "schema_version": 1,
     "solution": false
    }
   },
   "outputs": [],
   "source": []
  },
  {
   "cell_type": "markdown",
   "metadata": {
    "deletable": false,
    "editable": false,
    "nbgrader": {
     "checksum": "7d3054e1594519542a5e870901192c11",
     "grade": false,
     "grade_id": "cell-cfe40ec5b5fd2fb2",
     "locked": true,
     "schema_version": 1,
     "solution": false
    }
   },
   "source": [
    "[Back to top](#Index:) \n",
    "\n",
    "## Problem 3\n",
    "\n",
    "### Choosing Initial Centers\n",
    "\n",
    "**6 Points**\n",
    "\n",
    "Once again, given the data below, choose the best initial centers for clustering.  Assign your answer as a string to `ans3` below.  \n",
    "\n",
    "```\n",
    "a) (-5, -10), (7, 0), (10, 0)\n",
    "b) (-5, -10), (7, 10), (10, 10)\n",
    "c) (-5, -10), (7, 0), (10, 10)\n",
    "```"
   ]
  },
  {
   "cell_type": "code",
   "execution_count": 10,
   "metadata": {},
   "outputs": [
    {
     "data": {
      "image/png": "[encoded data removed]",
      "text/plain": [
       "<Figure size 432x288 with 1 Axes>"
      ]
     },
     "metadata": {
      "needs_background": "light"
     },
     "output_type": "display_data"
    }
   ],
   "source": [
    "X3, Y3 = make_blobs(n_samples=n_samples, random_state=8)\n",
    "plt.scatter(X3[:, 0], X3[:, 1], c = Y3)\n",
    "plt.grid()\n",
    "plt.title('Cluster Group III');"
   ]
  },
  {
   "cell_type": "code",
   "execution_count": 11,
   "metadata": {
    "deletable": false,
    "nbgrader": {
     "checksum": "01ac94bef0d4eff7f8f22503280864dd",
     "grade": false,
     "grade_id": "cell-6b0c978c8c798aed",
     "locked": false,
     "schema_version": 1,
     "solution": true
    }
   },
   "outputs": [],
   "source": [
    "### GRADED\n",
    "\n",
    "ans3 = ''\n",
    "\n",
    "# YOUR CODE HERE\n",
    "ans3 = 'c'"
   ]
  },
  {
   "cell_type": "code",
   "execution_count": null,
   "metadata": {
    "deletable": false,
    "editable": false,
    "nbgrader": {
     "checksum": "621fb821bd85785406814d496411993e",
     "grade": true,
     "grade_id": "cell-28f3484636d392b6",
     "locked": true,
     "points": 6,
     "schema_version": 1,
     "solution": false
    }
   },
   "outputs": [],
   "source": []
  },
  {
   "cell_type": "markdown",
   "metadata": {
    "deletable": false,
    "editable": false,
    "nbgrader": {
     "checksum": "35ced11c9688b81d25b1bd9b3e4eb4c7",
     "grade": false,
     "grade_id": "cell-530e69693f624f62",
     "locked": true,
     "schema_version": 1,
     "solution": false
    }
   },
   "source": [
    "For the next part of the assignment, you will use the built in dataset generator from `sklearn` to create a small dataset to demonstrate a simple case of KMeans clustering.  Below, the data are created and plotted.  It seems there are three clusters so we will assume there should be three cluster centers."
   ]
  },
  {
   "cell_type": "code",
   "execution_count": 12,
   "metadata": {},
   "outputs": [
    {
     "data": {
      "image/png": "[encoded data removed]",
      "text/plain": [
       "<Figure size 432x288 with 1 Axes>"
      ]
     },
     "metadata": {
      "needs_background": "light"
     },
     "output_type": "display_data"
    }
   ],
   "source": [
    "X1, _ = make_blobs(n_samples=20, random_state=42)\n",
    "plt.scatter(X1[:, 0], X1[:, 1])\n",
    "plt.title('Small Sample Dataset')\n",
    "plt.grid();"
   ]
  },
  {
   "cell_type": "markdown",
   "metadata": {
    "deletable": false,
    "editable": false,
    "nbgrader": {
     "checksum": "097ab6aa557987f84ff77d2cd5ca2b0c",
     "grade": false,
     "grade_id": "cell-283b4ea5f4d481fe",
     "locked": true,
     "schema_version": 1,
     "solution": false
    }
   },
   "source": [
    "### Creating a `DataFrame`\n",
    "\n",
    "Using `pandas`, a `DataFrame` is created to hold the small dataset.  The features are named `X1` and `X2`.  The `DataFrame` is named `df`."
   ]
  },
  {
   "cell_type": "code",
   "execution_count": 13,
   "metadata": {},
   "outputs": [
    {
     "data": {
      "text/html": [
       "<div>\n",
       "<style scoped>\n",
       "    .dataframe tbody tr th:only-of-type {\n",
       "        vertical-align: middle;\n",
       "    }\n",
       "\n",
       "    .dataframe tbody tr th {\n",
       "        vertical-align: top;\n",
       "    }\n",
       "\n",
       "    .dataframe thead th {\n",
       "        text-align: right;\n",
       "    }\n",
       "</style>\n",
       "<table border=\"1\" class=\"dataframe\">\n",
       "  <thead>\n",
       "    <tr style=\"text-align: right;\">\n",
       "      <th></th>\n",
       "      <th>X1</th>\n",
       "      <th>X2</th>\n",
       "    </tr>\n",
       "  </thead>\n",
       "  <tbody>\n",
       "    <tr>\n",
       "      <th>0</th>\n",
       "      <td>-2.978672</td>\n",
       "      <td>9.556846</td>\n",
       "    </tr>\n",
       "    <tr>\n",
       "      <th>1</th>\n",
       "      <td>-4.234115</td>\n",
       "      <td>8.451999</td>\n",
       "    </tr>\n",
       "    <tr>\n",
       "      <th>2</th>\n",
       "      <td>-3.522029</td>\n",
       "      <td>9.328533</td>\n",
       "    </tr>\n",
       "    <tr>\n",
       "      <th>3</th>\n",
       "      <td>-2.267235</td>\n",
       "      <td>7.101006</td>\n",
       "    </tr>\n",
       "    <tr>\n",
       "      <th>4</th>\n",
       "      <td>3.488885</td>\n",
       "      <td>2.348868</td>\n",
       "    </tr>\n",
       "  </tbody>\n",
       "</table>\n",
       "</div>"
      ],
      "text/plain": [
       "         X1        X2\n",
       "0 -2.978672  9.556846\n",
       "1 -4.234115  8.451999\n",
       "2 -3.522029  9.328533\n",
       "3 -2.267235  7.101006\n",
       "4  3.488885  2.348868"
      ]
     },
     "execution_count": 13,
     "metadata": {},
     "output_type": "execute_result"
    }
   ],
   "source": [
    "#create DataFrame of samples\n",
    "df = pd.DataFrame(X1, columns = ['X1', 'X2'])\n",
    "df.head()"
   ]
  },
  {
   "cell_type": "markdown",
   "metadata": {
    "deletable": false,
    "editable": false,
    "nbgrader": {
     "checksum": "6bc0ca88fd421d96acabc956a940b38d",
     "grade": false,
     "grade_id": "cell-a8a3558761bb06df",
     "locked": true,
     "schema_version": 1,
     "solution": false
    }
   },
   "source": [
    "### Randomly Selecting Centers\n",
    "\n",
    "As noted, we will make initial cluster centroid assignments based on a random selection of data from the samples.  Below, the `.sample` method from the DataFrame is used to select three points at random.  These are assigned to the variable `centroids` as a DataFrame."
   ]
  },
  {
   "cell_type": "code",
   "execution_count": 14,
   "metadata": {},
   "outputs": [
    {
     "data": {
      "text/html": [
       "<div>\n",
       "<style scoped>\n",
       "    .dataframe tbody tr th:only-of-type {\n",
       "        vertical-align: middle;\n",
       "    }\n",
       "\n",
       "    .dataframe tbody tr th {\n",
       "        vertical-align: top;\n",
       "    }\n",
       "\n",
       "    .dataframe thead th {\n",
       "        text-align: right;\n",
       "    }\n",
       "</style>\n",
       "<table border=\"1\" class=\"dataframe\">\n",
       "  <thead>\n",
       "    <tr style=\"text-align: right;\">\n",
       "      <th></th>\n",
       "      <th>X1</th>\n",
       "      <th>X2</th>\n",
       "    </tr>\n",
       "  </thead>\n",
       "  <tbody>\n",
       "    <tr>\n",
       "      <th>0</th>\n",
       "      <td>-2.267235</td>\n",
       "      <td>7.101006</td>\n",
       "    </tr>\n",
       "    <tr>\n",
       "      <th>1</th>\n",
       "      <td>-8.207813</td>\n",
       "      <td>-6.683248</td>\n",
       "    </tr>\n",
       "    <tr>\n",
       "      <th>2</th>\n",
       "      <td>-6.670764</td>\n",
       "      <td>-8.839780</td>\n",
       "    </tr>\n",
       "  </tbody>\n",
       "</table>\n",
       "</div>"
      ],
      "text/plain": [
       "         X1        X2\n",
       "0 -2.267235  7.101006\n",
       "1 -8.207813 -6.683248\n",
       "2 -6.670764 -8.839780"
      ]
     },
     "execution_count": 14,
     "metadata": {},
     "output_type": "execute_result"
    }
   ],
   "source": [
    "centroids = df.sample(3, random_state = 11).reset_index(drop = True)\n",
    "centroids"
   ]
  },
  {
   "cell_type": "markdown",
   "metadata": {
    "deletable": false,
    "editable": false,
    "nbgrader": {
     "checksum": "b7e8161d5e22ebf8e1d14686cfe3f184",
     "grade": false,
     "grade_id": "cell-b0d344f63871dec2",
     "locked": true,
     "schema_version": 1,
     "solution": false
    }
   },
   "source": [
    "### Assigning initial centroid values\n",
    "\n",
    "Now, we select the individual centroid values and assign them as `c1`, `c2`, `c3` below. "
   ]
  },
  {
   "cell_type": "code",
   "execution_count": 15,
   "metadata": {},
   "outputs": [],
   "source": [
    "c1 = centroids.iloc[0, :2].values\n",
    "c2 = centroids.iloc[1, :2].values\n",
    "c3 = centroids.iloc[2, :2].values"
   ]
  },
  {
   "cell_type": "markdown",
   "metadata": {
    "deletable": false,
    "editable": false,
    "nbgrader": {
     "checksum": "a9922507e9b94ce9c9d60e327e5500a2",
     "grade": false,
     "grade_id": "cell-48a678cfbfc827cc",
     "locked": true,
     "schema_version": 1,
     "solution": false
    }
   },
   "source": [
    "### Inner cluster sum of squares\n",
    "\n",
    "To find the inter cluster variance, we can use the `np.linalg.norm` function.  This finds the distances squared from each of the cluster centers to each datapoint.  These distances are assembled into a DataFrame called `dist_df` and the three columns represent the three cluster centers.  Note that there should be a value of zero in each column because the centers were chosen as datapoints from the dataset.  "
   ]
  },
  {
   "cell_type": "code",
   "execution_count": 16,
   "metadata": {},
   "outputs": [],
   "source": [
    "d1 = np.linalg.norm(df.iloc[:, :2] - c1, axis = 1)**2\n",
    "d2 = np.linalg.norm(df.iloc[:, :2] - c2, axis = 1)**2\n",
    "d3 = np.linalg.norm(df.iloc[:, :2] - c3, axis = 1)**2"
   ]
  },
  {
   "cell_type": "code",
   "execution_count": 17,
   "metadata": {},
   "outputs": [
    {
     "data": {
      "text/html": [
       "<div>\n",
       "<style scoped>\n",
       "    .dataframe tbody tr th:only-of-type {\n",
       "        vertical-align: middle;\n",
       "    }\n",
       "\n",
       "    .dataframe tbody tr th {\n",
       "        vertical-align: top;\n",
       "    }\n",
       "\n",
       "    .dataframe thead th {\n",
       "        text-align: right;\n",
       "    }\n",
       "</style>\n",
       "<table border=\"1\" class=\"dataframe\">\n",
       "  <thead>\n",
       "    <tr style=\"text-align: right;\">\n",
       "      <th></th>\n",
       "      <th>d1</th>\n",
       "      <th>d2</th>\n",
       "      <th>d3</th>\n",
       "    </tr>\n",
       "  </thead>\n",
       "  <tbody>\n",
       "    <tr>\n",
       "      <th>0</th>\n",
       "      <td>6.537294</td>\n",
       "      <td>291.084588</td>\n",
       "      <td>352.067384</td>\n",
       "    </tr>\n",
       "    <tr>\n",
       "      <th>1</th>\n",
       "      <td>5.693799</td>\n",
       "      <td>244.865975</td>\n",
       "      <td>304.942851</td>\n",
       "    </tr>\n",
       "    <tr>\n",
       "      <th>2</th>\n",
       "      <td>6.536386</td>\n",
       "      <td>278.333733</td>\n",
       "      <td>340.002135</td>\n",
       "    </tr>\n",
       "    <tr>\n",
       "      <th>3</th>\n",
       "      <td>0.000000</td>\n",
       "      <td>225.296131</td>\n",
       "      <td>273.499707</td>\n",
       "    </tr>\n",
       "    <tr>\n",
       "      <th>4</th>\n",
       "      <td>55.715742</td>\n",
       "      <td>218.391876</td>\n",
       "      <td>228.404296</td>\n",
       "    </tr>\n",
       "    <tr>\n",
       "      <th>5</th>\n",
       "      <td>225.296131</td>\n",
       "      <td>0.000000</td>\n",
       "      <td>7.013149</td>\n",
       "    </tr>\n",
       "    <tr>\n",
       "      <th>6</th>\n",
       "      <td>2.592963</td>\n",
       "      <td>259.415173</td>\n",
       "      <td>316.030533</td>\n",
       "    </tr>\n",
       "    <tr>\n",
       "      <th>7</th>\n",
       "      <td>85.782948</td>\n",
       "      <td>222.456907</td>\n",
       "      <td>222.790167</td>\n",
       "    </tr>\n",
       "    <tr>\n",
       "      <th>8</th>\n",
       "      <td>65.653774</td>\n",
       "      <td>228.237683</td>\n",
       "      <td>235.243327</td>\n",
       "    </tr>\n",
       "    <tr>\n",
       "      <th>9</th>\n",
       "      <td>69.142938</td>\n",
       "      <td>219.958929</td>\n",
       "      <td>225.401001</td>\n",
       "    </tr>\n",
       "    <tr>\n",
       "      <th>10</th>\n",
       "      <td>273.499707</td>\n",
       "      <td>7.013149</td>\n",
       "      <td>0.000000</td>\n",
       "    </tr>\n",
       "    <tr>\n",
       "      <th>11</th>\n",
       "      <td>98.764326</td>\n",
       "      <td>275.947446</td>\n",
       "      <td>275.321851</td>\n",
       "    </tr>\n",
       "    <tr>\n",
       "      <th>12</th>\n",
       "      <td>205.716415</td>\n",
       "      <td>4.271703</td>\n",
       "      <td>4.821804</td>\n",
       "    </tr>\n",
       "    <tr>\n",
       "      <th>13</th>\n",
       "      <td>1.573446</td>\n",
       "      <td>227.017586</td>\n",
       "      <td>280.917077</td>\n",
       "    </tr>\n",
       "    <tr>\n",
       "      <th>14</th>\n",
       "      <td>226.336148</td>\n",
       "      <td>1.718217</td>\n",
       "      <td>2.856151</td>\n",
       "    </tr>\n",
       "    <tr>\n",
       "      <th>15</th>\n",
       "      <td>8.974472</td>\n",
       "      <td>324.061998</td>\n",
       "      <td>379.716825</td>\n",
       "    </tr>\n",
       "    <tr>\n",
       "      <th>16</th>\n",
       "      <td>253.217447</td>\n",
       "      <td>0.862950</td>\n",
       "      <td>4.384438</td>\n",
       "    </tr>\n",
       "    <tr>\n",
       "      <th>17</th>\n",
       "      <td>245.462501</td>\n",
       "      <td>6.635531</td>\n",
       "      <td>0.922469</td>\n",
       "    </tr>\n",
       "    <tr>\n",
       "      <th>18</th>\n",
       "      <td>91.581999</td>\n",
       "      <td>219.099964</td>\n",
       "      <td>217.601089</td>\n",
       "    </tr>\n",
       "    <tr>\n",
       "      <th>19</th>\n",
       "      <td>50.487445</td>\n",
       "      <td>260.396856</td>\n",
       "      <td>275.089296</td>\n",
       "    </tr>\n",
       "  </tbody>\n",
       "</table>\n",
       "</div>"
      ],
      "text/plain": [
       "            d1          d2          d3\n",
       "0     6.537294  291.084588  352.067384\n",
       "1     5.693799  244.865975  304.942851\n",
       "2     6.536386  278.333733  340.002135\n",
       "3     0.000000  225.296131  273.499707\n",
       "4    55.715742  218.391876  228.404296\n",
       "5   225.296131    0.000000    7.013149\n",
       "6     2.592963  259.415173  316.030533\n",
       "7    85.782948  222.456907  222.790167\n",
       "8    65.653774  228.237683  235.243327\n",
       "9    69.142938  219.958929  225.401001\n",
       "10  273.499707    7.013149    0.000000\n",
       "11   98.764326  275.947446  275.321851\n",
       "12  205.716415    4.271703    4.821804\n",
       "13    1.573446  227.017586  280.917077\n",
       "14  226.336148    1.718217    2.856151\n",
       "15    8.974472  324.061998  379.716825\n",
       "16  253.217447    0.862950    4.384438\n",
       "17  245.462501    6.635531    0.922469\n",
       "18   91.581999  219.099964  217.601089\n",
       "19   50.487445  260.396856  275.089296"
      ]
     },
     "execution_count": 17,
     "metadata": {},
     "output_type": "execute_result"
    }
   ],
   "source": [
    "dist_df = pd.DataFrame(np.array([d1, d2, d3]).T, columns = ['d1', 'd2', 'd3'])\n",
    "dist_df"
   ]
  },
  {
   "cell_type": "markdown",
   "metadata": {
    "deletable": false,
    "editable": false,
    "nbgrader": {
     "checksum": "c8a7a64da32cbdc20f2d9b4915a69aac",
     "grade": false,
     "grade_id": "cell-9f79f3e339da24a0",
     "locked": true,
     "schema_version": 1,
     "solution": false
    }
   },
   "source": [
    "[Back to top](#Index:) \n",
    "\n",
    "## Problem 4\n",
    "\n",
    "### What were the original centers\n",
    "\n",
    "**2 Points**\n",
    "\n",
    "In the distance data above, which data point was the original centroid of the first column?  Assign the index of the datapoint as an integer to `ans4` below."
   ]
  },
  {
   "cell_type": "code",
   "execution_count": 18,
   "metadata": {
    "deletable": false,
    "nbgrader": {
     "checksum": "29fe63f8e8aab3784ec923bc0997bf68",
     "grade": false,
     "grade_id": "cell-19f93da887b9ce29",
     "locked": false,
     "schema_version": 1,
     "solution": true
    }
   },
   "outputs": [
    {
     "name": "stdout",
     "output_type": "stream",
     "text": [
      "3\n",
      "<class 'numpy.int64'>\n"
     ]
    }
   ],
   "source": [
    "### GRADED\n",
    "\n",
    "ans4 = None\n",
    "\n",
    "# YOUR CODE HERE\n",
    "ans4 = np.argmin(dist_df['d1'])\n",
    "\n",
    "# Answer check\n",
    "print(ans4)\n",
    "print(type(ans4))"
   ]
  },
  {
   "cell_type": "code",
   "execution_count": null,
   "metadata": {
    "deletable": false,
    "editable": false,
    "nbgrader": {
     "checksum": "6d346e987b0062802533b5dfd7f6680c",
     "grade": true,
     "grade_id": "cell-1cabb99e6791fdea",
     "locked": true,
     "points": 2,
     "schema_version": 1,
     "solution": false
    }
   },
   "outputs": [],
   "source": []
  },
  {
   "cell_type": "markdown",
   "metadata": {
    "deletable": false,
    "editable": false,
    "nbgrader": {
     "checksum": "bb3685a006ee5744843e4a0e39eaff0e",
     "grade": false,
     "grade_id": "cell-4329758d08b7bd5f",
     "locked": true,
     "schema_version": 1,
     "solution": false
    }
   },
   "source": [
    "### Finding the `argmin`\n",
    "\n",
    "For each of the observations, we want to assign them to the cluster where the inter cluster variance is minimized.  To do so, we can use the `np.argmin` function and apply it across the rows.  Note that this returns a label for which cluster the point will be assigned.  These labels are added to the original DataFrame and the points are plotted. "
   ]
  },
  {
   "cell_type": "code",
   "execution_count": 19,
   "metadata": {},
   "outputs": [
    {
     "data": {
      "text/html": [
       "<div>\n",
       "<style scoped>\n",
       "    .dataframe tbody tr th:only-of-type {\n",
       "        vertical-align: middle;\n",
       "    }\n",
       "\n",
       "    .dataframe tbody tr th {\n",
       "        vertical-align: top;\n",
       "    }\n",
       "\n",
       "    .dataframe thead th {\n",
       "        text-align: right;\n",
       "    }\n",
       "</style>\n",
       "<table border=\"1\" class=\"dataframe\">\n",
       "  <thead>\n",
       "    <tr style=\"text-align: right;\">\n",
       "      <th></th>\n",
       "      <th>X1</th>\n",
       "      <th>X2</th>\n",
       "      <th>cluster label</th>\n",
       "    </tr>\n",
       "  </thead>\n",
       "  <tbody>\n",
       "    <tr>\n",
       "      <th>0</th>\n",
       "      <td>-2.978672</td>\n",
       "      <td>9.556846</td>\n",
       "      <td>0</td>\n",
       "    </tr>\n",
       "    <tr>\n",
       "      <th>1</th>\n",
       "      <td>-4.234115</td>\n",
       "      <td>8.451999</td>\n",
       "      <td>0</td>\n",
       "    </tr>\n",
       "    <tr>\n",
       "      <th>2</th>\n",
       "      <td>-3.522029</td>\n",
       "      <td>9.328533</td>\n",
       "      <td>0</td>\n",
       "    </tr>\n",
       "    <tr>\n",
       "      <th>3</th>\n",
       "      <td>-2.267235</td>\n",
       "      <td>7.101006</td>\n",
       "      <td>0</td>\n",
       "    </tr>\n",
       "    <tr>\n",
       "      <th>4</th>\n",
       "      <td>3.488885</td>\n",
       "      <td>2.348868</td>\n",
       "      <td>0</td>\n",
       "    </tr>\n",
       "  </tbody>\n",
       "</table>\n",
       "</div>"
      ],
      "text/plain": [
       "         X1        X2  cluster label\n",
       "0 -2.978672  9.556846              0\n",
       "1 -4.234115  8.451999              0\n",
       "2 -3.522029  9.328533              0\n",
       "3 -2.267235  7.101006              0\n",
       "4  3.488885  2.348868              0"
      ]
     },
     "execution_count": 19,
     "metadata": {},
     "output_type": "execute_result"
    }
   ],
   "source": [
    "np.argmin(dist_df.values, axis = 1) #finding smallest variance\n",
    "df['cluster label'] = np.argmin(dist_df.values, axis = 1) #create new column of labels\n",
    "df.head()"
   ]
  },
  {
   "cell_type": "code",
   "execution_count": 20,
   "metadata": {},
   "outputs": [
    {
     "data": {
      "image/png": "[encoded data removed]",
      "text/plain": [
       "<Figure size 432x288 with 1 Axes>"
      ]
     },
     "metadata": {
      "needs_background": "light"
     },
     "output_type": "display_data"
    }
   ],
   "source": [
    "sns.scatterplot(data = df, x = 'X1',y = 'X2', hue = 'cluster label', palette='tab10')\n",
    "plt.title('Cluster assignments after random centroids');"
   ]
  },
  {
   "cell_type": "markdown",
   "metadata": {},
   "source": [
    "[Back to top](#Index:) \n",
    "\n",
    "## Problem 5\n",
    "\n",
    "### Initial Cluster Assignments\n",
    "\n",
    "**2 Points**\n",
    "\n",
    "Now that the clusters have been assigned, what do you think of the initial assignments?  Did they end up matching with what your intuitive assignments would be?  Assign your solution to `ans5` below as a boolean value, `True` representing if the cluster assignments are \"good\", `False` if they are \"bad\". "
   ]
  },
  {
   "cell_type": "code",
   "execution_count": 21,
   "metadata": {
    "deletable": false,
    "nbgrader": {
     "checksum": "a8390fb6696569780eba6f9af6e96584",
     "grade": false,
     "grade_id": "cell-bce1f8abd5039090",
     "locked": false,
     "schema_version": 1,
     "solution": true
    }
   },
   "outputs": [
    {
     "name": "stdout",
     "output_type": "stream",
     "text": [
      "False\n"
     ]
    }
   ],
   "source": [
    "### GRADED\n",
    "\n",
    "ans5 = None\n",
    "\n",
    "# YOUR CODE HERE\n",
    "ans5 = False\n",
    "\n",
    "# Answer check\n",
    "print(ans5)"
   ]
  },
  {
   "cell_type": "code",
   "execution_count": null,
   "metadata": {
    "deletable": false,
    "editable": false,
    "nbgrader": {
     "checksum": "7c189360e1bc9819709aa3890da6f566",
     "grade": true,
     "grade_id": "cell-4e47dec29dd3ae0c",
     "locked": true,
     "points": 2,
     "schema_version": 1,
     "solution": false
    }
   },
   "outputs": [],
   "source": []
  },
  {
   "cell_type": "markdown",
   "metadata": {
    "deletable": false,
    "editable": false,
    "nbgrader": {
     "checksum": "10eb43ca15c6eba7aea4e0e16655873e",
     "grade": false,
     "grade_id": "cell-16e82cc50409f6cd",
     "locked": true,
     "schema_version": 1,
     "solution": false
    }
   },
   "source": [
    "### Compute new centroids\n",
    "\n",
    "Using the new labels for the cluster centers, the final step is to update the random centroids based on the averages of each cluster.  One approach is to use the `groupby` method to group by the initial labels and aggregate based on the mean.  Below, we save these as a DataFrame named `new_centers` and plot the updated centroids in the scatterplot as red star markers.  "
   ]
  },
  {
   "cell_type": "code",
   "execution_count": 22,
   "metadata": {},
   "outputs": [],
   "source": [
    "new_centers = df.groupby('cluster label').mean()"
   ]
  },
  {
   "cell_type": "code",
   "execution_count": 23,
   "metadata": {},
   "outputs": [
    {
     "data": {
      "text/plain": [
       "<matplotlib.collections.PathCollection at 0x759da8145860>"
      ]
     },
     "execution_count": 23,
     "metadata": {},
     "output_type": "execute_result"
    },
    {
     "data": {
      "image/png": "[encoded data removed]",
      "text/plain": [
       "<Figure size 1008x360 with 1 Axes>"
      ]
     },
     "metadata": {
      "needs_background": "light"
     },
     "output_type": "display_data"
    }
   ],
   "source": [
    "plt.figure(figsize = (14, 5))\n",
    "sns.scatterplot(data = df, x = 'X1',y = 'X2', palette='tab10', s = 100, alpha = 0.4)\n",
    "plt.title('Updated Centroids');\n",
    "plt.scatter(new_centers['X1'], new_centers['X2'], marker = '*', s = 400, c = 'red', edgecolor = 'black')"
   ]
  },
  {
   "cell_type": "markdown",
   "metadata": {
    "deletable": false,
    "editable": false,
    "nbgrader": {
     "checksum": "5c1f0b6f886e25edffa2a535ec5a2fd9",
     "grade": false,
     "grade_id": "cell-d8b1ef5dd1d8e35e",
     "locked": true,
     "schema_version": 1,
     "solution": false
    }
   },
   "source": [
    "### Creating the Data\n",
    "\n",
    "For the last part of the assignment, the data is created with a known number of cluster centers to make the evaluation of the clustering more straightforward.  A dataset with three features and four clusters is created and plotted below.  Your task is to uncover these clusters using `KMeans`.  "
   ]
  },
  {
   "cell_type": "code",
   "execution_count": 24,
   "metadata": {},
   "outputs": [
    {
     "data": {
      "image/png": "[encoded data removed]",
      "text/plain": [
       "<Figure size 432x288 with 1 Axes>"
      ]
     },
     "metadata": {
      "needs_background": "light"
     },
     "output_type": "display_data"
    }
   ],
   "source": [
    "X, y = make_blobs(n_samples=200, n_features=3, centers = 4, random_state=42)\n",
    "ax = plt.axes(projection = '3d')\n",
    "ax.scatter3D(X[:, 0], X[:, 1], X[:, 2], c = y)\n",
    "ax.set_xlabel('X')\n",
    "ax.set_ylabel('Y')\n",
    "ax.set_zlabel('Z')\n",
    "plt.title('Artificial Dataset with 4 Clusters')\n",
    "plt.tight_layout();"
   ]
  },
  {
   "cell_type": "markdown",
   "metadata": {
    "deletable": false,
    "editable": false,
    "nbgrader": {
     "checksum": "1e851530ca10d683199655d3faed6620",
     "grade": false,
     "grade_id": "cell-207199cc06f59cc2",
     "locked": true,
     "schema_version": 1,
     "solution": false
    }
   },
   "source": [
    "[Back to top](#Index:) \n",
    "\n",
    "## Problem 6\n",
    "\n",
    "### Instantiate `KMeans`\n",
    "\n",
    "**2 Points**\n",
    "\n",
    "To begin, you are to create an instance of the `KMeans` clusterer.  Slightly different than the lectures, we directly import the `KMeans` object. \n",
    "\n",
    "Instantiate a `KMeans()` classifier and assign the result to `kmeans`.\n",
    "\n",
    "\n",
    "Inside the `KMeans()` classifier, set `random_state = 42`."
   ]
  },
  {
   "cell_type": "code",
   "execution_count": 25,
   "metadata": {
    "deletable": false,
    "nbgrader": {
     "checksum": "28c4ad84989d9da5741e8d19d8fcdcb5",
     "grade": false,
     "grade_id": "cell-d247f6f03cddd8c9",
     "locked": false,
     "schema_version": 1,
     "solution": true
    }
   },
   "outputs": [
    {
     "name": "stdout",
     "output_type": "stream",
     "text": [
      "KMeans(random_state=42)\n"
     ]
    }
   ],
   "source": [
    "### GRADED\n",
    "\n",
    "kmeans = '' #Don't Forget to set the random_state!!!\n",
    "\n",
    "# YOUR CODE HERE\n",
    "kmeans = KMeans(random_state=42)\n",
    "\n",
    "# Answer check\n",
    "print(kmeans)"
   ]
  },
  {
   "cell_type": "code",
   "execution_count": null,
   "metadata": {
    "deletable": false,
    "editable": false,
    "nbgrader": {
     "checksum": "d1fabadfd2366efb6bf5c6863d154a77",
     "grade": true,
     "grade_id": "cell-da6968adb962a905",
     "locked": true,
     "points": 2,
     "schema_version": 1,
     "solution": false
    }
   },
   "outputs": [],
   "source": []
  },
  {
   "cell_type": "markdown",
   "metadata": {
    "deletable": false,
    "editable": false,
    "nbgrader": {
     "checksum": "7a8906f120b60bb3f12aa7034e27cab1",
     "grade": false,
     "grade_id": "cell-4cf82e88d7c265f7",
     "locked": true,
     "schema_version": 1,
     "solution": false
    }
   },
   "source": [
    "[Back to top](#Index:) \n",
    "\n",
    "## Problem 7\n",
    "\n",
    "### Using `KMeans`\n",
    "\n",
    "**2 Points**\n",
    "\n",
    "To conduct the `KMeans` clustering algorithm on the data, use the `.fit()` method on `kmeans` with argument equal to `X`.  \n",
    "\n",
    "This will run the clustering algorithm on our data and make clustering assignments accordingly.  "
   ]
  },
  {
   "cell_type": "code",
   "execution_count": 26,
   "metadata": {
    "deletable": false,
    "nbgrader": {
     "checksum": "dc937d5850b03eca1daf64ac40f8e059",
     "grade": false,
     "grade_id": "cell-8c08ee574dc5bd73",
     "locked": false,
     "schema_version": 1,
     "solution": true
    }
   },
   "outputs": [
    {
     "name": "stdout",
     "output_type": "stream",
     "text": [
      "KMeans(random_state=42)\n"
     ]
    }
   ],
   "source": [
    "### GRADED\n",
    "\n",
    "kmeans = KMeans(random_state=42)\n",
    "\n",
    "# YOUR CODE HERE\n",
    "kmeans.fit(X)\n",
    "\n",
    "# Answer check\n",
    "print(kmeans)"
   ]
  },
  {
   "cell_type": "code",
   "execution_count": null,
   "metadata": {
    "deletable": false,
    "editable": false,
    "nbgrader": {
     "checksum": "6d182a3fd0915d03c83487129321a564",
     "grade": true,
     "grade_id": "cell-f3fc8ce8ffca32cf",
     "locked": true,
     "points": 2,
     "schema_version": 1,
     "solution": false
    }
   },
   "outputs": [],
   "source": []
  },
  {
   "cell_type": "markdown",
   "metadata": {},
   "source": [
    "[Back to top](#Index:) \n",
    "\n",
    "## Problem 8\n",
    "\n",
    "### Trying different numbers of clusters\n",
    "\n",
    "**2 Points**\n",
    "\n",
    "Our first cluster model used 8 cluster centers.  \n",
    "\n",
    "\n",
    "Below, use a `for` loop to create a list of inertia scores for models with $1, 2, 3, ..., 10$ cluster centers and append the `.inertia_` value for each to the list `inertias`.  Note that for each instance of `KMeans` you create, set `n_clusters` equal to `i` and the `random_state` equal to `42`.  "
   ]
  },
  {
   "cell_type": "code",
   "execution_count": 27,
   "metadata": {
    "deletable": false,
    "nbgrader": {
     "checksum": "2853f8b379149fb1efe4fc54c187db98",
     "grade": false,
     "grade_id": "cell-f62b463672de6893",
     "locked": false,
     "schema_version": 1,
     "solution": true
    }
   },
   "outputs": [
    {
     "name": "stdout",
     "output_type": "stream",
     "text": [
      "[26101.99858198211, 8679.882995317126, 1713.285133655538, 554.3359020785313, 511.9017167042792, 473.6450555983858, 434.15376819920806, 412.4182266721012, 371.2632976082503, 351.78926672127557]\n",
      "<class 'list'>\n"
     ]
    }
   ],
   "source": [
    "### GRADED\n",
    "\n",
    "inertias = [] \n",
    "#for each value 1 - 10\n",
    "\n",
    "       #instantiate new KMeans instance\n",
    "        #Don't Forget to set the random_state!!!\n",
    "        \n",
    "        #fit the model\n",
    "        \n",
    "        #append inertia score to inertias list\n",
    "\n",
    "# YOUR CODE HERE\n",
    "for i in range(1, 11):  \n",
    "    kmeans = KMeans(n_clusters=i, random_state=42)  \n",
    "    kmeans.fit(X)  \n",
    "    inertias.append(kmeans.inertia_) \n",
    "\n",
    "# Answer check\n",
    "print(inertias)\n",
    "print(type(inertias))"
   ]
  },
  {
   "cell_type": "code",
   "execution_count": null,
   "metadata": {
    "deletable": false,
    "editable": false,
    "nbgrader": {
     "checksum": "d92e5903038c74de5d71b97add8cb898",
     "grade": true,
     "grade_id": "cell-2ba138e68a983f7f",
     "locked": true,
     "points": 2,
     "schema_version": 1,
     "solution": false
    }
   },
   "outputs": [],
   "source": []
  },
  {
   "cell_type": "markdown",
   "metadata": {
    "deletable": false,
    "editable": false,
    "nbgrader": {
     "checksum": "46496c6ff73ed96c34a56ac6b31c2ec5",
     "grade": false,
     "grade_id": "cell-4dd0174a93a8155b",
     "locked": true,
     "schema_version": 1,
     "solution": false
    }
   },
   "source": [
    "[Back to top](#Index:) \n",
    "\n",
    "## Problem 9\n",
    "\n",
    "### Plotting the results\n",
    "\n",
    "**2 Points**\n",
    "\n",
    "Now that we have inertia values for `n_clusters` 1, 2, 3, ..., 10, a plot is drawn of the resulting centers and inertia scores.  The $x$-axis should contain the number of cluster centers and the $y$-axis should represent the inertia scores.  Uncomment the plotting code to examine a plot of these inertia values by cluster centers.  According to this plot, which do you feel is the \"right\" number of cluster centers for the data?  Assign your answer as an integer to `best_n_clusters` below. "
   ]
  },
  {
   "cell_type": "code",
   "execution_count": 29,
   "metadata": {
    "deletable": false,
    "nbgrader": {
     "checksum": "3b6f841f98dc8e9521e202b0240751ec",
     "grade": false,
     "grade_id": "cell-c0dcad09db2f0d98",
     "locked": false,
     "schema_version": 1,
     "solution": true
    }
   },
   "outputs": [
    {
     "name": "stdout",
     "output_type": "stream",
     "text": [
      "3\n",
      "<class 'int'>\n"
     ]
    },
    {
     "data": {
      "image/png": "[encoded data removed]",
      "text/plain": [
       "<Figure size 432x288 with 1 Axes>"
      ]
     },
     "metadata": {
      "needs_background": "light"
     },
     "output_type": "display_data"
    }
   ],
   "source": [
    "### GRADED\n",
    "\n",
    "plt.plot(list(range(1, 11)), inertias, '--o')\n",
    "plt.xticks(list(range(1, 11)), list(range(1, 11)))\n",
    "plt.title('Inertia Score by n cluster centers');\n",
    "best_n_clusters = ''\n",
    "\n",
    "# YOUR CODE HERE\n",
    "#raise NotImplementedError()\n",
    "best_n_clusters = 3\n",
    "\n",
    "# Answer check\n",
    "print(best_n_clusters)\n",
    "print(type(best_n_clusters))"
   ]
  },
  {
   "cell_type": "code",
   "execution_count": null,
   "metadata": {
    "deletable": false,
    "editable": false,
    "nbgrader": {
     "checksum": "47919a918bc5d4e86c4e95b705344622",
     "grade": true,
     "grade_id": "cell-6035ce991ee7f39d",
     "locked": true,
     "points": 0,
     "schema_version": 1,
     "solution": false
    }
   },
   "outputs": [],
   "source": []
  },
  {
   "cell_type": "markdown",
   "metadata": {
    "deletable": false,
    "editable": false,
    "nbgrader": {
     "checksum": "769a257642e2cc783604c67e6cdb346f",
     "grade": false,
     "grade_id": "cell-e2f629cf06e6950d",
     "locked": true,
     "schema_version": 1,
     "solution": false
    }
   },
   "source": [
    "[Back to top](#Index:) \n",
    "\n",
    "## Problem 10\n",
    "\n",
    "### Repeat with `random` initialization of centroids\n",
    "\n",
    "**2 Points**\n",
    "\n",
    "Note that by default the `KMeans` clusterer in sklearn uses `kmeans++` to initialize the center of the clusters.  \n",
    "\n",
    "Repeat the implementation of Problem 4 where you loop over values $1, 2, 3, ..., 10$ for the `n_clusters` but now initialize the centers randomly by setting the argument `init` equal to `random`.  Be sure to set `random_state = 42` and save your list of inertias to `random_inertias`.  \n",
    "\n",
    "\n",
    "Does the idea number of clusters change?  Enter your response to the best number of cluster centers when using `random` initialization to `best_n_clusters_random` as an integer below."
   ]
  },
  {
   "cell_type": "code",
   "execution_count": 30,
   "metadata": {
    "deletable": false,
    "nbgrader": {
     "checksum": "e834428e127b3b0562d7d01795131852",
     "grade": false,
     "grade_id": "cell-5082856e89f1ecac",
     "locked": false,
     "schema_version": 1,
     "solution": true
    }
   },
   "outputs": [
    {
     "name": "stdout",
     "output_type": "stream",
     "text": [
      "[26101.99858198211, 8679.882995317126, 1713.285133655538, 554.3359020785313, 516.68864099731, 480.52550008895884, 456.47063402322266, 421.29147437291505, 395.1596022620494, 377.61415004065526]\n",
      "<class 'list'>\n"
     ]
    }
   ],
   "source": [
    "### GRADED\n",
    "\n",
    "random_inertias = [] \n",
    "best_n_clusters_random = ''\n",
    "\n",
    "\n",
    "# YOUR CODE HERE\n",
    "for i in range(1, 11):\n",
    "    kmeans = KMeans(n_clusters=i, random_state=42, init='random')\n",
    "    kmeans.fit(X)  # Fit the model to the dataset X\n",
    "    random_inertias.append(kmeans.inertia_)\n",
    "    \n",
    "best_n_clusters_random = 3\n",
    "\n",
    "# Answer check\n",
    "print(random_inertias)\n",
    "print(type(random_inertias))"
   ]
  },
  {
   "cell_type": "code",
   "execution_count": null,
   "metadata": {
    "deletable": false,
    "editable": false,
    "nbgrader": {
     "checksum": "c587660c296acfa6216ccdc0995d6378",
     "grade": true,
     "grade_id": "cell-5c3fa2d3ea665f35",
     "locked": true,
     "points": 0,
     "schema_version": 1,
     "solution": false
    }
   },
   "outputs": [],
   "source": []
  },
  {
   "cell_type": "code",
   "execution_count": null,
   "metadata": {},
   "outputs": [],
   "source": []
  },
  {
   "cell_type": "code",
   "execution_count": null,
   "metadata": {},
   "outputs": [],
   "source": []
  },
  {
   "cell_type": "code",
   "execution_count": null,
   "metadata": {},
   "outputs": [],
   "source": []
  }
 ],
 "metadata": {
  "kernelspec": {
   "display_name": "Python 3",
   "language": "python",
   "name": "python3"
  },
  "language_info": {
   "codemirror_mode": {
    "name": "ipython",
    "version": 3
   },
   "file_extension": ".py",
   "mimetype": "text/x-python",
   "name": "python",
   "nbconvert_exporter": "python",
   "pygments_lexer": "ipython3",
   "version": "3.6.9"
  }
 },
 "nbformat": 4,
 "nbformat_minor": 4
}
