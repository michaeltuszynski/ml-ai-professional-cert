{
 "cells": [
  {
   "cell_type": "markdown",
   "metadata": {
    "deletable": false,
    "editable": false,
    "nbgrader": {
     "checksum": "62f7b7d26b57771f64e0a106ba4b6a6a",
     "grade": false,
     "grade_id": "cell-a928615886fa790e",
     "locked": true,
     "schema_version": 1,
     "solution": false
    }
   },
   "source": [
    "## Required Codio Assignment 1.2: Exploring a DataFrame \n",
    "\n",
    "**Expected Time: 30 Minutes**\n",
    "\n",
    "**Total Points: 12 Points**\n",
    "\n",
    "In this exercise you will use basic summarization methods on a pandas DataFrame.\n",
    "\n",
    "## Index:\n",
    "\n",
    "- [Problem 1](#Problem-1)\n",
    "- [Problem 2](#Problem-2)\n",
    "- [Problem 3](#Problem-3)"
   ]
  },
  {
   "cell_type": "code",
   "execution_count": 4,
   "metadata": {},
   "outputs": [],
   "source": [
    "import pandas as pd\n",
    "import numpy as np"
   ]
  },
  {
   "cell_type": "code",
   "execution_count": 5,
   "metadata": {},
   "outputs": [],
   "source": [
    "nba = pd.read_csv('data/nba.csv', index_col = 0)"
   ]
  },
  {
   "cell_type": "markdown",
   "metadata": {
    "deletable": false,
    "editable": false,
    "nbgrader": {
     "checksum": "7183a1198befe8b422c7379ef4b8988b",
     "grade": false,
     "grade_id": "cell-de5edc1cb59236d3",
     "locked": true,
     "schema_version": 1,
     "solution": false
    }
   },
   "source": [
    "[Back to top](#Index:) \n",
    "\n",
    "## Problem 1\n",
    "\n",
    "### Describing the data\n",
    "\n",
    "**4 Points**\n",
    "\n",
    "Using the DataFrame `nba` loaded above, get a summary of the numeric variables using the `.describe` method.  Assign your results as a DataFrame to `nba_summary` below. "
   ]
  },
  {
   "cell_type": "code",
   "execution_count": 6,
   "metadata": {
    "deletable": false,
    "nbgrader": {
     "checksum": "c16f42cc65428fb877db26dbc832dd33",
     "grade": false,
     "grade_id": "cell-cb8365b624aba7a4",
     "locked": false,
     "schema_version": 1,
     "solution": true
    }
   },
   "outputs": [
    {
     "name": "stdout",
     "output_type": "stream",
     "text": [
      "           Number         Age      Weight        Salary\n",
      "count  457.000000  457.000000  457.000000  4.570000e+02\n",
      "mean    17.678337   26.938731  221.522976  4.726121e+06\n",
      "std     15.966090    4.404016   26.368343  5.218945e+06\n",
      "min      0.000000   19.000000  161.000000  0.000000e+00\n",
      "25%      5.000000   24.000000  200.000000  1.000000e+06\n",
      "50%     13.000000   26.000000  220.000000  2.658240e+06\n",
      "75%     25.000000   30.000000  240.000000  6.331404e+06\n",
      "max     99.000000   40.000000  307.000000  2.500000e+07\n",
      "<class 'pandas.core.frame.DataFrame'>\n"
     ]
    }
   ],
   "source": [
    "### GRADED\n",
    "\n",
    "nba_summary = None\n",
    "\n",
    "# YOUR CODE HERE\n",
    "nba_summary = nba.describe()\n",
    "\n",
    "# Answer check\n",
    "print(nba_summary)\n",
    "print(type(nba_summary))"
   ]
  },
  {
   "cell_type": "code",
   "execution_count": null,
   "metadata": {
    "deletable": false,
    "editable": false,
    "nbgrader": {
     "checksum": "20b42e669807f751f06df53eca32b9b6",
     "grade": true,
     "grade_id": "cell-ff1d43a9f019258d",
     "locked": true,
     "points": 4,
     "schema_version": 1,
     "solution": false
    }
   },
   "outputs": [],
   "source": []
  },
  {
   "cell_type": "markdown",
   "metadata": {
    "deletable": false,
    "editable": false,
    "nbgrader": {
     "checksum": "1e6498e75ead872afe697acfb041708d",
     "grade": false,
     "grade_id": "cell-ca874c0433a24e23",
     "locked": true,
     "schema_version": 1,
     "solution": false
    }
   },
   "source": [
    "[Back to top](#Index:) \n",
    "\n",
    "### Problem 2\n",
    "\n",
    "### Getting the missing data information \n",
    "\n",
    "**4 Points**\n",
    "\n",
    "In the National Basketball Association (NBA), there are some athletes that do not take the usual career path of playing for a college and then become a professional athlete. Some athletes skip college and go professional directly out of high school. How many athletes in this DataFrame skipped college and went straight to the professional level?\n",
    "\n",
    "To find this answer, create a series with the counts of null values for each column in the `nba` DataFrame.  Assign your solution as a pandas Series to `nba_nulls` below.  **HINT**: Use the `.isnull` and `.sum` methods together on the `nba` DataFrame. "
   ]
  },
  {
   "cell_type": "code",
   "execution_count": 7,
   "metadata": {
    "deletable": false,
    "nbgrader": {
     "checksum": "3678b8af7812ab61067c1fa3516b50d8",
     "grade": false,
     "grade_id": "cell-a78e6c5da54a7081",
     "locked": false,
     "schema_version": 1,
     "solution": true
    }
   },
   "outputs": [
    {
     "name": "stdout",
     "output_type": "stream",
     "text": [
      "Name         0\n",
      "Team         0\n",
      "Position     0\n",
      "Height       0\n",
      "College     84\n",
      "Number       0\n",
      "Age          0\n",
      "Weight       0\n",
      "Salary       0\n",
      "dtype: int64\n",
      "<class 'pandas.core.series.Series'>\n"
     ]
    }
   ],
   "source": [
    "### GRADED\n",
    "\n",
    "nba_nulls = None\n",
    "\n",
    "# YOUR CODE HERE\n",
    "nba_nulls = nba.isnull().sum()\n",
    "\n",
    "# Answer check\n",
    "print(nba_nulls)\n",
    "print(type(nba_nulls))"
   ]
  },
  {
   "cell_type": "code",
   "execution_count": null,
   "metadata": {
    "deletable": false,
    "editable": false,
    "nbgrader": {
     "checksum": "2cff680715114577ded66b45c5c9fe28",
     "grade": true,
     "grade_id": "cell-8f2d38bd42b42677",
     "locked": true,
     "points": 4,
     "schema_version": 1,
     "solution": false
    }
   },
   "outputs": [],
   "source": []
  },
  {
   "cell_type": "markdown",
   "metadata": {
    "deletable": false,
    "editable": false,
    "nbgrader": {
     "checksum": "ba84154436a6284ef1c2ad1e24dbed4f",
     "grade": false,
     "grade_id": "cell-1cf0384be79af991",
     "locked": true,
     "schema_version": 1,
     "solution": false
    }
   },
   "source": [
    "[Back to top](#Index:) \n",
    "\n",
    "## Problem 3\n",
    "\n",
    "### Examining top 10 rows\n",
    "\n",
    "**4 Points**\n",
    "\n",
    "Use the `.head` method to display the first ten rows of the `nba` DataFrame.  Assign your results as a DataFrame to the `nba_head` variable below."
   ]
  },
  {
   "cell_type": "code",
   "execution_count": 8,
   "metadata": {
    "deletable": false,
    "nbgrader": {
     "checksum": "2fcafbb914039cad757fb88a2a31f658",
     "grade": false,
     "grade_id": "cell-531911d9bad842be",
     "locked": false,
     "schema_version": 1,
     "solution": true
    }
   },
   "outputs": [
    {
     "name": "stdout",
     "output_type": "stream",
     "text": [
      "            Name            Team Position Height            College  Number  \\\n",
      "0  Avery Bradley  Boston Celtics       PG    6-2              Texas     0.0   \n",
      "1    Jae Crowder  Boston Celtics       SF    6-6          Marquette    99.0   \n",
      "2   John Holland  Boston Celtics       SG    6-5  Boston University    30.0   \n",
      "3    R.J. Hunter  Boston Celtics       SG    6-5      Georgia State    28.0   \n",
      "4  Jonas Jerebko  Boston Celtics       PF   6-10                NaN     8.0   \n",
      "5   Amir Johnson  Boston Celtics       PF    6-9                NaN    90.0   \n",
      "6  Jordan Mickey  Boston Celtics       PF    6-8                LSU    55.0   \n",
      "7   Kelly Olynyk  Boston Celtics        C    7-0            Gonzaga    41.0   \n",
      "8   Terry Rozier  Boston Celtics       PG    6-2         Louisville    12.0   \n",
      "9   Marcus Smart  Boston Celtics       PG    6-4     Oklahoma State    36.0   \n",
      "\n",
      "    Age  Weight      Salary  \n",
      "0  25.0   180.0   7730337.0  \n",
      "1  25.0   235.0   6796117.0  \n",
      "2  27.0   205.0         0.0  \n",
      "3  22.0   185.0   1148640.0  \n",
      "4  29.0   231.0   5000000.0  \n",
      "5  29.0   240.0  12000000.0  \n",
      "6  21.0   235.0   1170960.0  \n",
      "7  25.0   238.0   2165160.0  \n",
      "8  22.0   190.0   1824360.0  \n",
      "9  22.0   220.0   3431040.0  \n",
      "(10, 9)\n"
     ]
    }
   ],
   "source": [
    "### GRADED\n",
    "\n",
    "nba_head = None\n",
    "\n",
    "# YOUR CODE HERE\n",
    "nba_head = nba.head(10)\n",
    "\n",
    "# Answer check\n",
    "print(nba_head)\n",
    "print(nba_head.shape)"
   ]
  },
  {
   "cell_type": "code",
   "execution_count": null,
   "metadata": {
    "deletable": false,
    "editable": false,
    "nbgrader": {
     "checksum": "8ed27d6bb2377e1847819a8f7eb00289",
     "grade": true,
     "grade_id": "cell-a1f9295805746d03",
     "locked": true,
     "points": 4,
     "schema_version": 1,
     "solution": false
    }
   },
   "outputs": [],
   "source": []
  },
  {
   "cell_type": "code",
   "execution_count": null,
   "metadata": {},
   "outputs": [],
   "source": []
  }
 ],
 "metadata": {
  "kernelspec": {
   "display_name": "Python 3",
   "language": "python",
   "name": "python3"
  },
  "language_info": {
   "codemirror_mode": {
    "name": "ipython",
    "version": 3
   },
   "file_extension": ".py",
   "mimetype": "text/x-python",
   "name": "python",
   "nbconvert_exporter": "python",
   "pygments_lexer": "ipython3",
   "version": "3.6.9"
  },
  "widgets": {
   "application/vnd.jupyter.widget-state+json": {
    "state": {},
    "version_major": 2,
    "version_minor": 0
   }
  }
 },
 "nbformat": 4,
 "nbformat_minor": 4
}
