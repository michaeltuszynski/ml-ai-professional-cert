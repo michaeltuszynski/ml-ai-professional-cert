{
 "cells": [
  {
   "cell_type": "markdown",
   "metadata": {
    "deletable": false,
    "editable": false,
    "nbgrader": {
     "cell_type": "markdown",
     "checksum": "6718c2798d24e36f5d58ee4a8840ddf9",
     "grade": false,
     "grade_id": "cell-dfb3b6e3696eff65",
     "locked": true,
     "schema_version": 3,
     "solution": false
    }
   },
   "source": [
    "### Required Codio Assignment 15.3: Stochastic Gradient Descent\n",
    "\n",
    "**Expected Time = 30 minutes**\n",
    "\n",
    "**Total Points = 20**\n",
    "\n",
    "This activity explores the use of the `SGDRegressor` from scikitlearn.  While there is not a standard gradient descent estimator, the more efficient example of stochastic gradient descent is available.  You will use the earlier credit dataset to explore its use and learn an important lesson about scaling your data with gradient descent methods. \n",
    "\n",
    "#### Index\n",
    "\n",
    "- [Problem 1](#-Problem-1)\n",
    "- [Problem 2](#-Problem-2)\n",
    "- [Problem 3](#-Problem-3)\n"
   ]
  },
  {
   "cell_type": "code",
   "execution_count": 1,
   "metadata": {},
   "outputs": [],
   "source": [
    "import numpy as np\n",
    "import pandas as pd\n",
    "import matplotlib.pyplot as plt\n",
    "\n",
    "from sklearn.linear_model import SGDRegressor, LinearRegression\n",
    "from sklearn.model_selection import train_test_split\n",
    "from sklearn.metrics import mean_squared_error"
   ]
  },
  {
   "cell_type": "code",
   "execution_count": 2,
   "metadata": {},
   "outputs": [],
   "source": [
    "credit = pd.read_csv('data/Credit.csv', index_col=0)"
   ]
  },
  {
   "cell_type": "code",
   "execution_count": 3,
   "metadata": {},
   "outputs": [
    {
     "data": {
      "text/html": [
       "<div>\n",
       "<style scoped>\n",
       "    .dataframe tbody tr th:only-of-type {\n",
       "        vertical-align: middle;\n",
       "    }\n",
       "\n",
       "    .dataframe tbody tr th {\n",
       "        vertical-align: top;\n",
       "    }\n",
       "\n",
       "    .dataframe thead th {\n",
       "        text-align: right;\n",
       "    }\n",
       "</style>\n",
       "<table border=\"1\" class=\"dataframe\">\n",
       "  <thead>\n",
       "    <tr style=\"text-align: right;\">\n",
       "      <th></th>\n",
       "      <th>Income</th>\n",
       "      <th>Limit</th>\n",
       "      <th>Rating</th>\n",
       "      <th>Cards</th>\n",
       "      <th>Age</th>\n",
       "      <th>Education</th>\n",
       "      <th>Gender</th>\n",
       "      <th>Student</th>\n",
       "      <th>Married</th>\n",
       "      <th>Ethnicity</th>\n",
       "      <th>Balance</th>\n",
       "    </tr>\n",
       "  </thead>\n",
       "  <tbody>\n",
       "    <tr>\n",
       "      <th>1</th>\n",
       "      <td>14.891</td>\n",
       "      <td>3606</td>\n",
       "      <td>283</td>\n",
       "      <td>2</td>\n",
       "      <td>34</td>\n",
       "      <td>11</td>\n",
       "      <td>Male</td>\n",
       "      <td>No</td>\n",
       "      <td>Yes</td>\n",
       "      <td>Caucasian</td>\n",
       "      <td>333</td>\n",
       "    </tr>\n",
       "    <tr>\n",
       "      <th>2</th>\n",
       "      <td>106.025</td>\n",
       "      <td>6645</td>\n",
       "      <td>483</td>\n",
       "      <td>3</td>\n",
       "      <td>82</td>\n",
       "      <td>15</td>\n",
       "      <td>Female</td>\n",
       "      <td>Yes</td>\n",
       "      <td>Yes</td>\n",
       "      <td>Asian</td>\n",
       "      <td>903</td>\n",
       "    </tr>\n",
       "    <tr>\n",
       "      <th>3</th>\n",
       "      <td>104.593</td>\n",
       "      <td>7075</td>\n",
       "      <td>514</td>\n",
       "      <td>4</td>\n",
       "      <td>71</td>\n",
       "      <td>11</td>\n",
       "      <td>Male</td>\n",
       "      <td>No</td>\n",
       "      <td>No</td>\n",
       "      <td>Asian</td>\n",
       "      <td>580</td>\n",
       "    </tr>\n",
       "    <tr>\n",
       "      <th>4</th>\n",
       "      <td>148.924</td>\n",
       "      <td>9504</td>\n",
       "      <td>681</td>\n",
       "      <td>3</td>\n",
       "      <td>36</td>\n",
       "      <td>11</td>\n",
       "      <td>Female</td>\n",
       "      <td>No</td>\n",
       "      <td>No</td>\n",
       "      <td>Asian</td>\n",
       "      <td>964</td>\n",
       "    </tr>\n",
       "    <tr>\n",
       "      <th>5</th>\n",
       "      <td>55.882</td>\n",
       "      <td>4897</td>\n",
       "      <td>357</td>\n",
       "      <td>2</td>\n",
       "      <td>68</td>\n",
       "      <td>16</td>\n",
       "      <td>Male</td>\n",
       "      <td>No</td>\n",
       "      <td>Yes</td>\n",
       "      <td>Caucasian</td>\n",
       "      <td>331</td>\n",
       "    </tr>\n",
       "  </tbody>\n",
       "</table>\n",
       "</div>"
      ],
      "text/plain": [
       "    Income  Limit  Rating  Cards  Age  Education  Gender Student Married  \\\n",
       "1   14.891   3606     283      2   34         11    Male      No     Yes   \n",
       "2  106.025   6645     483      3   82         15  Female     Yes     Yes   \n",
       "3  104.593   7075     514      4   71         11    Male      No      No   \n",
       "4  148.924   9504     681      3   36         11  Female      No      No   \n",
       "5   55.882   4897     357      2   68         16    Male      No     Yes   \n",
       "\n",
       "   Ethnicity  Balance  \n",
       "1  Caucasian      333  \n",
       "2      Asian      903  \n",
       "3      Asian      580  \n",
       "4      Asian      964  \n",
       "5  Caucasian      331  "
      ]
     },
     "execution_count": 3,
     "metadata": {},
     "output_type": "execute_result"
    }
   ],
   "source": [
    "credit.head()"
   ]
  },
  {
   "cell_type": "code",
   "execution_count": 4,
   "metadata": {},
   "outputs": [],
   "source": [
    "X = credit[['Income', 'Limit']]\n",
    "y = credit['Balance']"
   ]
  },
  {
   "cell_type": "code",
   "execution_count": 5,
   "metadata": {},
   "outputs": [],
   "source": [
    "X_train, X_test, y_train, y_test = train_test_split(X, y, random_state=42)"
   ]
  },
  {
   "cell_type": "markdown",
   "metadata": {
    "deletable": false,
    "editable": false,
    "nbgrader": {
     "cell_type": "markdown",
     "checksum": "4dc41de010ae68af8677ef46fb2b95ad",
     "grade": false,
     "grade_id": "cell-4c65193ba8d1cc68",
     "locked": true,
     "schema_version": 3,
     "solution": false
    }
   },
   "source": [
    "[Back to top](#-Index)\n",
    "\n",
    "### Problem 1\n",
    "\n",
    "#### Fitting a basic Linear Regression model\n",
    "\n",
    "**5 Points**\n",
    "\n",
    "To begin, use the `LinearRegression` estimator with all default parameters to build a model. Fit this model  on the training data `X_train` and `y_train`. Assign this model to the variable `lr`.\n",
    "\n",
    "Next, assign the training and testing errors to `train_mse` and `test_mse` respectively."
   ]
  },
  {
   "cell_type": "code",
   "execution_count": 6,
   "metadata": {
    "deletable": false,
    "nbgrader": {
     "cell_type": "code",
     "checksum": "c0e42b336ad7be88664850b20a92f0b3",
     "grade": false,
     "grade_id": "cell-070c21d90d3625e3",
     "locked": false,
     "schema_version": 3,
     "solution": true
    }
   },
   "outputs": [
    {
     "name": "stdout",
     "output_type": "stream",
     "text": [
      "25672.745395864164\n",
      "31919.42462903991\n"
     ]
    }
   ],
   "source": [
    "### GRADED\n",
    "lr = ''\n",
    "train_mse = ''\n",
    "test_mse = ''\n",
    "\n",
    "# YOUR CODE HERE\n",
    "# Create and fit the linear regression model\n",
    "lr = LinearRegression()\n",
    "lr.fit(X_train, y_train)\n",
    "\n",
    "# Calculate MSE for training data\n",
    "y_train_pred = lr.predict(X_train)\n",
    "train_mse = mean_squared_error(y_train, y_train_pred)\n",
    "\n",
    "# Calculate MSE for test data\n",
    "y_test_pred = lr.predict(X_test)\n",
    "test_mse = mean_squared_error(y_test, y_test_pred)\n",
    "\n",
    "### ANSWER CHECK\n",
    "print(train_mse)\n",
    "print(test_mse)"
   ]
  },
  {
   "cell_type": "code",
   "execution_count": null,
   "metadata": {
    "deletable": false,
    "editable": false,
    "nbgrader": {
     "cell_type": "code",
     "checksum": "3acbb77b3a51e75015f308e0a120370a",
     "grade": true,
     "grade_id": "cell-8d7c563dc380a23b",
     "locked": true,
     "points": 5,
     "schema_version": 3,
     "solution": false
    }
   },
   "outputs": [],
   "source": []
  },
  {
   "cell_type": "markdown",
   "metadata": {
    "deletable": false,
    "editable": false,
    "nbgrader": {
     "cell_type": "markdown",
     "checksum": "58dd7d6b02c6f7ef1313d21c70ca698c",
     "grade": false,
     "grade_id": "cell-e7f119dc798009c7",
     "locked": true,
     "schema_version": 3,
     "solution": false
    }
   },
   "source": [
    "[Back to top](#-Index)\n",
    "\n",
    "### Problem 2\n",
    "\n",
    "#### Fitting a basic SGD model\n",
    "\n",
    "**10 Points**\n",
    "\n",
    "Define define an `SGDRegressor` estimator with `random_state = 42` and fit to the training data `X_train` and `y_train`. Assign this model to `sgd_defaults`.\n",
    "\n",
    "Next, assign the training and testing errors to `train_mse` and `test_mse` respectively."
   ]
  },
  {
   "cell_type": "code",
   "execution_count": 7,
   "metadata": {
    "deletable": false,
    "nbgrader": {
     "cell_type": "code",
     "checksum": "70443522d68076f46962aa1b26014d8b",
     "grade": false,
     "grade_id": "cell-76a36ca97a2b71c5",
     "locked": false,
     "schema_version": 3,
     "solution": true
    }
   },
   "outputs": [
    {
     "name": "stdout",
     "output_type": "stream",
     "text": [
      "SGDRegressor(random_state=42)\n",
      "3.6514506955789304e+30\n",
      "3.4214787709026376e+30\n"
     ]
    }
   ],
   "source": [
    "### GRADED\n",
    "sgd_defaults = ''\n",
    "train_mse = ''\n",
    "test_mse = ''\n",
    "\n",
    "\n",
    "# YOUR CODE HERE\n",
    "# Create and fit the SGD model\n",
    "sgd_defaults = SGDRegressor(random_state=42)\n",
    "sgd_defaults.fit(X_train, y_train)\n",
    "\n",
    "# Calculate MSE for training data\n",
    "y_train_pred = sgd_defaults.predict(X_train)\n",
    "train_mse = mean_squared_error(y_train, y_train_pred)\n",
    "\n",
    "# Calculate MSE for test data\n",
    "y_test_pred = sgd_defaults.predict(X_test)\n",
    "test_mse = mean_squared_error(y_test, y_test_pred)\n",
    "\n",
    "### ANSWER CHECK\n",
    "print(sgd_defaults)\n",
    "print(train_mse)\n",
    "print(test_mse)"
   ]
  },
  {
   "cell_type": "code",
   "execution_count": null,
   "metadata": {
    "deletable": false,
    "editable": false,
    "nbgrader": {
     "cell_type": "code",
     "checksum": "68400a754bd5546b9c4579a25fd0cc40",
     "grade": true,
     "grade_id": "cell-226f6233b2f17922",
     "locked": true,
     "points": 10,
     "schema_version": 3,
     "solution": false
    }
   },
   "outputs": [],
   "source": []
  },
  {
   "cell_type": "markdown",
   "metadata": {
    "deletable": false,
    "editable": false,
    "nbgrader": {
     "cell_type": "markdown",
     "checksum": "7b127e8268f8d1cc2b8233cf8c548f5f",
     "grade": false,
     "grade_id": "cell-ffede5ecd7c59430",
     "locked": true,
     "schema_version": 3,
     "solution": false
    }
   },
   "source": [
    "[Back to top](#-Index)\n",
    "\n",
    "### Problem 3\n",
    "\n",
    "#### Scaling the Data\n",
    "\n",
    "**10 Points**\n",
    "\n",
    "An important message in gradient descent methods is that scaling the data and using regularization helps to constrain the solution path.  \n",
    "\n",
    "You should be able to see the effect of providing the `SGDRegressor` scaled data below.  \n",
    "\n",
    "Define define an `SGDRegressor` estimator with `random_state = 42` and fit to the training data `X_tr_scaled` and `y_train`. Assign this model to `sgd_scaled`.\n",
    "\n",
    "Next, assign the training and testing errors to `train_mse` and `test_mse` respectively."
   ]
  },
  {
   "cell_type": "code",
   "execution_count": 8,
   "metadata": {},
   "outputs": [],
   "source": [
    "from sklearn.preprocessing import StandardScaler"
   ]
  },
  {
   "cell_type": "code",
   "execution_count": 9,
   "metadata": {},
   "outputs": [],
   "source": [
    "scaler = StandardScaler()\n",
    "X_tr_scaled = scaler.fit_transform(X_train)\n",
    "X_ts_scaled = scaler.transform(X_test)"
   ]
  },
  {
   "cell_type": "code",
   "execution_count": 10,
   "metadata": {
    "deletable": false,
    "nbgrader": {
     "cell_type": "code",
     "checksum": "280a0d1c94d54e342350b123b0ea0299",
     "grade": false,
     "grade_id": "cell-a791ed8b60cf0a08",
     "locked": false,
     "schema_version": 3,
     "solution": true
    }
   },
   "outputs": [
    {
     "name": "stdout",
     "output_type": "stream",
     "text": [
      "SGDRegressor(random_state=42)\n",
      "25685.3994812086\n",
      "32139.44899835043\n"
     ]
    }
   ],
   "source": [
    "### GRADED\n",
    "sgd_scaled = ''\n",
    "\n",
    "\n",
    "# YOUR CODE HERE\n",
    "# Create and fit the SGD model with scaled data\n",
    "sgd_scaled = SGDRegressor(random_state=42)\n",
    "sgd_scaled.fit(X_tr_scaled, y_train)\n",
    "\n",
    "# Calculate MSE for training data\n",
    "y_train_pred = sgd_scaled.predict(X_tr_scaled)\n",
    "train_mse = mean_squared_error(y_train, y_train_pred)\n",
    "\n",
    "# Calculate MSE for test data\n",
    "y_test_pred = sgd_scaled.predict(X_ts_scaled)\n",
    "test_mse = mean_squared_error(y_test, y_test_pred)\n",
    "\n",
    "### ANSWER CHECK\n",
    "print(sgd_scaled)\n",
    "print(train_mse)\n",
    "print(test_mse)"
   ]
  },
  {
   "cell_type": "code",
   "execution_count": null,
   "metadata": {
    "deletable": false,
    "editable": false,
    "nbgrader": {
     "cell_type": "code",
     "checksum": "8b143ff5f90ebdcf3fcda7b21e38e209",
     "grade": true,
     "grade_id": "cell-72bfc7f7cfea35b2",
     "locked": true,
     "points": 10,
     "schema_version": 3,
     "solution": false
    }
   },
   "outputs": [],
   "source": []
  },
  {
   "cell_type": "markdown",
   "metadata": {},
   "source": [
    "You can return to your earlier examples and see if scaling your data made any differences in the gradient descent convergence, this is important to all models using a gradient descent method and you will see this again with neural networks."
   ]
  },
  {
   "cell_type": "markdown",
   "metadata": {},
   "source": [
    "## Summary of Exercises\n",
    "\n",
    "This notebook explored Stochastic Gradient Descent (SGD) for regression using scikit-learn's `SGDRegressor`, comparing it with standard Linear Regression on a credit dataset.\n",
    "\n",
    "### Exercise Progression\n",
    "1. **Basic Linear Regression Baseline**\n",
    "   - Implemented standard LinearRegression as benchmark\n",
    "   - Calculated training and test MSE\n",
    "\n",
    "2. **Basic SGD Implementation**\n",
    "   - Used SGDRegressor with default parameters\n",
    "   - Compared performance metrics with linear regression\n",
    "\n",
    "3. **Scaled Data with SGD**\n",
    "   - Demonstrated importance of feature scaling for gradient descent\n",
    "   - Used StandardScaler to normalize features\n",
    "   - Evaluated impact on model performance\n",
    "\n",
    "## Key Takeaways\n",
    "\n",
    "1. Gradient descent methods (including SGD) are sensitive to feature scaling\n",
    "2. StandardScaler helps normalize features to improve SGD convergence\n",
    "3. Proper scaling is crucial for gradient-descent based methods, including:\n",
    "   - Stochastic Gradient Descent\n",
    "   - Neural Networks\n",
    "   - Other gradient-based optimization algorithms\n",
    "\n",
    "This exercise emphasizes the fundamental machine learning principle: data preprocessing (particularly scaling) can significantly impact model performance, especially for gradient-based methods."
   ]
  }
 ],
 "metadata": {
  "kernelspec": {
   "display_name": "Python 3 (ipykernel)",
   "language": "python",
   "name": "python3"
  },
  "language_info": {
   "codemirror_mode": {
    "name": "ipython",
    "version": 3
   },
   "file_extension": ".py",
   "mimetype": "text/x-python",
   "name": "python",
   "nbconvert_exporter": "python",
   "pygments_lexer": "ipython3",
   "version": "3.8.18"
  }
 },
 "nbformat": 4,
 "nbformat_minor": 4
}
