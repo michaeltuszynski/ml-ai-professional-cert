{
 "cells": [
  {
   "attachments": {},
   "cell_type": "markdown",
   "metadata": {
    "nbgrader": {
     "grade": false,
     "grade_id": "cell-0850ed01a49b26c2",
     "locked": true,
     "schema_version": 3,
     "solution": false,
     "task": false
    }
   },
   "source": [
    "### Colab Activity 18.1: Named Entities\n",
    "\n",
    "**Expected Time = 60 minutes** \n",
    "\n",
    "\n",
    "This activity focuses on tokenizing text.  You will use `nltk` to tokenize words and sentences of given documents.  In general, tokenizing a text refers to the operation of splitting the text apart into chunks.  Here, our chunks can be individual \"words\" and \"sentences\".  These are not necessarily meant to refer to proper grammatical structure or meaning, however splitting entities based on white space, periods, or other punctuation.  \n",
    "\n",
    "#### Index\n",
    "\n",
    "- [Problem 1](#-Problem-1)\n",
    "- [Problem 2](#-Problem-2)\n",
    "- [Problem 3](#-Problem-3)\n",
    "- [Problem 4](#-Problem-4)\n",
    "- [Problem 5](#-Problem-5)\n",
    "- [Problem 6](#-Problem-6)"
   ]
  },
  {
   "cell_type": "markdown",
   "metadata": {
    "nbgrader": {
     "grade": false,
     "grade_id": "cell-b6d1d57070ae15cc",
     "locked": true,
     "schema_version": 3,
     "solution": false,
     "task": false
    }
   },
   "source": [
    "#### The Data\n",
    "\n",
    "We use both a single piece of text in the form of a lead paragraph from Isaac Newton's *Principia* and a dataset including text data from [kaggle](https://www.kaggle.com/datasets/sankha1998/emotion?select=Emotion%28sad%29.csv) related to classifying WhatsApp status. "
   ]
  },
  {
   "cell_type": "code",
   "execution_count": 2,
   "metadata": {},
   "outputs": [],
   "source": [
    "principia = '''\n",
    "Since the ancients (as we are told by Pappus), made great account of the science of mechanics in the investigation of natural things; and the moderns, laying aside substantial forms and occult qualities, have endeavoured to subject the phænomena of nature to the laws of mathematics, I have in this treatise cultivated mathematics so far as it regards philosophy. The ancients considered mechanics in a twofold respect; as rational, which proceeds accurately by demonstration: and practical. To practical mechanics all the manual arts belong, from which mechanics took its name. But as artificers do not work with perfect accuracy, it comes to pass that mechanics is so distinguished from geometry, that what is perfectly accurate is called geometrical, what is less so, is called mechanical. But the errors are not in the art, but in the artificers. He that works with less accuracy is an imperfect mechanic; and if any could work with perfect accuracy, he would be the most perfect mechanic of all; for the description if right lines and circles, upon which geometry is founded, belongs to mechanics. Geometry does not teach us to draw these lines, but requires them to be drawn; for it requires that the learner should first be taught to describe these accurately, before he enters upon geometry; then it shows how by these operations problems may be solved. To describe right lines and circles are problems, but not geometrical problems. The solution of these problems is required from mechanics; and by geometry the use of them, when so solved, is shown; and it is the glory of geometry that from those few principles, brought from without, it is able to produce so many things. Therefore geometry is founded in mechanical practice, and is nothing but that part of universal mechanics which accurately proposes and demonstrates the art of measuring. But since the manual arts are chiefly conversant in the moving of bodies, it comes to pass that geometry is commonly referred to their magnitudes, and mechanics to their motion. In this sense rational mechanics will be the science of motions resulting from any forces whatsoever, and of the forces required to produce any motions, accurately proposed and demonstrated. This part of mechanics was cultivated by the ancients in the five powers which relate to manual arts, who considered gravity (it not being a manual power), no otherwise than as it moved weights by those powers. Our design not respecting arts, but philosophy, and our subject not manual but natural powers, we consider chiefly those things which relate to gravity, levity, elastic force, the resistance of fluids, and the like forces, whether attractive or impulsive; and therefore we offer this work as the mathematical principles if philosophy; for all the difficulty of philosophy seems to consist in this—from the phænomena of motions to investigate the forces of nature, and then from these forces to demonstrate the other phænomena; and to this end the general propositions in the first and second book are directed. In the third book we give an example of this in the explication of the System of the World; for by the propositions mathematically demonstrated in the former books, we in the third derive from the celestial phenomena the forces of gravity with which bodies tend to the sun and the several planets. Then from these forces, by other propositions which are also mathematical, we deduce the motions of the planets, the comets, the moon, and the sea. I wish we could derive the rest of the phænomena of nature by the same kind of reasoning from mechanical principles; for I am induced by many reasons to suspect that they may all depend upon certain forces by which the particles of bodies, by some causes hitherto unknown, are either mutually impelled towards each other, and cohere in regular figures, or are repelled and recede from each other; which forces being unknown, philosophers have hitherto attempted the search of nature in vain; but I hope the principles here laid down will afford some light either to this or some truer method of philosophy.'''"
   ]
  },
  {
   "cell_type": "code",
   "execution_count": 2,
   "metadata": {},
   "outputs": [
    {
     "name": "stdout",
     "output_type": "stream",
     "text": [
      "\n",
      "Since the ancients (as we are told by Pappus), made great account of the science of mechanics in the investigation of natural things; and the moderns, laying aside substantial forms and occult qualities, have endeavoured to subject the phænomena of nature to the laws of mathematics, I have in this treatise cultivated mathematics so far as it regards philosophy. The ancients considered mechanics in a twofold respect; as rational, which proceeds accurately by demonstration: and practical. To practical mechanics all the manual arts belong, from which mechanics took its name. But as artificers do not work with perfect accuracy, it comes to pass that mechanics is so distinguished from geometry, that what is perfectly accurate is called geometrical, what is less so, is called mechanical. But the errors are not in the art, but in the artificers. He that works with less accuracy is an imperfect mechanic; and if any could work with perfect accuracy, he would be the most perfect mechanic of all; for the description if right lines and circles, upon which geometry is founded, belongs to mechanics. Geometry does not teach us to draw these lines, but requires them to be drawn; for it requires that the learner should first be taught to describe these accurately, before he enters upon geometry; then it shows how by these operations problems may be solved. To describe right lines and circles are problems, but not geometrical problems. The solution of these problems is required from mechanics; and by geometry the use of them, when so solved, is shown; and it is the glory of geometry that from those few principles, brought from without, it is able to produce so many things. Therefore geometry is founded in mechanical practice, and is nothing but that part of universal mechanics which accurately proposes and demonstrates the art of measuring. But since the manual arts are chiefly conversant in the moving of bodies, it comes to pass that geometry is commonly referred to their magnitudes, and mechanics to their motion. In this sense rational mechanics will be the science of motions resulting from any forces whatsoever, and of the forces required to produce any motions, accurately proposed and demonstrated. This part of mechanics was cultivated by the ancients in the five powers which relate to manual arts, who considered gravity (it not being a manual power), no otherwise than as it moved weights by those powers. Our design not respecting arts, but philosophy, and our subject not manual but natural powers, we consider chiefly those things which relate to gravity, levity, elastic force, the resistance of fluids, and the like forces, whether attractive or impulsive; and therefore we offer this work as the mathematical principles if philosophy; for all the difficulty of philosophy seems to consist in this—from the phænomena of motions to investigate the forces of nature, and then from these forces to demonstrate the other phænomena; and to this end the general propositions in the first and second book are directed. In the third book we give an example of this in the explication of the System of the World; for by the propositions mathematically demonstrated in the former books, we in the third derive from the celestial phenomena the forces of gravity with which bodies tend to the sun and the several planets. Then from these forces, by other propositions which are also mathematical, we deduce the motions of the planets, the comets, the moon, and the sea. I wish we could derive the rest of the phænomena of nature by the same kind of reasoning from mechanical principles; for I am induced by many reasons to suspect that they may all depend upon certain forces by which the particles of bodies, by some causes hitherto unknown, are either mutually impelled towards each other, and cohere in regular figures, or are repelled and recede from each other; which forces being unknown, philosophers have hitherto attempted the search of nature in vain; but I hope the principles here laid down will afford some light either to this or some truer method of philosophy.\n"
     ]
    }
   ],
   "source": [
    "print(principia)"
   ]
  },
  {
   "cell_type": "code",
   "execution_count": 3,
   "metadata": {},
   "outputs": [],
   "source": [
    "import nltk\n",
    "import pandas as pd"
   ]
  },
  {
   "cell_type": "code",
   "execution_count": 4,
   "metadata": {},
   "outputs": [
    {
     "name": "stderr",
     "output_type": "stream",
     "text": [
      "[nltk_data] Downloading package punkt to /Users/mpt/nltk_data...\n",
      "[nltk_data]   Package punkt is already up-to-date!\n"
     ]
    },
    {
     "data": {
      "text/plain": [
       "True"
      ]
     },
     "execution_count": 4,
     "metadata": {},
     "output_type": "execute_result"
    }
   ],
   "source": [
    "from nltk import word_tokenize, sent_tokenize\n",
    "nltk.download('punkt')"
   ]
  },
  {
   "attachments": {},
   "cell_type": "markdown",
   "metadata": {
    "nbgrader": {
     "grade": false,
     "grade_id": "cell-8678f8df6e5d33d5",
     "locked": true,
     "schema_version": 3,
     "solution": false,
     "task": false
    }
   },
   "source": [
    "[Back to top](#-Index)\n",
    "\n",
    "### Problem 1\n",
    "\n",
    "#### Word Tokenizing a String\n",
    "\n",
    "\n",
    "\n",
    "Use the `word_tokenize` function to split the string `principia` into individual elements of the text.  Assign your results as a list to `ans1` below. "
   ]
  },
  {
   "cell_type": "code",
   "execution_count": 5,
   "metadata": {
    "nbgrader": {
     "grade": false,
     "grade_id": "cell-0fcf4e36f634a872",
     "locked": false,
     "schema_version": 3,
     "solution": true,
     "task": false
    }
   },
   "outputs": [
    {
     "name": "stdout",
     "output_type": "stream",
     "text": [
      "<class 'list'>\n",
      "['Since', 'the', 'ancients', '(', 'as']\n"
     ]
    }
   ],
   "source": [
    "\n",
    "ans1 = ''\n",
    "\n",
    "ans1 = word_tokenize(principia)\n",
    "\n",
    "### ANSWER CHECK\n",
    "print(type(ans1))\n",
    "print(ans1[:5])"
   ]
  },
  {
   "attachments": {},
   "cell_type": "markdown",
   "metadata": {
    "nbgrader": {
     "grade": false,
     "grade_id": "cell-cb1827736a6b11d3",
     "locked": true,
     "schema_version": 3,
     "solution": false,
     "task": false
    }
   },
   "source": [
    "[Back to top](#-Index)\n",
    "\n",
    "### Problem 2\n",
    "\n",
    "#### Sentence Tokenization of a string\n",
    "\n",
    "\n",
    "Rather than breaking a text apart into individual tokens or \"words\" you can split based on sentences using the `sent_tokenize` function. Split the principia text into sentences and assign your answer as a list to `ans2` below."
   ]
  },
  {
   "cell_type": "code",
   "execution_count": 6,
   "metadata": {
    "nbgrader": {
     "grade": false,
     "grade_id": "cell-791a2e377df55633",
     "locked": false,
     "schema_version": 3,
     "solution": true,
     "task": false
    }
   },
   "outputs": [
    {
     "name": "stdout",
     "output_type": "stream",
     "text": [
      "<class 'list'>\n",
      "['\\nSince the ancients (as we are told by Pappus), made great account of the science of mechanics in the investigation of natural things; and the moderns, laying aside substantial forms and occult qualities, have endeavoured to subject the phænomena of nature to the laws of mathematics, I have in this treatise cultivated mathematics so far as it regards philosophy.', 'The ancients considered mechanics in a twofold respect; as rational, which proceeds accurately by demonstration: and practical.']\n"
     ]
    }
   ],
   "source": [
    "\n",
    "ans2 = ''\n",
    "ans2 = sent_tokenize(principia)\n",
    "\n",
    "\n",
    "\n",
    "### ANSWER CHECK\n",
    "print(type(ans2))\n",
    "print(ans2[:2])"
   ]
  },
  {
   "attachments": {},
   "cell_type": "markdown",
   "metadata": {
    "nbgrader": {
     "grade": false,
     "grade_id": "cell-9a53c40e8dd0c32b",
     "locked": true,
     "schema_version": 3,
     "solution": false,
     "task": false
    }
   },
   "source": [
    "[Back to top](#-Index)\n",
    "\n",
    "### Problem 3\n",
    "\n",
    "#### Unique Words with `set`\n",
    "\n",
    "\n",
    "The tokenization does not yield unique words.  To create a collection of unique words, use the `set` function along with `word_tokenize` to create a mathematical set object of the words from the principia.  Assign your solution to `ans3` below.  "
   ]
  },
  {
   "cell_type": "code",
   "execution_count": 8,
   "metadata": {
    "nbgrader": {
     "grade": false,
     "grade_id": "cell-0996778cdabc41b7",
     "locked": false,
     "schema_version": 3,
     "solution": true,
     "task": false
    }
   },
   "outputs": [
    {
     "name": "stdout",
     "output_type": "stream",
     "text": [
      "<class 'set'>\n",
      "{'forces', 'demonstrates', 'mathematics', 'considered', 'not', 'most', 'relate', 'Since', 'book', 'am', 'hope', 'belong', 'World', 'comets', 'lines', 'moving', 'impulsive', 'many', 'other', 'from', 'laying', 'rational', 'measuring', 'our', 'what', 'without', 'This', 'before', 'teach', 'are', 'directed', 'or', 'made', 'To', 'rest', 'called', 'nothing', 'Geometry', 'shows', 'draw', 'consist', 'recede', 'motions', 'account', 'derive', 'does', 'all', 'seems', 'moved', 'if', 'arts', 'imperfect', 'description', 'celestial', 'regular', 'the', 'will', 'no', 'substantial', 'artificers', 'than', 'cultivated', 'ancients', 'also', 'reasons', 'motion', 'practice', 'but', 'regards', 'manual', 'five', 'they', 'unknown', 'them', 'second', 'endeavoured', 'could', 'have', 'resistance', 'conversant', 'powers', 'gravity', 'weights', 'told', 'phænomena', 'taught', 'suspect', 'investigation', 'geometrical', 'power', 'end', 'treatise', 'belongs', 'name', 'Then', 'down', 'this', 'great', 'Our', 'glory', 'afford', 'respect', 'The', 'sea', 'some', 'System', 'former', 'these', 'it', 'so', 'certain', 'give', 'may', 'induced', 'should', 'an', 'in', 'less', 'do', 'he', 'us', 'same', 'subject', 'attempted', 'occult', 'either', 'books', 'mathematically', 'towards', 'search', 'fluids', 'its', 'referred', 'drawn', 'otherwise', 'few', 'was', 'of', 'first', 'levity', 'each', 'things', '.', 'difficulty', 'accurate', 'art', 'here', 'as', 'practical', 'repelled', 'works', ')', 'then', 'But', 'planets', 'required', 'part', 'mechanic', 'for', 'therefore', 'far', 'distinguished', 'hitherto', 'mutually', 'solution', 'In', 'perfectly', 'by', 'third', 'explication', 'which', 'is', 'Pappus', 'how', ',', 'laws', 'use', 'reasoning', 'laid', 'since', 'when', 'deduce', 'light', 'causes', 'upon', 'founded', 'enters', 'circles', 'would', 'whether', 'operations', 'investigate', 'proceeds', 'propositions', 'aside', 'right', 'forms', 'elastic', 'sense', 'vain', 'mechanics', 'force', 'their', 'Therefore', 'demonstrate', 'method', 'we', 'perfect', 'offer', 'cohere', 'twofold', 'errors', 'who', 'attractive', 'depend', 'pass', 'produce', 'philosophy', 'example', 'problems', 'comes', 'those', 'requires', '(', 'took', 'resulting', ':', ';', 'nature', 'several', 'truer', 'impelled', 'any', 'mathematical', 'describe', 'and', 'magnitudes', 'be', 'geometry', 'whatsoever', 'qualities', 'I', 'solved', 'learner', 'wish', 'work', 'bodies', 'like', 'accuracy', 'science', 'He', 'a', 'chiefly', 'demonstration', 'phenomena', 'proposed', 'tend', 'sun', 'moderns', 'proposes', 'commonly', 'demonstrated', 'this—from', 'respecting', 'kind', 'particles', 'figures', 'moon', 'consider', 'natural', 'that', 'accurately', 'design', 'universal', 'able', 'to', 'shown', 'mechanical', 'brought', 'with', 'philosophers', 'general', 'principles', 'being'}\n"
     ]
    }
   ],
   "source": [
    "\n",
    "ans3 = ''\n",
    "ans3 = set(word_tokenize(principia))\n",
    "\n",
    "\n",
    "### ANSWER CHECK\n",
    "print(type(ans3))\n",
    "print(ans3)"
   ]
  },
  {
   "attachments": {},
   "cell_type": "markdown",
   "metadata": {
    "nbgrader": {
     "grade": false,
     "grade_id": "cell-19fb0ab0f6d5616f",
     "locked": true,
     "schema_version": 3,
     "solution": false,
     "task": false
    }
   },
   "source": [
    "[Back to top](#-Index)\n",
    "\n",
    "### Problem 4\n",
    "\n",
    "#### Counts of words\n",
    "\n",
    "\n",
    "Determine the number of words in the principia text using `word_tokenize` and the `len` function.  Assign your answer as an integer to `ans4` below."
   ]
  },
  {
   "cell_type": "code",
   "execution_count": 10,
   "metadata": {
    "nbgrader": {
     "grade": false,
     "grade_id": "cell-841fca7061fd74f5",
     "locked": false,
     "schema_version": 3,
     "solution": true,
     "task": false
    }
   },
   "outputs": [
    {
     "name": "stdout",
     "output_type": "stream",
     "text": [
      "<class 'int'>\n",
      "766\n"
     ]
    }
   ],
   "source": [
    "\n",
    "ans4 = ''\n",
    "ans4 = len(word_tokenize(principia))\n",
    "\n",
    "### ANSWER CHECK\n",
    "print(type(ans4))\n",
    "print(ans4)"
   ]
  },
  {
   "attachments": {},
   "cell_type": "markdown",
   "metadata": {
    "nbgrader": {
     "grade": false,
     "grade_id": "cell-c82daea35fd67882",
     "locked": true,
     "schema_version": 3,
     "solution": false,
     "task": false
    }
   },
   "source": [
    "[Back to top](#-Index)\n",
    "\n",
    "### Problem 5\n",
    "\n",
    "#### Lexical Diversity\n",
    "\n",
    "\n",
    "The lexical diversity of a text is the ratio of unique words to the total words.  Compute the lexical diversity of the principia text and assign your answer as a float to `ans5` below. \n",
    "\n",
    "Hint: Use the `length` function to find the numerial amount of unique and non-unique words"
   ]
  },
  {
   "cell_type": "code",
   "execution_count": 11,
   "metadata": {
    "nbgrader": {
     "grade": false,
     "grade_id": "cell-894fa4e09c260b21",
     "locked": false,
     "schema_version": 3,
     "solution": true,
     "task": false
    }
   },
   "outputs": [
    {
     "name": "stdout",
     "output_type": "stream",
     "text": [
      "<class 'float'>\n",
      "0.370757180156658\n",
      "284\n",
      "766\n"
     ]
    }
   ],
   "source": [
    "\n",
    "ans5 = ''\n",
    "ans1 = len(set(word_tokenize(principia)))\n",
    "ans2 = len(word_tokenize(principia))\n",
    "\n",
    "ans5 = ans1/ans2\n",
    "\n",
    "### ANSWER CHECK\n",
    "print(type(ans5))\n",
    "print(ans5)\n",
    "print(ans1)\n",
    "print(ans2)"
   ]
  },
  {
   "attachments": {},
   "cell_type": "markdown",
   "metadata": {
    "nbgrader": {
     "grade": false,
     "grade_id": "cell-41685fc4be92e50f",
     "locked": true,
     "schema_version": 3,
     "solution": false,
     "task": false
    }
   },
   "source": [
    "[Back to top](#-Index)\n",
    "\n",
    "### Problem 6\n",
    "\n",
    "#### Text in a DataFrame\n",
    "\n",
    "\n",
    "To this point, we have been dealing with a block of text. How do you work with multiple lines of text in a DataFrame?\n",
    "\n",
    "You can use the `set` function to determine the number of unique words (as above), but this will only provide a result PER ITEM, not for the entire DataFrame. To determine the total amount of words in a DataFrame, first use the `word_tokenize` function with the `.apply` method, and sum the resulting column to get a non-unique list of words. \n",
    "\n",
    "Use your work above to determine the number of non-unique words (using `len`) from `happy_df` in the `content` feature given below.  Assign your answer as an integer to `ans6` below."
   ]
  },
  {
   "cell_type": "code",
   "execution_count": 12,
   "metadata": {},
   "outputs": [
    {
     "data": {
      "text/html": [
       "<div>\n",
       "<style scoped>\n",
       "    .dataframe tbody tr th:only-of-type {\n",
       "        vertical-align: middle;\n",
       "    }\n",
       "\n",
       "    .dataframe tbody tr th {\n",
       "        vertical-align: top;\n",
       "    }\n",
       "\n",
       "    .dataframe thead th {\n",
       "        text-align: right;\n",
       "    }\n",
       "</style>\n",
       "<table border=\"1\" class=\"dataframe\">\n",
       "  <thead>\n",
       "    <tr style=\"text-align: right;\">\n",
       "      <th></th>\n",
       "      <th>content</th>\n",
       "      <th>sentiment</th>\n",
       "    </tr>\n",
       "  </thead>\n",
       "  <tbody>\n",
       "    <tr>\n",
       "      <th>0</th>\n",
       "      <td>Wants to know how the hell I can remember word...</td>\n",
       "      <td>happy</td>\n",
       "    </tr>\n",
       "    <tr>\n",
       "      <th>1</th>\n",
       "      <td>Love is a long sweet dream &amp; marriage is an al...</td>\n",
       "      <td>happy</td>\n",
       "    </tr>\n",
       "    <tr>\n",
       "      <th>2</th>\n",
       "      <td>The world could be amazing when you are slight...</td>\n",
       "      <td>happy</td>\n",
       "    </tr>\n",
       "    <tr>\n",
       "      <th>3</th>\n",
       "      <td>My secret talent is getting tired without doin...</td>\n",
       "      <td>happy</td>\n",
       "    </tr>\n",
       "    <tr>\n",
       "      <th>4</th>\n",
       "      <td>Khatarnaak Whatsapp Status Ever… Can\\’t talk, ...</td>\n",
       "      <td>happy</td>\n",
       "    </tr>\n",
       "  </tbody>\n",
       "</table>\n",
       "</div>"
      ],
      "text/plain": [
       "                                             content sentiment\n",
       "0  Wants to know how the hell I can remember word...     happy\n",
       "1  Love is a long sweet dream & marriage is an al...     happy\n",
       "2  The world could be amazing when you are slight...     happy\n",
       "3  My secret talent is getting tired without doin...     happy\n",
       "4  Khatarnaak Whatsapp Status Ever… Can\\’t talk, ...     happy"
      ]
     },
     "execution_count": 12,
     "metadata": {},
     "output_type": "execute_result"
    }
   ],
   "source": [
    "happy_df = pd.read_csv('data/Emotion(happy).csv')\n",
    "happy_df.head()"
   ]
  },
  {
   "cell_type": "code",
   "execution_count": 13,
   "metadata": {
    "nbgrader": {
     "grade": false,
     "grade_id": "cell-04256cbd1261ea17",
     "locked": false,
     "schema_version": 3,
     "solution": true,
     "task": false
    }
   },
   "outputs": [
    {
     "name": "stdout",
     "output_type": "stream",
     "text": [
      "<class 'numpy.int64'>\n",
      "11122\n"
     ]
    }
   ],
   "source": [
    "\n",
    "ans6 = ''\n",
    "ans6 = happy_df['content'].apply(word_tokenize).apply(len).sum()\n",
    "### ANSWER CHECK\n",
    "\n",
    "print(type(ans6))\n",
    "print(ans6)"
   ]
  },
  {
   "cell_type": "code",
   "execution_count": null,
   "metadata": {},
   "outputs": [],
   "source": []
  },
  {
   "cell_type": "markdown",
   "metadata": {},
   "source": [
    "## Summary of Exercises\n",
    "\n",
    "This notebook explored text tokenization and basic text analysis using NLTK:\n",
    "\n",
    "1. **Word Tokenization**: Used `word_tokenize()` to split text into individual words/tokens\n",
    "2. **Sentence Tokenization**: Used `sent_tokenize()` to split text into sentences\n",
    "3. **Unique Words**: Created sets of unique words using `set()` with tokenized text\n",
    "4. **Word Counting**: Counted total words using `len()` with tokenized text\n",
    "5. **Lexical Diversity**: Calculated ratio of unique words to total words\n",
    "6. **DataFrame Text Analysis**: Applied tokenization to text data in pandas DataFrame\n",
    "\n",
    "## Key Takeaways\n",
    "\n",
    "- NLTK provides powerful tools for text preprocessing (`word_tokenize`, `sent_tokenize`)\n",
    "- Text can be analyzed at different levels (words, sentences)\n",
    "- Lexical diversity helps measure text complexity/variety\n",
    "- Set operations help identify unique elements in text\n",
    "- Pandas `.apply()` enables text processing across DataFrame columns\n",
    "- Text tokenization is a fundamental step in NLP pipelines\n",
    "\n",
    "The exercises progressed from simple string operations to more complex DataFrame text analysis, demonstrating both basic NLP concepts and practical implementation."
   ]
  }
 ],
 "metadata": {
  "celltoolbar": "Create Assignment",
  "kernelspec": {
   "display_name": "codio",
   "language": "python",
   "name": "python3"
  },
  "language_info": {
   "codemirror_mode": {
    "name": "ipython",
    "version": 3
   },
   "file_extension": ".py",
   "mimetype": "text/x-python",
   "name": "python",
   "nbconvert_exporter": "python",
   "pygments_lexer": "ipython3",
   "version": "3.12.7"
  }
 },
 "nbformat": 4,
 "nbformat_minor": 4
}
