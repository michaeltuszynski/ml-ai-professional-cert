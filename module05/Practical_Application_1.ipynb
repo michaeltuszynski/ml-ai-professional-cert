{
  "cells": [
    {
      "cell_type": "markdown",
      "metadata": {
        "id": "CcUT6Fon_qRE"
      },
      "source": [
        "### Required Assignment 5.1: Will the Customer Accept the Coupon?\n",
        "\n",
        "**Context**\n",
        "\n",
        "Imagine driving through town and a coupon is delivered to your cell phone for a restaurant near where you are driving. Would you accept that coupon and take a short detour to the restaurant? Would you accept the coupon but use it on a subsequent trip? Would you ignore the coupon entirely? What if the coupon was for a bar instead of a restaurant? What about a coffee house? Would you accept a bar coupon with a minor passenger in the car? What about if it was just you and your partner in the car? Would weather impact the rate of acceptance? What about the time of day?\n",
        "\n",
        "Obviously, proximity to the business is a factor on whether the coupon is delivered to the driver or not, but what are the factors that determine whether a driver accepts the coupon once it is delivered to them? How would you determine whether a driver is likely to accept a coupon?\n",
        "\n",
        "**Overview**\n",
        "\n",
        "The goal of this project is to use what you know about visualizations and probability distributions to distinguish between customers who accepted a driving coupon versus those that did not.\n",
        "\n",
        "**Data**\n",
        "\n",
        "This data comes to us from the UCI Machine Learning repository and was collected via a survey on Amazon Mechanical Turk. The survey describes different driving scenarios including the destination, current time, weather, passenger, etc., and then ask the person whether he will accept the coupon if he is the driver. Answers that the user will drive there ‘right away’ or ‘later before the coupon expires’ are labeled as ‘Y = 1’ and answers ‘no, I do not want the coupon’ are labeled as ‘Y = 0’.  There are five different types of coupons -- less expensive restaurants (under \\$20), coffee houses, carry out & take away, bar, and more expensive restaurants (\\$20 - $50)."
      ]
    },
    {
      "cell_type": "markdown",
      "metadata": {
        "id": "1wORvMBJ_qRF"
      },
      "source": [
        "**Deliverables**\n",
        "\n",
        "Your final product should be a brief report that highlights the differences between customers who did and did not accept the coupons.  To explore the data you will utilize your knowledge of plotting, statistical summaries, and visualization using Python. You will publish your findings in a public facing github repository as your first portfolio piece.\n",
        "\n",
        "\n",
        "\n"
      ]
    },
    {
      "cell_type": "markdown",
      "metadata": {
        "id": "pG6_Ym6q_qRG"
      },
      "source": [
        "### Data Description\n",
        "Keep in mind that these values mentioned below are average values.\n",
        "\n",
        "The attributes of this data set include:\n",
        "1. User attributes\n",
        "    -  Gender: male, female\n",
        "    -  Age: below 21, 21 to 25, 26 to 30, etc.\n",
        "    -  Marital Status: single, married partner, unmarried partner, or widowed\n",
        "    -  Number of children: 0, 1, or more than 1\n",
        "    -  Education: high school, bachelors degree, associates degree, or graduate degree\n",
        "    -  Occupation: architecture & engineering, business & financial, etc.\n",
        "    -  Annual income: less than \\\\$12500, \\\\$12500 - \\\\$24999, \\\\$25000 - \\\\$37499, etc.\n",
        "    -  Number of times that he/she goes to a bar: 0, less than 1, 1 to 3, 4 to 8 or greater than 8\n",
        "    -  Number of times that he/she buys takeaway food: 0, less than 1, 1 to 3, 4 to 8 or greater\n",
        "    than 8\n",
        "    -  Number of times that he/she goes to a coffee house: 0, less than 1, 1 to 3, 4 to 8 or\n",
        "    greater than 8\n",
        "    -  Number of times that he/she eats at a restaurant with average expense less than \\\\$20 per\n",
        "    person: 0, less than 1, 1 to 3, 4 to 8 or greater than 8\n",
        "    -  Number of times that he/she goes to a bar: 0, less than 1, 1 to 3, 4 to 8 or greater than 8\n",
        "    \n",
        "\n",
        "2. Contextual attributes\n",
        "    - Driving destination: home, work, or no urgent destination\n",
        "    - Location of user, coupon and destination: we provide a map to show the geographical\n",
        "    location of the user, destination, and the venue, and we mark the distance between each\n",
        "    two places with time of driving. The user can see whether the venue is in the same\n",
        "    direction as the destination.\n",
        "    - Weather: sunny, rainy, or snowy\n",
        "    - Temperature: 30F, 55F, or 80F\n",
        "    - Time: 10AM, 2PM, or 6PM\n",
        "    - Passenger: alone, partner, kid(s), or friend(s)\n",
        "\n",
        "\n",
        "3. Coupon attributes\n",
        "    - time before it expires: 2 hours or one day"
      ]
    },
    {
      "cell_type": "code",
      "execution_count": 5,
      "metadata": {
        "id": "dzNoP3o__qRG"
      },
      "outputs": [],
      "source": [
        "import matplotlib.pyplot as plt\n",
        "import seaborn as sns\n",
        "import pandas as pd\n",
        "import numpy as np"
      ]
    },
    {
      "cell_type": "markdown",
      "metadata": {
        "id": "Ct8pI1uE_qRG"
      },
      "source": [
        "### Problems\n",
        "\n",
        "Use the prompts below to get started with your data analysis.  \n",
        "\n",
        "1. Read in the `coupons.csv` file.\n",
        "\n",
        "\n"
      ]
    },
    {
      "cell_type": "code",
      "execution_count": 6,
      "metadata": {
        "id": "X0vbffYg_qRH"
      },
      "outputs": [],
      "source": [
        "data = pd.read_csv('data/coupons.csv')"
      ]
    },
    {
      "cell_type": "code",
      "execution_count": 7,
      "metadata": {
        "id": "TXofQ_DF_qRH",
        "outputId": "2fc96a2c-1112-4b54-f24f-dbb9bc88abfb"
      },
      "outputs": [
        {
          "data": {
            "text/html": [
              "<div>\n",
              "<style scoped>\n",
              "    .dataframe tbody tr th:only-of-type {\n",
              "        vertical-align: middle;\n",
              "    }\n",
              "\n",
              "    .dataframe tbody tr th {\n",
              "        vertical-align: top;\n",
              "    }\n",
              "\n",
              "    .dataframe thead th {\n",
              "        text-align: right;\n",
              "    }\n",
              "</style>\n",
              "<table border=\"1\" class=\"dataframe\">\n",
              "  <thead>\n",
              "    <tr style=\"text-align: right;\">\n",
              "      <th></th>\n",
              "      <th>destination</th>\n",
              "      <th>passanger</th>\n",
              "      <th>weather</th>\n",
              "      <th>temperature</th>\n",
              "      <th>time</th>\n",
              "      <th>coupon</th>\n",
              "      <th>expiration</th>\n",
              "      <th>gender</th>\n",
              "      <th>age</th>\n",
              "      <th>maritalStatus</th>\n",
              "      <th>...</th>\n",
              "      <th>CoffeeHouse</th>\n",
              "      <th>CarryAway</th>\n",
              "      <th>RestaurantLessThan20</th>\n",
              "      <th>Restaurant20To50</th>\n",
              "      <th>toCoupon_GEQ5min</th>\n",
              "      <th>toCoupon_GEQ15min</th>\n",
              "      <th>toCoupon_GEQ25min</th>\n",
              "      <th>direction_same</th>\n",
              "      <th>direction_opp</th>\n",
              "      <th>Y</th>\n",
              "    </tr>\n",
              "  </thead>\n",
              "  <tbody>\n",
              "    <tr>\n",
              "      <th>0</th>\n",
              "      <td>No Urgent Place</td>\n",
              "      <td>Alone</td>\n",
              "      <td>Sunny</td>\n",
              "      <td>55</td>\n",
              "      <td>2PM</td>\n",
              "      <td>Restaurant(&lt;20)</td>\n",
              "      <td>1d</td>\n",
              "      <td>Female</td>\n",
              "      <td>21</td>\n",
              "      <td>Unmarried partner</td>\n",
              "      <td>...</td>\n",
              "      <td>never</td>\n",
              "      <td>NaN</td>\n",
              "      <td>4~8</td>\n",
              "      <td>1~3</td>\n",
              "      <td>1</td>\n",
              "      <td>0</td>\n",
              "      <td>0</td>\n",
              "      <td>0</td>\n",
              "      <td>1</td>\n",
              "      <td>1</td>\n",
              "    </tr>\n",
              "    <tr>\n",
              "      <th>1</th>\n",
              "      <td>No Urgent Place</td>\n",
              "      <td>Friend(s)</td>\n",
              "      <td>Sunny</td>\n",
              "      <td>80</td>\n",
              "      <td>10AM</td>\n",
              "      <td>Coffee House</td>\n",
              "      <td>2h</td>\n",
              "      <td>Female</td>\n",
              "      <td>21</td>\n",
              "      <td>Unmarried partner</td>\n",
              "      <td>...</td>\n",
              "      <td>never</td>\n",
              "      <td>NaN</td>\n",
              "      <td>4~8</td>\n",
              "      <td>1~3</td>\n",
              "      <td>1</td>\n",
              "      <td>0</td>\n",
              "      <td>0</td>\n",
              "      <td>0</td>\n",
              "      <td>1</td>\n",
              "      <td>0</td>\n",
              "    </tr>\n",
              "    <tr>\n",
              "      <th>2</th>\n",
              "      <td>No Urgent Place</td>\n",
              "      <td>Friend(s)</td>\n",
              "      <td>Sunny</td>\n",
              "      <td>80</td>\n",
              "      <td>10AM</td>\n",
              "      <td>Carry out &amp; Take away</td>\n",
              "      <td>2h</td>\n",
              "      <td>Female</td>\n",
              "      <td>21</td>\n",
              "      <td>Unmarried partner</td>\n",
              "      <td>...</td>\n",
              "      <td>never</td>\n",
              "      <td>NaN</td>\n",
              "      <td>4~8</td>\n",
              "      <td>1~3</td>\n",
              "      <td>1</td>\n",
              "      <td>1</td>\n",
              "      <td>0</td>\n",
              "      <td>0</td>\n",
              "      <td>1</td>\n",
              "      <td>1</td>\n",
              "    </tr>\n",
              "    <tr>\n",
              "      <th>3</th>\n",
              "      <td>No Urgent Place</td>\n",
              "      <td>Friend(s)</td>\n",
              "      <td>Sunny</td>\n",
              "      <td>80</td>\n",
              "      <td>2PM</td>\n",
              "      <td>Coffee House</td>\n",
              "      <td>2h</td>\n",
              "      <td>Female</td>\n",
              "      <td>21</td>\n",
              "      <td>Unmarried partner</td>\n",
              "      <td>...</td>\n",
              "      <td>never</td>\n",
              "      <td>NaN</td>\n",
              "      <td>4~8</td>\n",
              "      <td>1~3</td>\n",
              "      <td>1</td>\n",
              "      <td>1</td>\n",
              "      <td>0</td>\n",
              "      <td>0</td>\n",
              "      <td>1</td>\n",
              "      <td>0</td>\n",
              "    </tr>\n",
              "    <tr>\n",
              "      <th>4</th>\n",
              "      <td>No Urgent Place</td>\n",
              "      <td>Friend(s)</td>\n",
              "      <td>Sunny</td>\n",
              "      <td>80</td>\n",
              "      <td>2PM</td>\n",
              "      <td>Coffee House</td>\n",
              "      <td>1d</td>\n",
              "      <td>Female</td>\n",
              "      <td>21</td>\n",
              "      <td>Unmarried partner</td>\n",
              "      <td>...</td>\n",
              "      <td>never</td>\n",
              "      <td>NaN</td>\n",
              "      <td>4~8</td>\n",
              "      <td>1~3</td>\n",
              "      <td>1</td>\n",
              "      <td>1</td>\n",
              "      <td>0</td>\n",
              "      <td>0</td>\n",
              "      <td>1</td>\n",
              "      <td>0</td>\n",
              "    </tr>\n",
              "  </tbody>\n",
              "</table>\n",
              "<p>5 rows × 26 columns</p>\n",
              "</div>"
            ],
            "text/plain": [
              "       destination  passanger weather  temperature  time  \\\n",
              "0  No Urgent Place      Alone   Sunny           55   2PM   \n",
              "1  No Urgent Place  Friend(s)   Sunny           80  10AM   \n",
              "2  No Urgent Place  Friend(s)   Sunny           80  10AM   \n",
              "3  No Urgent Place  Friend(s)   Sunny           80   2PM   \n",
              "4  No Urgent Place  Friend(s)   Sunny           80   2PM   \n",
              "\n",
              "                  coupon expiration  gender age      maritalStatus  ...  \\\n",
              "0        Restaurant(<20)         1d  Female  21  Unmarried partner  ...   \n",
              "1           Coffee House         2h  Female  21  Unmarried partner  ...   \n",
              "2  Carry out & Take away         2h  Female  21  Unmarried partner  ...   \n",
              "3           Coffee House         2h  Female  21  Unmarried partner  ...   \n",
              "4           Coffee House         1d  Female  21  Unmarried partner  ...   \n",
              "\n",
              "   CoffeeHouse CarryAway RestaurantLessThan20 Restaurant20To50  \\\n",
              "0        never       NaN                  4~8              1~3   \n",
              "1        never       NaN                  4~8              1~3   \n",
              "2        never       NaN                  4~8              1~3   \n",
              "3        never       NaN                  4~8              1~3   \n",
              "4        never       NaN                  4~8              1~3   \n",
              "\n",
              "  toCoupon_GEQ5min toCoupon_GEQ15min toCoupon_GEQ25min direction_same  \\\n",
              "0                1                 0                 0              0   \n",
              "1                1                 0                 0              0   \n",
              "2                1                 1                 0              0   \n",
              "3                1                 1                 0              0   \n",
              "4                1                 1                 0              0   \n",
              "\n",
              "  direction_opp  Y  \n",
              "0             1  1  \n",
              "1             1  0  \n",
              "2             1  1  \n",
              "3             1  0  \n",
              "4             1  0  \n",
              "\n",
              "[5 rows x 26 columns]"
            ]
          },
          "execution_count": 7,
          "metadata": {},
          "output_type": "execute_result"
        }
      ],
      "source": [
        "data.head()"
      ]
    },
    {
      "cell_type": "markdown",
      "metadata": {
        "id": "GcDs78ZH_qRH"
      },
      "source": [
        "2. Investigate the dataset for missing or problematic data."
      ]
    },
    {
      "cell_type": "code",
      "execution_count": 8,
      "metadata": {
        "id": "6CwL6oWj_qRH"
      },
      "outputs": [
        {
          "name": "stdout",
          "output_type": "stream",
          "text": [
            "<class 'pandas.core.frame.DataFrame'>\n",
            "RangeIndex: 12684 entries, 0 to 12683\n",
            "Data columns (total 26 columns):\n",
            " #   Column                Non-Null Count  Dtype \n",
            "---  ------                --------------  ----- \n",
            " 0   destination           12684 non-null  object\n",
            " 1   passanger             12684 non-null  object\n",
            " 2   weather               12684 non-null  object\n",
            " 3   temperature           12684 non-null  int64 \n",
            " 4   time                  12684 non-null  object\n",
            " 5   coupon                12684 non-null  object\n",
            " 6   expiration            12684 non-null  object\n",
            " 7   gender                12684 non-null  object\n",
            " 8   age                   12684 non-null  object\n",
            " 9   maritalStatus         12684 non-null  object\n",
            " 10  has_children          12684 non-null  int64 \n",
            " 11  education             12684 non-null  object\n",
            " 12  occupation            12684 non-null  object\n",
            " 13  income                12684 non-null  object\n",
            " 14  car                   108 non-null    object\n",
            " 15  Bar                   12577 non-null  object\n",
            " 16  CoffeeHouse           12467 non-null  object\n",
            " 17  CarryAway             12533 non-null  object\n",
            " 18  RestaurantLessThan20  12554 non-null  object\n",
            " 19  Restaurant20To50      12495 non-null  object\n",
            " 20  toCoupon_GEQ5min      12684 non-null  int64 \n",
            " 21  toCoupon_GEQ15min     12684 non-null  int64 \n",
            " 22  toCoupon_GEQ25min     12684 non-null  int64 \n",
            " 23  direction_same        12684 non-null  int64 \n",
            " 24  direction_opp         12684 non-null  int64 \n",
            " 25  Y                     12684 non-null  int64 \n",
            "dtypes: int64(8), object(18)\n",
            "memory usage: 2.5+ MB\n",
            "None\n",
            "destination                 0\n",
            "passanger                   0\n",
            "weather                     0\n",
            "temperature                 0\n",
            "time                        0\n",
            "coupon                      0\n",
            "expiration                  0\n",
            "gender                      0\n",
            "age                         0\n",
            "maritalStatus               0\n",
            "has_children                0\n",
            "education                   0\n",
            "occupation                  0\n",
            "income                      0\n",
            "car                     12576\n",
            "Bar                       107\n",
            "CoffeeHouse               217\n",
            "CarryAway                 151\n",
            "RestaurantLessThan20      130\n",
            "Restaurant20To50          189\n",
            "toCoupon_GEQ5min            0\n",
            "toCoupon_GEQ15min           0\n",
            "toCoupon_GEQ25min           0\n",
            "direction_same              0\n",
            "direction_opp               0\n",
            "Y                           0\n",
            "dtype: int64\n",
            "        temperature  has_children  toCoupon_GEQ5min  toCoupon_GEQ15min  \\\n",
            "count  12684.000000  12684.000000           12684.0       12684.000000   \n",
            "mean      63.301798      0.414144               1.0           0.561495   \n",
            "std       19.154486      0.492593               0.0           0.496224   \n",
            "min       30.000000      0.000000               1.0           0.000000   \n",
            "25%       55.000000      0.000000               1.0           0.000000   \n",
            "50%       80.000000      0.000000               1.0           1.000000   \n",
            "75%       80.000000      1.000000               1.0           1.000000   \n",
            "max       80.000000      1.000000               1.0           1.000000   \n",
            "\n",
            "       toCoupon_GEQ25min  direction_same  direction_opp             Y  \n",
            "count       12684.000000    12684.000000   12684.000000  12684.000000  \n",
            "mean            0.119126        0.214759       0.785241      0.568433  \n",
            "std             0.323950        0.410671       0.410671      0.495314  \n",
            "min             0.000000        0.000000       0.000000      0.000000  \n",
            "25%             0.000000        0.000000       1.000000      0.000000  \n",
            "50%             0.000000        0.000000       1.000000      1.000000  \n",
            "75%             0.000000        0.000000       1.000000      1.000000  \n",
            "max             1.000000        1.000000       1.000000      1.000000  \n",
            "\n",
            "Unique values in destination:\n",
            "destination\n",
            "No Urgent Place    6283\n",
            "Home               3237\n",
            "Work               3164\n",
            "Name: count, dtype: int64\n",
            "\n",
            "Unique values in passanger:\n",
            "passanger\n",
            "Alone        7305\n",
            "Friend(s)    3298\n",
            "Partner      1075\n",
            "Kid(s)       1006\n",
            "Name: count, dtype: int64\n",
            "\n",
            "Unique values in weather:\n",
            "weather\n",
            "Sunny    10069\n",
            "Snowy     1405\n",
            "Rainy     1210\n",
            "Name: count, dtype: int64\n",
            "\n",
            "Unique values in time:\n",
            "time\n",
            "6PM     3230\n",
            "7AM     3164\n",
            "10AM    2275\n",
            "2PM     2009\n",
            "10PM    2006\n",
            "Name: count, dtype: int64\n",
            "\n",
            "Unique values in coupon:\n",
            "coupon\n",
            "Coffee House             3996\n",
            "Restaurant(<20)          2786\n",
            "Carry out & Take away    2393\n",
            "Bar                      2017\n",
            "Restaurant(20-50)        1492\n",
            "Name: count, dtype: int64\n",
            "\n",
            "Unique values in expiration:\n",
            "expiration\n",
            "1d    7091\n",
            "2h    5593\n",
            "Name: count, dtype: int64\n",
            "\n",
            "Unique values in gender:\n",
            "gender\n",
            "Female    6511\n",
            "Male      6173\n",
            "Name: count, dtype: int64\n",
            "\n",
            "Unique values in age:\n",
            "age\n",
            "21         2653\n",
            "26         2559\n",
            "31         2039\n",
            "50plus     1788\n",
            "36         1319\n",
            "41         1093\n",
            "46          686\n",
            "below21     547\n",
            "Name: count, dtype: int64\n",
            "\n",
            "Unique values in maritalStatus:\n",
            "maritalStatus\n",
            "Married partner      5100\n",
            "Single               4752\n",
            "Unmarried partner    2186\n",
            "Divorced              516\n",
            "Widowed               130\n",
            "Name: count, dtype: int64\n",
            "\n",
            "Unique values in education:\n",
            "education\n",
            "Some college - no degree                  4351\n",
            "Bachelors degree                          4335\n",
            "Graduate degree (Masters or Doctorate)    1852\n",
            "Associates degree                         1153\n",
            "High School Graduate                       905\n",
            "Some High School                            88\n",
            "Name: count, dtype: int64\n",
            "\n",
            "Unique values in occupation:\n",
            "occupation\n",
            "Unemployed                                   1870\n",
            "Student                                      1584\n",
            "Computer & Mathematical                      1408\n",
            "Sales & Related                              1093\n",
            "Education&Training&Library                    943\n",
            "Management                                    838\n",
            "Office & Administrative Support               639\n",
            "Arts Design Entertainment Sports & Media      629\n",
            "Business & Financial                          544\n",
            "Retired                                       495\n",
            "Food Preparation & Serving Related            298\n",
            "Healthcare Practitioners & Technical          244\n",
            "Healthcare Support                            242\n",
            "Community & Social Services                   241\n",
            "Legal                                         219\n",
            "Transportation & Material Moving              218\n",
            "Architecture & Engineering                    175\n",
            "Personal Care & Service                       175\n",
            "Protective Service                            175\n",
            "Life Physical Social Science                  170\n",
            "Construction & Extraction                     154\n",
            "Installation Maintenance & Repair             133\n",
            "Production Occupations                        110\n",
            "Building & Grounds Cleaning & Maintenance      44\n",
            "Farming Fishing & Forestry                     43\n",
            "Name: count, dtype: int64\n",
            "\n",
            "Unique values in income:\n",
            "income\n",
            "$25000 - $37499     2013\n",
            "$12500 - $24999     1831\n",
            "$37500 - $49999     1805\n",
            "$100000 or More     1736\n",
            "$50000 - $62499     1659\n",
            "Less than $12500    1042\n",
            "$87500 - $99999      895\n",
            "$75000 - $87499      857\n",
            "$62500 - $74999      846\n",
            "Name: count, dtype: int64\n",
            "\n",
            "Unique values in car:\n",
            "car\n",
            "Scooter and motorcycle                      22\n",
            "Mazda5                                      22\n",
            "do not drive                                22\n",
            "crossover                                   21\n",
            "Car that is too old to install Onstar :D    21\n",
            "Name: count, dtype: int64\n",
            "\n",
            "Unique values in Bar:\n",
            "Bar\n",
            "never    5197\n",
            "less1    3482\n",
            "1~3      2473\n",
            "4~8      1076\n",
            "gt8       349\n",
            "Name: count, dtype: int64\n",
            "\n",
            "Unique values in CoffeeHouse:\n",
            "CoffeeHouse\n",
            "less1    3385\n",
            "1~3      3225\n",
            "never    2962\n",
            "4~8      1784\n",
            "gt8      1111\n",
            "Name: count, dtype: int64\n",
            "\n",
            "Unique values in CarryAway:\n",
            "CarryAway\n",
            "1~3      4672\n",
            "4~8      4258\n",
            "less1    1856\n",
            "gt8      1594\n",
            "never     153\n",
            "Name: count, dtype: int64\n",
            "\n",
            "Unique values in RestaurantLessThan20:\n",
            "RestaurantLessThan20\n",
            "1~3      5376\n",
            "4~8      3580\n",
            "less1    2093\n",
            "gt8      1285\n",
            "never     220\n",
            "Name: count, dtype: int64\n",
            "\n",
            "Unique values in Restaurant20To50:\n",
            "Restaurant20To50\n",
            "less1    6077\n",
            "1~3      3290\n",
            "never    2136\n",
            "4~8       728\n",
            "gt8       264\n",
            "Name: count, dtype: int64\n"
          ]
        }
      ],
      "source": [
        "#Basic information about the dataset\n",
        "print(data.info())\n",
        "#Check for missing values\n",
        "print(data.isnull().sum())\n",
        "#Summary statistics\n",
        "print(data.describe())\n",
        "\n",
        "#Lets check for any unexpected values in the categorical columns\n",
        "for col in data.select_dtypes(include=['object']).columns:\n",
        "    print(f\"\\nUnique values in {col}:\")\n",
        "    print(data[col].value_counts())"
      ]
    },
    {
      "cell_type": "markdown",
      "metadata": {
        "id": "bSdVSpYB_qRH"
      },
      "source": [
        "3. Decide what to do about your missing data -- drop, replace, other..."
      ]
    },
    {
      "cell_type": "code",
      "execution_count": 9,
      "metadata": {
        "id": "tyvoAC5F_qRI"
      },
      "outputs": [
        {
          "name": "stdout",
          "output_type": "stream",
          "text": [
            "destination             0\n",
            "passanger               0\n",
            "weather                 0\n",
            "temperature             0\n",
            "time                    0\n",
            "coupon                  0\n",
            "expiration              0\n",
            "gender                  0\n",
            "age                     0\n",
            "maritalStatus           0\n",
            "has_children            0\n",
            "education               0\n",
            "occupation              0\n",
            "income                  0\n",
            "car                     0\n",
            "Bar                     0\n",
            "CoffeeHouse             0\n",
            "CarryAway               0\n",
            "RestaurantLessThan20    0\n",
            "Restaurant20To50        0\n",
            "toCoupon_GEQ5min        0\n",
            "toCoupon_GEQ15min       0\n",
            "toCoupon_GEQ25min       0\n",
            "direction_same          0\n",
            "direction_opp           0\n",
            "Y                       0\n",
            "dtype: int64\n"
          ]
        }
      ],
      "source": [
        "#Lets drop row with missing values\n",
        "data = data.dropna()\n",
        "\n",
        "#Verify there are no missing values\n",
        "print(data.isnull().sum())"
      ]
    },
    {
      "cell_type": "markdown",
      "metadata": {
        "id": "YE6oJbXd_qRI"
      },
      "source": [
        "4. What proportion of the total observations chose to accept the coupon?\n",
        "\n"
      ]
    },
    {
      "cell_type": "code",
      "execution_count": 10,
      "metadata": {
        "id": "86GGqBTv_qRI"
      },
      "outputs": [
        {
          "name": "stdout",
          "output_type": "stream",
          "text": [
            "Proportion of observations that accepted the coupon: 57.41%\n"
          ]
        }
      ],
      "source": [
        "#Calculate the acceptance rate\n",
        "acceptance_rate = data['Y'].mean()\n",
        "print(f\"Proportion of observations that accepted the coupon: {acceptance_rate:.2%}\")"
      ]
    },
    {
      "cell_type": "markdown",
      "metadata": {
        "id": "vflz0DoE_qRI"
      },
      "source": [
        "5. Use a bar plot to visualize the `coupon` column."
      ]
    },
    {
      "cell_type": "code",
      "execution_count": 11,
      "metadata": {
        "id": "dHFh3E45_qRI"
      },
      "outputs": [
        {
          "data": {
            "image/png": "[encoded data removed]",
            "text/plain": [
              "<Figure size 1200x600 with 1 Axes>"
            ]
          },
          "metadata": {},
          "output_type": "display_data"
        }
      ],
      "source": [
        "\n",
        "#Use seaborn to plot the distribution of coupon types\n",
        "sns.countplot(x='coupon', data=data, order=data['coupon'].value_counts().index)\n",
        "plt.title('Distribution of Coupon Types')\n",
        "plt.xlabel('Coupon Type')\n",
        "plt.ylabel('Count')\n",
        "plt.xticks(rotation=45, ha='right')\n",
        "plt.tight_layout()\n",
        "plt.show()"
      ]
    },
    {
      "cell_type": "markdown",
      "metadata": {
        "id": "Qw4lCyx2_qRI"
      },
      "source": [
        "6. Use a histogram to visualize the temperature column."
      ]
    },
    {
      "cell_type": "code",
      "execution_count": 31,
      "metadata": {
        "id": "Yg9Anv71_qRI"
      },
      "outputs": [
        {
          "data": {
            "image/png": "[encoded data removed]",
            "text/plain": [
              "<Figure size 1000x600 with 1 Axes>"
            ]
          },
          "metadata": {},
          "output_type": "display_data"
        }
      ],
      "source": [
        "plt.figure(figsize=(10, 6))\n",
        "sns.histplot(data['temperature'], bins=20, kde=True)\n",
        "plt.title('Distribution of Temperature')\n",
        "plt.xlabel('Temperature')\n",
        "plt.ylabel('Frequency')\n",
        "plt.show()"
      ]
    },
    {
      "cell_type": "markdown",
      "metadata": {
        "id": "FupfgeJk_qRJ"
      },
      "source": [
        "**Investigating the Bar Coupons**\n",
        "\n",
        "Now, we will lead you through an exploration of just the bar related coupons.  \n",
        "\n",
        "1. Create a new `DataFrame` that contains just the bar coupons.\n"
      ]
    },
    {
      "cell_type": "code",
      "execution_count": 13,
      "metadata": {
        "id": "tMBlWuGq_qRJ"
      },
      "outputs": [],
      "source": [
        "bar_coupons = data[data['coupon'] == 'Bar']"
      ]
    },
    {
      "cell_type": "markdown",
      "metadata": {
        "id": "8ue6uCqf_qRJ"
      },
      "source": [
        "2. What proportion of bar coupons were accepted?\n"
      ]
    },
    {
      "cell_type": "code",
      "execution_count": 14,
      "metadata": {
        "id": "hSdte8Mi_qRK"
      },
      "outputs": [
        {
          "name": "stdout",
          "output_type": "stream",
          "text": [
            "Proportion of bar coupons accepted: 23.08%\n"
          ]
        }
      ],
      "source": [
        "bar_acceptance_rate = bar_coupons['Y'].mean()\n",
        "print(f\"Proportion of bar coupons accepted: {bar_acceptance_rate:.2%}\")"
      ]
    },
    {
      "cell_type": "markdown",
      "metadata": {
        "id": "85nA_iEi_qRK"
      },
      "source": [
        "3. Compare the acceptance rate between those who went to a bar 3 or fewer times a month to those who went more.\n"
      ]
    },
    {
      "cell_type": "code",
      "execution_count": 32,
      "metadata": {
        "id": "LBOrN-XM_qRK"
      },
      "outputs": [
        {
          "name": "stdout",
          "output_type": "stream",
          "text": [
            "Acceptance rate by bar frequency:\n",
            "bar_frequency_group\n",
            "3 or fewer     0.333333\n",
            "more than 3    0.200000\n",
            "Name: Y, dtype: float64\n"
          ]
        }
      ],
      "source": [
        "bar_coupons = data[data['coupon'] == 'Bar'].copy()\n",
        "def bar_frequency_group(x):\n",
        "    if x in ['less1', '1~3']:\n",
        "        return '3 or fewer'\n",
        "    else:\n",
        "        return 'more than 3'\n",
        "\n",
        "bar_coupons.loc[:, 'bar_frequency_group'] = bar_coupons['Bar'].apply(bar_frequency_group)\n",
        "\n",
        "acceptance_by_frequency = bar_coupons.groupby('bar_frequency_group')['Y'].mean()\n",
        "print(\"Acceptance rate by bar frequency:\")\n",
        "print(acceptance_by_frequency)"
      ]
    },
    {
      "cell_type": "markdown",
      "metadata": {
        "id": "RBgcQwH4_qRK"
      },
      "source": [
        "4. Compare the acceptance rate between drivers who go to a bar more than once a month and are over the age of 25 to the all others.  Is there a difference?\n"
      ]
    },
    {
      "cell_type": "code",
      "execution_count": 33,
      "metadata": {
        "id": "bf28bbeX_qRK"
      },
      "outputs": [
        {
          "name": "stdout",
          "output_type": "stream",
          "text": [
            "Acceptance rate by driver group:\n",
            "driver_group\n",
            "frequent and over 25    0.6\n",
            "others                  0.0\n",
            "Name: Y, dtype: float64\n",
            "\n",
            "Sample sizes:\n",
            "driver_group\n",
            "others                  8\n",
            "frequent and over 25    5\n",
            "Name: count, dtype: int64\n"
          ]
        }
      ],
      "source": [
        "bar_coupons = data[data['coupon'] == 'Bar'].copy()\n",
        "def driver_group(row):\n",
        "    return 'frequent and over 25' if row['Bar'] != 'never' and row['age'] not in ['below21', '21'] else 'others'\n",
        "\n",
        "bar_coupons.loc[:, 'driver_group'] = bar_coupons.apply(driver_group, axis=1)\n",
        "\n",
        "acceptance_by_driver_group = bar_coupons.groupby('driver_group')['Y'].mean()\n",
        "print(\"Acceptance rate by driver group:\")\n",
        "print(acceptance_by_driver_group)\n",
        "print(\"\\nSample sizes:\")\n",
        "print(bar_coupons['driver_group'].value_counts())"
      ]
    },
    {
      "cell_type": "markdown",
      "metadata": {
        "id": "S4RKT4PJ_qRK"
      },
      "source": [
        "5. Use the same process to compare the acceptance rate between drivers who go to bars more than once a month and had passengers that were not a kid and had occupations other than farming, fishing, or forestry.\n"
      ]
    },
    {
      "cell_type": "code",
      "execution_count": 34,
      "metadata": {
        "id": "sENaI2Tg_qRK"
      },
      "outputs": [
        {
          "name": "stdout",
          "output_type": "stream",
          "text": [
            "Acceptance rate by special group:\n",
            "special_group\n",
            "others           0.0\n",
            "special group    0.6\n",
            "Name: Y, dtype: float64\n"
          ]
        }
      ],
      "source": [
        "bar_coupons = data[data['coupon'] == 'Bar'].copy()\n",
        "def special_group(row):\n",
        "    if (row['Bar'] != 'never' and\n",
        "        row['passanger'] != 'Kid(s)' and\n",
        "        row['occupation'] != 'Farming Fishing & Forestry'):\n",
        "        return 'special group'\n",
        "    else:\n",
        "        return 'others'\n",
        "\n",
        "bar_coupons.loc[:, 'special_group'] = bar_coupons.apply(special_group, axis=1)\n",
        "\n",
        "acceptance_by_special_group = bar_coupons.groupby('special_group')['Y'].mean()\n",
        "print(\"Acceptance rate by special group:\")\n",
        "print(acceptance_by_special_group)"
      ]
    },
    {
      "cell_type": "markdown",
      "metadata": {
        "id": "n2LIUTil_qRK"
      },
      "source": [
        "6. Compare the acceptance rates between those drivers who:\n",
        "\n",
        "- go to bars more than once a month, had passengers that were not a kid, and were not widowed *OR*\n",
        "- go to bars more than once a month and are under the age of 30 *OR*\n",
        "- go to cheap restaurants more than 4 times a month and income is less than 50K.\n",
        "\n"
      ]
    },
    {
      "cell_type": "code",
      "execution_count": 35,
      "metadata": {
        "id": "aK_wEzx7_qRK"
      },
      "outputs": [
        {
          "name": "stdout",
          "output_type": "stream",
          "text": [
            "Acceptance rate by complex group:\n",
            "complex_group\n",
            "others          0.0\n",
            "target group    0.6\n",
            "Name: Y, dtype: float64\n",
            "\n",
            "Sample sizes:\n",
            "complex_group\n",
            "others          8\n",
            "target group    5\n",
            "Name: count, dtype: int64\n"
          ]
        }
      ],
      "source": [
        "bar_coupons = data[data['coupon'] == 'Bar'].copy()\n",
        "def complex_group(row):\n",
        "    condition1 = (row['Bar'] != 'never' and row['passanger'] != 'Kid(s)' and row['maritalStatus'] != 'Widowed')\n",
        "    condition2 = (row['Bar'] != 'never' and row['age'] not in ['50plus', '46', '41', '36', '31'])\n",
        "    condition3 = (row['RestaurantLessThan20'] in ['4~8', 'gt8'] and\n",
        "                  row['income'] in ['Less than $12500', '$12500 - $24999', '$25000 - $37499', '$37500 - $49999'])\n",
        "    return 'target group' if condition1 or condition2 or condition3 else 'others'\n",
        "\n",
        "bar_coupons.loc[:, 'complex_group'] = bar_coupons.apply(complex_group, axis=1)\n",
        "\n",
        "acceptance_by_complex_group = bar_coupons.groupby('complex_group')['Y'].mean()\n",
        "print(\"Acceptance rate by complex group:\")\n",
        "print(acceptance_by_complex_group)\n",
        "print(\"\\nSample sizes:\")\n",
        "print(bar_coupons['complex_group'].value_counts())"
      ]
    },
    {
      "cell_type": "markdown",
      "metadata": {
        "id": "v3fL3QkO_qRK"
      },
      "source": [
        "7.  Based on these observations, what do you hypothesize about drivers who accepted the bar coupons?"
      ]
    },
    {
      "cell_type": "markdown",
      "metadata": {},
      "source": [
        "## Analysis of Bar Coupons\n",
        "\n",
        "### Frequency of Bar Visits\n",
        "- Drivers who go to bars 3 or fewer times a month are more likely to accept bar coupons (33.33% acceptance rate) compared to those who go more frequently (20% acceptance rate).\n",
        "- This suggests that occasional bar-goers are more enticed by coupons.\n",
        "\n",
        "### Age and Frequency\n",
        "- Drivers who go to bars more than once a month and are over 25 years old are significantly more likely to accept bar coupons (60% acceptance rate) compared to others (0% acceptance rate).\n",
        "- This indicates that regular bar-goers who are older are more receptive to bar coupons.\n",
        "\n",
        "### Passengers and Occupation\n",
        "- Drivers who go to bars more than once a month, had passengers that were not kids, and had occupations other than farming, fishing, or forestry were more likely to accept bar coupons (60% acceptance rate for this \"special group\" vs 0% for others).\n",
        "\n",
        "### Complex Criteria\n",
        "Drivers meeting at least one of these criteria were more likely to accept bar coupons (60% acceptance rate vs 0% for others):\n",
        "- Frequent bar-goers with non-kid passengers and not widowed\n",
        "- Frequent bar-goers under 30\n",
        "- Frequent cheap restaurant goers with lower income\n",
        "\n",
        "This suggests that drivers who meet these criteria are more likely to accept bar coupons."
      ]
    },
    {
      "cell_type": "markdown",
      "metadata": {
        "id": "r4Hu1zOb_qRL"
      },
      "source": [
        "### Independent Investigation\n",
        "\n",
        "Using the bar coupon example as motivation, you are to explore one of the other coupon groups and try to determine the characteristics of passengers who accept the coupons.  "
      ]
    },
    {
      "cell_type": "code",
      "execution_count": 19,
      "metadata": {
        "id": "0c71cQhu_qRL"
      },
      "outputs": [],
      "source": [
        "#Coffee house coupons\n",
        "\n",
        "coffee_coupons = data[data['coupon'] == 'Coffee House']"
      ]
    },
    {
      "cell_type": "code",
      "execution_count": 20,
      "metadata": {
        "id": "QEsBkvIN_qRL"
      },
      "outputs": [
        {
          "name": "stdout",
          "output_type": "stream",
          "text": [
            "Proportion of coffee house coupons accepted: 51.35%\n"
          ]
        }
      ],
      "source": [
        "coffee_acceptance_rate = coffee_coupons['Y'].mean()\n",
        "print(f\"Proportion of coffee house coupons accepted: {coffee_acceptance_rate:.2%}\")\n"
      ]
    },
    {
      "cell_type": "code",
      "execution_count": 57,
      "metadata": {
        "id": "fTC2WGE3_qRL"
      },
      "outputs": [
        {
          "name": "stdout",
          "output_type": "stream",
          "text": [
            "\n",
            "Acceptance rate by coffee house visit frequency:\n",
            "coffee_frequency_group\n",
            "3 or fewer     0.518519\n",
            "more than 3    0.500000\n",
            "Name: Y, dtype: float64\n"
          ]
        }
      ],
      "source": [
        "# Acceptance rate by coffee house visit frequency\n",
        "def coffee_frequency_group(x):\n",
        "    if x in ['less1', '1~3']:\n",
        "        return '3 or fewer'\n",
        "    else:\n",
        "        return 'more than 3'\n",
        "\n",
        "coffee_coupons.loc[:, 'coffee_frequency_group'] = coffee_coupons['CoffeeHouse'].apply(coffee_frequency_group)\n",
        "acceptance_by_frequency = coffee_coupons.groupby('coffee_frequency_group')['Y'].mean()\n",
        "\n",
        "\n",
        "print(\"\\nAcceptance rate by coffee house visit frequency:\")\n",
        "print(acceptance_by_frequency)"
      ]
    },
    {
      "cell_type": "code",
      "execution_count": 49,
      "metadata": {
        "id": "RrqUWn7d_qRL"
      },
      "outputs": [
        {
          "name": "stdout",
          "output_type": "stream",
          "text": [
            "\n",
            "Acceptance rate by age and visit frequency:\n",
            "coffee_age_group\n",
            "frequent and over 25    0.483871\n",
            "others                  0.666667\n",
            "Name: Y, dtype: float64\n",
            "\n",
            "Sample sizes:\n",
            "coffee_age_group\n",
            "frequent and over 25    31\n",
            "others                   6\n",
            "Name: count, dtype: int64\n"
          ]
        }
      ],
      "source": [
        "def coffee_age_group(coffee_frequency, age):\n",
        "    if coffee_frequency != 'never' and age not in ['below21', '21']:\n",
        "        return 'frequent and over 25'\n",
        "    else:\n",
        "        return 'others'\n",
        "\n",
        "coffee_coupons.loc[:, 'coffee_age_group'] = coffee_coupons.apply(lambda row: coffee_age_group(row['CoffeeHouse'], row['age']), axis=1)\n",
        "\n",
        "acceptance_by_age_group = coffee_coupons.groupby('coffee_age_group')['Y'].mean()\n",
        "print(\"\\nAcceptance rate by age and visit frequency:\")\n",
        "print(acceptance_by_age_group)\n",
        "\n",
        "# Print sample sizes\n",
        "print(\"\\nSample sizes:\")\n",
        "print(coffee_coupons['coffee_age_group'].value_counts())\n"
      ]
    },
    {
      "cell_type": "code",
      "execution_count": 50,
      "metadata": {
        "id": "_oykf8YP_qRL"
      },
      "outputs": [
        {
          "name": "stdout",
          "output_type": "stream",
          "text": [
            "Acceptance rate by time of day:\n",
            "time\n",
            "10AM    0.444444\n",
            "10PM    0.500000\n",
            "2PM     0.625000\n",
            "6PM     0.416667\n",
            "7AM     0.666667\n",
            "Name: Y, dtype: float64\n",
            "\n",
            "Sample sizes:\n",
            "time\n",
            "6PM     12\n",
            "10AM     9\n",
            "2PM      8\n",
            "7AM      6\n",
            "10PM     2\n",
            "Name: count, dtype: int64\n"
          ]
        }
      ],
      "source": [
        "acceptance_by_time = coffee_coupons.groupby('time')['Y'].mean()\n",
        "print(\"Acceptance rate by time of day:\")\n",
        "print(acceptance_by_time)\n",
        "\n",
        "# Print sample sizes\n",
        "print(\"\\nSample sizes:\")\n",
        "print(coffee_coupons['time'].value_counts())\n"
      ]
    },
    {
      "cell_type": "code",
      "execution_count": 51,
      "metadata": {},
      "outputs": [
        {
          "name": "stdout",
          "output_type": "stream",
          "text": [
            "Acceptance rate by weather:\n",
            "weather\n",
            "Rainy    0.500000\n",
            "Snowy    0.000000\n",
            "Sunny    0.545455\n",
            "Name: Y, dtype: float64\n",
            "\n",
            "Sample sizes:\n",
            "weather\n",
            "Sunny    33\n",
            "Rainy     2\n",
            "Snowy     2\n",
            "Name: count, dtype: int64\n"
          ]
        }
      ],
      "source": [
        "acceptance_by_weather = coffee_coupons.groupby('weather')['Y'].mean()\n",
        "print(\"Acceptance rate by weather:\")\n",
        "print(acceptance_by_weather)\n",
        "\n",
        "# Print sample sizes\n",
        "print(\"\\nSample sizes:\")\n",
        "print(coffee_coupons['weather'].value_counts())\n"
      ]
    },
    {
      "cell_type": "code",
      "execution_count": 52,
      "metadata": {},
      "outputs": [
        {
          "name": "stdout",
          "output_type": "stream",
          "text": [
            "Acceptance rate by gender:\n",
            "gender\n",
            "Female    0.285714\n",
            "Male      0.652174\n",
            "Name: Y, dtype: float64\n",
            "\n",
            "Sample sizes:\n",
            "gender\n",
            "Male      23\n",
            "Female    14\n",
            "Name: count, dtype: int64\n"
          ]
        }
      ],
      "source": [
        "acceptance_by_gender = coffee_coupons.groupby('gender')['Y'].mean()\n",
        "print(\"Acceptance rate by gender:\")\n",
        "print(acceptance_by_gender)\n",
        "\n",
        "# Print sample sizes\n",
        "print(\"\\nSample sizes:\")\n",
        "print(coffee_coupons['gender'].value_counts())\n"
      ]
    },
    {
      "cell_type": "code",
      "execution_count": 53,
      "metadata": {},
      "outputs": [
        {
          "name": "stdout",
          "output_type": "stream",
          "text": [
            "Acceptance rate by income group:\n",
            "income_group\n",
            "High      0.476190\n",
            "Low       0.500000\n",
            "Medium    0.666667\n",
            "Name: Y, dtype: float64\n",
            "\n",
            "Sample sizes:\n",
            "income_group\n",
            "High      21\n",
            "Low       10\n",
            "Medium     6\n",
            "Name: count, dtype: int64\n"
          ]
        }
      ],
      "source": [
        "def income_group(income):\n",
        "    if income in ['Less than $12500', '$12500 - $24999', '$25000 - $37499']:\n",
        "        return 'Low'\n",
        "    elif income in ['$37500 - $49999', '$50000 - $62499', '$62500 - $74999']:\n",
        "        return 'Medium'\n",
        "    else:\n",
        "        return 'High'\n",
        "\n",
        "coffee_coupons.loc[:, 'income_group'] = coffee_coupons['income'].apply(income_group)\n",
        "acceptance_by_income = coffee_coupons.groupby('income_group')['Y'].mean()\n",
        "print(\"Acceptance rate by income group:\")\n",
        "print(acceptance_by_income)\n",
        "\n",
        "# Print sample sizes\n",
        "print(\"\\nSample sizes:\")\n",
        "print(coffee_coupons['income_group'].value_counts())\n"
      ]
    },
    {
      "cell_type": "code",
      "execution_count": 58,
      "metadata": {},
      "outputs": [
        {
          "name": "stdout",
          "output_type": "stream",
          "text": [
            "Acceptance rate by age group and visit frequency:\n",
            "coffee_frequency_group  3 or fewer  more than 3\n",
            "age_group                                      \n",
            "Adult                     0.428571          0.5\n",
            "Older                     0.571429          NaN\n",
            "Young                     0.666667          NaN\n",
            "\n",
            "Sample sizes:\n",
            "age_group\n",
            "Adult    24\n",
            "Older     7\n",
            "Young     6\n",
            "Name: count, dtype: int64\n",
            "coffee_frequency_group\n",
            "3 or fewer     27\n",
            "more than 3    10\n",
            "Name: count, dtype: int64\n"
          ]
        }
      ],
      "source": [
        "#Age and visit frequency combined\n",
        "def age_group(age):\n",
        "    if age in ['below21', '21']:\n",
        "        return 'Young'\n",
        "    elif age in ['26', '31']:\n",
        "        return 'Adult'\n",
        "    else:\n",
        "        return 'Older'\n",
        "\n",
        "# acceptance rate by age and frequency\n",
        "acceptance_by_age_frequency = coffee_coupons.groupby(['age_group', 'coffee_frequency_group'])['Y'].mean().unstack()\n",
        "print(\"Acceptance rate by age group and visit frequency:\")\n",
        "print(acceptance_by_age_frequency)\n",
        "\n",
        "# Print sample sizes\n",
        "print(\"\\nSample sizes:\")\n",
        "print(coffee_coupons['age_group'].value_counts())\n",
        "print(coffee_coupons['coffee_frequency_group'].value_counts())\n"
      ]
    },
    {
      "cell_type": "code",
      "execution_count": 59,
      "metadata": {},
      "outputs": [
        {
          "name": "stdout",
          "output_type": "stream",
          "text": [
            "Acceptance rate by passenger type:\n",
            "passanger\n",
            "Alone        0.500000\n",
            "Friend(s)    0.533333\n",
            "Kid(s)       0.500000\n",
            "Name: Y, dtype: float64\n",
            "\n",
            "Sample sizes:\n",
            "passanger\n",
            "Alone        20\n",
            "Friend(s)    15\n",
            "Kid(s)        2\n",
            "Name: count, dtype: int64\n"
          ]
        }
      ],
      "source": [
        "acceptance_by_passenger = coffee_coupons.groupby('passanger')['Y'].mean()\n",
        "print(\"Acceptance rate by passenger type:\")\n",
        "print(acceptance_by_passenger)\n",
        "\n",
        "# Print sample sizes\n",
        "print(\"\\nSample sizes:\")\n",
        "print(coffee_coupons['passanger'].value_counts())\n"
      ]
    },
    {
      "cell_type": "code",
      "execution_count": 60,
      "metadata": {},
      "outputs": [
        {
          "name": "stdout",
          "output_type": "stream",
          "text": [
            "Acceptance rate by coupon expiration:\n",
            "expiration\n",
            "1d    0.400000\n",
            "2h    0.590909\n",
            "Name: Y, dtype: float64\n",
            "\n",
            "Sample sizes:\n",
            "expiration\n",
            "2h    22\n",
            "1d    15\n",
            "Name: count, dtype: int64\n"
          ]
        }
      ],
      "source": [
        "acceptance_by_expiration = coffee_coupons.groupby('expiration')['Y'].mean()\n",
        "print(\"Acceptance rate by coupon expiration:\")\n",
        "print(acceptance_by_expiration)\n",
        "\n",
        "# Print sample sizes\n",
        "print(\"\\nSample sizes:\")\n",
        "print(coffee_coupons['expiration'].value_counts())\n"
      ]
    },
    {
      "cell_type": "code",
      "execution_count": 64,
      "metadata": {},
      "outputs": [
        {
          "name": "stdout",
          "output_type": "stream",
          "text": [
            "Acceptance rate by destination:\n",
            "destination\n",
            "Home               0.428571\n",
            "No Urgent Place    0.500000\n",
            "Work               0.666667\n",
            "Name: Y, dtype: float64\n",
            "\n",
            "Sample sizes:\n",
            "destination\n",
            "No Urgent Place    24\n",
            "Home                7\n",
            "Work                6\n",
            "Name: count, dtype: int64\n"
          ]
        }
      ],
      "source": [
        "acceptance_by_destination = coffee_coupons.groupby('destination')['Y'].mean()\n",
        "print(\"Acceptance rate by destination:\")\n",
        "print(acceptance_by_destination)\n",
        "\n",
        "# Print sample sizes\n",
        "print(\"\\nSample sizes:\")\n",
        "print(coffee_coupons['destination'].value_counts())\n"
      ]
    },
    {
      "cell_type": "code",
      "execution_count": 62,
      "metadata": {},
      "outputs": [
        {
          "name": "stdout",
          "output_type": "stream",
          "text": [
            "Acceptance rate by gender and time of day:\n",
            "time    10AM  10PM       2PM       6PM   7AM\n",
            "gender                                      \n",
            "Female  0.25   0.0  0.500000  0.200000  0.50\n",
            "Male    0.60   1.0  0.666667  0.571429  0.75\n",
            "\n",
            "Sample sizes:\n",
            "gender\n",
            "Male      23\n",
            "Female    14\n",
            "Name: count, dtype: int64\n",
            "time\n",
            "6PM     12\n",
            "10AM     9\n",
            "2PM      8\n",
            "7AM      6\n",
            "10PM     2\n",
            "Name: count, dtype: int64\n"
          ]
        }
      ],
      "source": [
        "acceptance_by_gender_and_time = coffee_coupons.groupby(['gender', 'time'])['Y'].mean().unstack()\n",
        "print(\"Acceptance rate by gender and time of day:\")\n",
        "print(acceptance_by_gender_and_time)\n",
        "\n",
        "# Print sample sizes\n",
        "print(\"\\nSample sizes:\")\n",
        "print(coffee_coupons['gender'].value_counts())\n",
        "print(coffee_coupons['time'].value_counts())"
      ]
    },
    {
      "cell_type": "code",
      "execution_count": 63,
      "metadata": {},
      "outputs": [
        {
          "name": "stdout",
          "output_type": "stream",
          "text": [
            "Acceptance rate by age and time of day:\n",
            "time      10AM  10PM       2PM       6PM   7AM\n",
            "age                                           \n",
            "21    0.500000   1.0       NaN  0.666667   NaN\n",
            "26    0.333333   0.0  0.666667  0.285714  0.75\n",
            "41    1.000000   NaN  0.500000  0.500000  0.50\n",
            "\n",
            "Sample sizes:\n",
            "age\n",
            "26    24\n",
            "41     7\n",
            "21     6\n",
            "Name: count, dtype: int64\n",
            "time\n",
            "6PM     12\n",
            "10AM     9\n",
            "2PM      8\n",
            "7AM      6\n",
            "10PM     2\n",
            "Name: count, dtype: int64\n"
          ]
        }
      ],
      "source": [
        "acceptance_by_age_and_time = coffee_coupons.groupby(['age', 'time'])['Y'].mean().unstack()\n",
        "print(\"Acceptance rate by age and time of day:\")\n",
        "print(acceptance_by_age_and_time)\n",
        "\n",
        "# Print sample sizes\n",
        "print(\"\\nSample sizes:\")\n",
        "print(coffee_coupons['age'].value_counts())\n",
        "print(coffee_coupons['time'].value_counts())\n"
      ]
    },
    {
      "cell_type": "markdown",
      "metadata": {},
      "source": [
        "## Analysis of Coffee House Coupons\n",
        "\n",
        "### Overall Acceptance Rate\n",
        "- 51.35% of coffee house coupons were accepted (Sample size: 37)\n",
        "\n",
        "### Acceptance Rate by Visit Frequency\n",
        "- 3 or fewer visits per month: 51.85% acceptance rate (Sample size: 27)\n",
        "- More than 3 visits per month: 50.00% acceptance rate (Sample size: 10)\n",
        "\n",
        "### Acceptance Rate by Age and Visit Frequency\n",
        "- Frequent visitors over 25: 48.39% acceptance rate (Sample size: 31)\n",
        "- Others: 66.67% acceptance rate (Sample size: 6)\n",
        "Note: The sample size for \"others\" is quite small, which may affect the reliability of this comparison.\n",
        "\n",
        "### Acceptance Rate by Time of Day\n",
        "- 7AM: 66.67% acceptance rate (Sample size: 6)\n",
        "- 10AM: 44.44% acceptance rate (Sample size: 9)\n",
        "- 2PM: 62.50% acceptance rate (Sample size: 8)\n",
        "- 6PM: 41.67% acceptance rate (Sample size: 12)\n",
        "- 10PM: 50.00% acceptance rate (Sample size: 2)\n",
        "\n",
        "### Acceptance Rate by Weather\n",
        "- Sunny: 54.55% acceptance rate (Sample size: 33)\n",
        "- Rainy: 50.00% acceptance rate (Sample size: 2)\n",
        "- Snowy: 0.00% acceptance rate (Sample size: 2)\n",
        "Note: Sample sizes for rainy and snowy weather are very small.\n",
        "\n",
        "### Acceptance Rate by Gender\n",
        "- Male: 65.22% acceptance rate (Sample size: 23)\n",
        "- Female: 28.57% acceptance rate (Sample size: 14)\n",
        "\n",
        "### Acceptance Rate by Income Group\n",
        "- Low income: 50.00% acceptance rate (Sample size: 10)\n",
        "- Medium income: 66.67% acceptance rate (Sample size: 6)\n",
        "- High income: 47.62% acceptance rate (Sample size: 21)\n",
        "\n",
        "### Acceptance Rate by Passenger Type\n",
        "- Alone: 50.00% acceptance rate (Sample size: 20)\n",
        "- With friend(s): 53.33% acceptance rate (Sample size: 15)\n",
        "- With kid(s): 50.00% acceptance rate (Sample size: 2)\n",
        "\n",
        "### Acceptance Rate by Coupon Expiration\n",
        "- 2 hours: 59.09% acceptance rate (Sample size: 22)\n",
        "- 1 day: 40.00% acceptance rate (Sample size: 15)\n",
        "\n",
        "### Acceptance Rate by Destination\n",
        "- Work: 66.67% acceptance rate (Sample size: 6)\n",
        "- No urgent place: 50.00% acceptance rate (Sample size: 24)\n",
        "- Home: 42.86% acceptance rate (Sample size: 7)\n",
        "\n",
        "These results suggest that coffee house coupons are generally popular across different demographics, with some variations based on factors like time of day, weather, income, and the user's destination. However, it's important to note that some categories have very small sample sizes, which may affect the reliability of those specific comparisons."
      ]
    }
  ],
  "metadata": {
    "colab": {
      "provenance": []
    },
    "kernelspec": {
      "display_name": "Python 3 (ipykernel)",
      "language": "python",
      "name": "python3"
    },
    "language_info": {
      "codemirror_mode": {
        "name": "ipython",
        "version": 3
      },
      "file_extension": ".py",
      "mimetype": "text/x-python",
      "name": "python",
      "nbconvert_exporter": "python",
      "pygments_lexer": "ipython3",
      "version": "3.11.9"
    }
  },
  "nbformat": 4,
  "nbformat_minor": 0
}
