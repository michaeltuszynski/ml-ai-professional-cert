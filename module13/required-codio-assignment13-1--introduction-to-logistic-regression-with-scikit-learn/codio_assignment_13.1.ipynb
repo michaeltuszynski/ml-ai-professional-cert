{
 "cells": [
  {
   "cell_type": "markdown",
   "metadata": {
    "deletable": false,
    "editable": false,
    "nbgrader": {
     "cell_type": "markdown",
     "checksum": "9933f7f5b81e7595ae3822099a6fdccd",
     "grade": false,
     "grade_id": "cell-780a10833ef4569c",
     "locked": true,
     "schema_version": 3,
     "solution": false
    }
   },
   "source": [
    "### Required Codio Assignment13.1: Introduction to Logistic Regression with Scikit-Learn\n",
    "\n",
    "**Expected Time = 60 minutes** \n",
    "\n",
    "**Total Points = 60** \n",
    "\n",
    "This activity introduces the `LogisticRegression` estimator from scikit-learn.  After fitting the model on a single feature for binary classes, you will plot the sigmoid curve to represent the learned model in terms of probabilities.  Finally, you will evaluate the model in terms of accuracy, precision, and recall.  \n",
    "\n",
    "#### Index\n",
    "\n",
    "- [Problem 1](#-Problem-1)\n",
    "- [Problem 2](#-Problem-2)\n",
    "- [Problem 3](#-Problem-3)\n",
    "- [Problem 4](#-Problem-4)\n",
    "- [Problem 5](#-Problem-5)\n",
    "- [Problem 6](#-Problem-6)"
   ]
  },
  {
   "cell_type": "code",
   "execution_count": 1,
   "metadata": {},
   "outputs": [],
   "source": [
    "import pandas as pd\n",
    "import numpy as np\n",
    "import seaborn as sns\n",
    "import matplotlib.pyplot as plt\n",
    "\n",
    "from sklearn.linear_model import LogisticRegression\n",
    "from sklearn.metrics import accuracy_score, recall_score, precision_score\n",
    "from sklearn.model_selection import train_test_split\n",
    "\n",
    "from scipy.optimize import minimize"
   ]
  },
  {
   "cell_type": "code",
   "execution_count": 2,
   "metadata": {},
   "outputs": [],
   "source": [
    "penguins = sns.load_dataset('penguins').dropna()\n",
    "penguins = penguins.loc[(penguins['species'] == 'Adelie') | (penguins['species'] == 'Gentoo')]\n",
    "X = penguins.drop('species', axis = 1)[['flipper_length_mm']]\n",
    "y = np.where(penguins.species == 'Adelie', 0, 1)\n",
    "X_train, X_test, y_train, y_test = train_test_split(X, y, random_state = 42)"
   ]
  },
  {
   "cell_type": "code",
   "execution_count": 3,
   "metadata": {},
   "outputs": [
    {
     "data": {
      "text/plain": [
       "Text(0.5, 1.0, 'Flipper Length by Species')"
      ]
     },
     "execution_count": 3,
     "metadata": {},
     "output_type": "execute_result"
    },
    {
     "data": {
      "image/png": "[encoded data removed]",
      "text/plain": [
       "<Figure size 640x480 with 1 Axes>"
      ]
     },
     "metadata": {},
     "output_type": "display_data"
    }
   ],
   "source": [
    "plt.scatter(X, penguins.species, c = y)\n",
    "plt.grid()\n",
    "plt.xlabel('Flipper Length (mm)')\n",
    "plt.ylabel('Species')\n",
    "plt.title('Flipper Length by Species')"
   ]
  },
  {
   "cell_type": "markdown",
   "metadata": {
    "deletable": false,
    "editable": false,
    "nbgrader": {
     "cell_type": "markdown",
     "checksum": "77bc5a57e9ff5b121006870c376caf56",
     "grade": false,
     "grade_id": "cell-81ab669f9555a94f",
     "locked": true,
     "schema_version": 3,
     "solution": false
    }
   },
   "source": [
    "[Back to top](#-Index)\n",
    "\n",
    "### Problem 1\n",
    "\n",
    "#### Building a Logistic Model\n",
    "\n",
    "**10 Points**\n",
    "\n",
    "\n",
    "Instantiate and fit a `LogisticRegression` estimato the the `log_reg` variable on the training data `X_train` and `y_train`. \n",
    " "
   ]
  },
  {
   "cell_type": "code",
   "execution_count": 4,
   "metadata": {
    "deletable": false,
    "nbgrader": {
     "cell_type": "code",
     "checksum": "ed737e5ade8a1b4cad07fe4bc06d9bff",
     "grade": false,
     "grade_id": "cell-883ca83ce3760c4e",
     "locked": false,
     "schema_version": 3,
     "solution": true
    }
   },
   "outputs": [
    {
     "name": "stdout",
     "output_type": "stream",
     "text": [
      "LogisticRegression()\n"
     ]
    }
   ],
   "source": [
    "### GRADED\n",
    "\n",
    "logreg = ''\n",
    "\n",
    "# YOUR CODE HERE\n",
    "\n",
    "logreg = LogisticRegression()\n",
    "logreg.fit(X_train, y_train)\n",
    "\n",
    "# Answer check\n",
    "print(logreg)"
   ]
  },
  {
   "cell_type": "code",
   "execution_count": null,
   "metadata": {
    "deletable": false,
    "editable": false,
    "nbgrader": {
     "cell_type": "code",
     "checksum": "f716642a738cf3145a3fb0cfb2156f52",
     "grade": true,
     "grade_id": "cell-ad29b4e862352ef6",
     "locked": true,
     "points": 10,
     "schema_version": 3,
     "solution": false
    }
   },
   "outputs": [],
   "source": []
  },
  {
   "cell_type": "markdown",
   "metadata": {
    "deletable": false,
    "editable": false,
    "nbgrader": {
     "cell_type": "markdown",
     "checksum": "c3bc04f958d51735346dd6f2f201ccfb",
     "grade": false,
     "grade_id": "cell-2d1bbc4b2f767a0c",
     "locked": true,
     "schema_version": 3,
     "solution": false
    }
   },
   "source": [
    "[Back to top](#-Index)\n",
    "\n",
    "### Problem 2\n",
    "\n",
    "#### Examining the coefficients\n",
    "\n",
    "**10 Points**\n",
    "\n",
    "Similar to the `LinearRegression` estimator, your `log_reg` estimator now has a `.coef_` and `.intercept_` attribute.  Your goal is to calculate a linear combination of the input with these coefficients and intercept terms.\n",
    "\n",
    "Below, complete the function `linear_predictions` that takes in a fit regression model `model`, and a feature array `X`.  This function should return the predictions according to the formula: $$ \\text{intercept} + \\text{coef}*X$$ "
   ]
  },
  {
   "cell_type": "code",
   "execution_count": 6,
   "metadata": {
    "deletable": false,
    "nbgrader": {
     "cell_type": "code",
     "checksum": "c6e98ff2abf1f5987686d3a81e8b056e",
     "grade": false,
     "grade_id": "cell-0bcd6ad358d49405",
     "locked": false,
     "schema_version": 3,
     "solution": true
    }
   },
   "outputs": [
    {
     "data": {
      "text/html": [
       "<div>\n",
       "<style scoped>\n",
       "    .dataframe tbody tr th:only-of-type {\n",
       "        vertical-align: middle;\n",
       "    }\n",
       "\n",
       "    .dataframe tbody tr th {\n",
       "        vertical-align: top;\n",
       "    }\n",
       "\n",
       "    .dataframe thead th {\n",
       "        text-align: right;\n",
       "    }\n",
       "</style>\n",
       "<table border=\"1\" class=\"dataframe\">\n",
       "  <thead>\n",
       "    <tr style=\"text-align: right;\">\n",
       "      <th></th>\n",
       "      <th>flipper_length_mm</th>\n",
       "    </tr>\n",
       "  </thead>\n",
       "  <tbody>\n",
       "    <tr>\n",
       "      <th>92</th>\n",
       "      <td>-17.0</td>\n",
       "    </tr>\n",
       "    <tr>\n",
       "      <th>340</th>\n",
       "      <td>7.0</td>\n",
       "    </tr>\n",
       "    <tr>\n",
       "      <th>43</th>\n",
       "      <td>-8.0</td>\n",
       "    </tr>\n",
       "    <tr>\n",
       "      <th>220</th>\n",
       "      <td>4.0</td>\n",
       "    </tr>\n",
       "    <tr>\n",
       "      <th>253</th>\n",
       "      <td>19.0</td>\n",
       "    </tr>\n",
       "  </tbody>\n",
       "</table>\n",
       "</div>"
      ],
      "text/plain": [
       "     flipper_length_mm\n",
       "92               -17.0\n",
       "340                7.0\n",
       "43                -8.0\n",
       "220                4.0\n",
       "253               19.0"
      ]
     },
     "execution_count": 6,
     "metadata": {},
     "output_type": "execute_result"
    }
   ],
   "source": [
    "### GRADED\n",
    "\n",
    "def linear_predictions(model, X):\n",
    "    \"\"\"\n",
    "    This function takes in a fit linear model\n",
    "    and returns the models intercept + coefs*X\n",
    "\n",
    "    Arguments\n",
    "    ---------\n",
    "    model: scikitlearn.linear_model\n",
    "           Linear Model estimator -- Linear or Logistic Regression\n",
    "           that is already fit\n",
    "    X: pd.DataFrame (N,1)\n",
    "        1 Feature DataFrame with 1 feature\n",
    "\n",
    "    Returns\n",
    "    --------\n",
    "    odds: pd.DataFrame\n",
    "         Array of odds based on input X\n",
    "    \"\"\"\n",
    "    return None\n",
    "\n",
    "# YOUR CODE HERE\n",
    "def linear_predictions(model, X):\n",
    "    \"\"\"\n",
    "    This function takes in a fit linear model\n",
    "    and returns the models intercept + coefs*X\n",
    "    \"\"\"\n",
    "    # Get coefficients and intercept from model\n",
    "    coef = model.coef_[0]  # Since we have only one feature\n",
    "    intercept = model.intercept_[0]\n",
    "\n",
    "    # Calculate linear combination: intercept + coef*X\n",
    "    return intercept + coef * X\n",
    "\n",
    "# Answer check\n",
    "predictions = linear_predictions(logreg, X_train)\n",
    "np.round(predictions.head())"
   ]
  },
  {
   "cell_type": "code",
   "execution_count": null,
   "metadata": {
    "deletable": false,
    "editable": false,
    "nbgrader": {
     "cell_type": "code",
     "checksum": "9a116230e20ddd18ebbecd6ea7eb98a4",
     "grade": true,
     "grade_id": "cell-030d2d774b49bcba",
     "locked": true,
     "points": 10,
     "schema_version": 3,
     "solution": false
    }
   },
   "outputs": [],
   "source": []
  },
  {
   "cell_type": "markdown",
   "metadata": {
    "deletable": false,
    "editable": false,
    "nbgrader": {
     "cell_type": "markdown",
     "checksum": "10f19edfad6ebcadf5ee93b0aa757ffa",
     "grade": false,
     "grade_id": "cell-621cf6101617c939",
     "locked": true,
     "schema_version": 3,
     "solution": false
    }
   },
   "source": [
    "[Back to top](#-Index)\n",
    "\n",
    "### Problem 3\n",
    "\n",
    "#### Examining the log odds\n",
    "\n",
    "**10 Points**\n",
    "\n",
    "The predictions above are the logarithmic odds for the positive class.  In order to interpret these as probabilities, you need to return to the original sigmoid form using the formula:\n",
    "\n",
    "$$\\sigma(x) = \\frac{1}{1 + e^{-(ax + b)}}$$\n",
    "\n",
    "Complete the function `sigma` below that takes as input the array  `predictions`. This function should return the values of the sigmoid function evaluated at `predictions`.  The results should look like the image below when plotted.\n",
    "\n",
    "<center>\n",
    "    <img src = 'images/sigmoid.png' />\n",
    "</center>"
   ]
  },
  {
   "cell_type": "code",
   "execution_count": 7,
   "metadata": {
    "deletable": false,
    "nbgrader": {
     "cell_type": "code",
     "checksum": "68937f4ebd78f877dd1bd14f14321285",
     "grade": false,
     "grade_id": "cell-5818932cefd70eb1",
     "locked": false,
     "schema_version": 3,
     "solution": true
    }
   },
   "outputs": [
    {
     "name": "stdout",
     "output_type": "stream",
     "text": [
      "     flipper_length_mm\n",
      "92        3.985530e-08\n",
      "340       9.991126e-01\n",
      "43        2.706465e-04\n",
      "220       9.784951e-01\n",
      "253       1.000000e+00\n",
      "..                 ...\n",
      "25        1.982529e-07\n",
      "263       9.996019e-01\n",
      "77        1.786979e-08\n",
      "112       2.440109e-05\n",
      "108       1.610717e-09\n",
      "\n",
      "[198 rows x 1 columns]\n"
     ]
    }
   ],
   "source": [
    "### GRADED\n",
    "\n",
    "def sigma(predictions):\n",
    "    \"\"\"\n",
    "    This function takes in predictions as log odds and\n",
    "    returns their probability of being the positive class\n",
    "    in a binary classification setting.\n",
    "\n",
    "    Arguments\n",
    "    ---------\n",
    "    predictions; np.array\n",
    "            array of log odds prediction values for each data\n",
    "            point\n",
    "    Returns\n",
    "    ---------\n",
    "    probabilities: np.array\n",
    "            array of probabilities for positive class\n",
    "    \"\"\"\n",
    "    return None\n",
    "\n",
    "# YOUR CODE HERE\n",
    "def sigma(predictions):\n",
    "    \"\"\"\n",
    "    This function takes in predictions as log odds and\n",
    "    returns their probability of being the positive class\n",
    "    in a binary classification setting.\n",
    "    \"\"\"\n",
    "    # Implement sigmoid function: 1 / (1 + e^(-x))\n",
    "    return 1 / (1 + np.exp(-predictions))\n",
    "\n",
    "# Answer check\n",
    "probs = sigma(predictions)\n",
    "print(probs)"
   ]
  },
  {
   "cell_type": "code",
   "execution_count": null,
   "metadata": {
    "deletable": false,
    "editable": false,
    "nbgrader": {
     "cell_type": "code",
     "checksum": "2905a6d0b277ccf04c459b6aa2387419",
     "grade": true,
     "grade_id": "cell-847149c07b0aabe4",
     "locked": true,
     "points": 10,
     "schema_version": 3,
     "solution": false
    }
   },
   "outputs": [],
   "source": []
  },
  {
   "cell_type": "markdown",
   "metadata": {
    "deletable": false,
    "editable": false,
    "nbgrader": {
     "cell_type": "markdown",
     "checksum": "feff68af7fb318e2120ca7c959234d6a",
     "grade": false,
     "grade_id": "cell-97ce97cd1401f7b9",
     "locked": true,
     "schema_version": 3,
     "solution": false
    }
   },
   "source": [
    "[Back to top](#-Index)\n",
    "\n",
    "### Problem 4\n",
    "\n",
    "#### Making Class Predictions\n",
    "\n",
    "**10 Points**\n",
    "\n",
    "In this exercise you will use the probabilities obtained from the sigmoid function to make predictions.  \n",
    "\n",
    "Specifically, if a probability is greater than or equal to 0.5, assign this to the positive class `1`, otherwise assign it to the class `0`.  Assign your solution as a numpy array to `class_predictions` below."
   ]
  },
  {
   "cell_type": "code",
   "execution_count": 8,
   "metadata": {
    "deletable": false,
    "nbgrader": {
     "cell_type": "code",
     "checksum": "93d9dc1a2324e58da333b65f92441ff5",
     "grade": false,
     "grade_id": "cell-af1f3a6d1f64927f",
     "locked": false,
     "schema_version": 3,
     "solution": true
    }
   },
   "outputs": [
    {
     "name": "stdout",
     "output_type": "stream",
     "text": [
      "[105  93]\n"
     ]
    }
   ],
   "source": [
    "### GRADED\n",
    "\n",
    "class_predictions = ''\n",
    "\n",
    "# YOUR CODE HERE\n",
    "# Convert probabilities to class predictions using 0.5 threshold\n",
    "class_predictions = np.where(probs >= 0.5, 1, 0)\n",
    "\n",
    "# Answer check\n",
    "print(np.unique(class_predictions, return_counts=True)[1])"
   ]
  },
  {
   "cell_type": "code",
   "execution_count": null,
   "metadata": {
    "deletable": false,
    "editable": false,
    "nbgrader": {
     "cell_type": "code",
     "checksum": "a56026805a3be86760e119a5b63dd97f",
     "grade": true,
     "grade_id": "cell-bd06f8b3c011c96a",
     "locked": true,
     "points": 10,
     "schema_version": 3,
     "solution": false
    }
   },
   "outputs": [],
   "source": []
  },
  {
   "cell_type": "markdown",
   "metadata": {
    "deletable": false,
    "editable": false,
    "nbgrader": {
     "cell_type": "markdown",
     "checksum": "307312fa81055ddd79f5ef2f3a65c40b",
     "grade": false,
     "grade_id": "cell-aba36cc4f9a369a3",
     "locked": true,
     "schema_version": 3,
     "solution": false
    }
   },
   "source": [
    "[Back to top](#-Index)\n",
    "\n",
    "### Problem 5\n",
    "\n",
    "#### Using the `predict_proba` method\n",
    "\n",
    "**10 Points**\n",
    "\n",
    "You don't need to go through this process each time you fit a Logistic model to determine these probabilities. \n",
    "\n",
    "The `LogisticRegression` estimator has a `.predict_proba` method to calculate the predictions that returns the probabilities for each class as a 2D NumPy array. \n",
    "\n",
    "Below, use the `.predict_proba` method of the `logreg` object on the test data `X_test` as a 1D NumPy array. Assign the result to `positive_probs`.\n",
    "\n"
   ]
  },
  {
   "cell_type": "code",
   "execution_count": 10,
   "metadata": {
    "deletable": false,
    "nbgrader": {
     "cell_type": "code",
     "checksum": "fc72ecbd4b43d7e2ce27de7b57a8dc87",
     "grade": false,
     "grade_id": "cell-f350745aa18bae90",
     "locked": false,
     "schema_version": 3,
     "solution": true
    }
   },
   "outputs": [
    {
     "name": "stdout",
     "output_type": "stream",
     "text": [
      "(67,)\n"
     ]
    },
    {
     "data": {
      "text/plain": [
       "<matplotlib.collections.PathCollection at 0x1380dcd70>"
      ]
     },
     "execution_count": 10,
     "metadata": {},
     "output_type": "execute_result"
    },
    {
     "data": {
      "image/png": "[encoded data removed]",
      "text/plain": [
       "<Figure size 640x480 with 1 Axes>"
      ]
     },
     "metadata": {},
     "output_type": "display_data"
    }
   ],
   "source": [
    "### GRADED\n",
    "\n",
    "positive_probs = ''\n",
    "\n",
    "# YOUR CODE HERE\n",
    "# Get probabilities for positive class using predict_proba\n",
    "positive_probs = logreg.predict_proba(X_test)[:, 1]\n",
    "\n",
    "# Answer check\n",
    "print(positive_probs.shape) #(67,)\n",
    "plt.scatter(X_test, positive_probs, c = y_test)"
   ]
  },
  {
   "cell_type": "code",
   "execution_count": null,
   "metadata": {
    "deletable": false,
    "editable": false,
    "nbgrader": {
     "cell_type": "code",
     "checksum": "0dbc465c9c558bef667e124436e91cd6",
     "grade": true,
     "grade_id": "cell-665d5fd3f889aa79",
     "locked": true,
     "points": 10,
     "schema_version": 3,
     "solution": false
    }
   },
   "outputs": [],
   "source": []
  },
  {
   "cell_type": "markdown",
   "metadata": {
    "deletable": false,
    "editable": false,
    "nbgrader": {
     "cell_type": "markdown",
     "checksum": "a447e1ac63a35133f50184f66c334044",
     "grade": false,
     "grade_id": "cell-c6619cd0a8044fec",
     "locked": true,
     "schema_version": 3,
     "solution": false
    }
   },
   "source": [
    "[Back to top](#-Index)\n",
    "\n",
    "### Problem 6\n",
    "\n",
    "#### Scoring the Classifier\n",
    "\n",
    "**10 Points**\n",
    "\n",
    "You may be interested in different metrics for your classifier.  \n",
    "\n",
    "Below, use the `predict` function of the `logreg` method with arugmemnt equal to `X_test` to calculate your predictions. Assign the result to `preds`.\n",
    "\n",
    "Then, use the functions `accuracy_score`, `precision_score`, and `recall_score`to calcutate the accuracy, precision, and recall for your model. Assing the results to `accuracy`, `precision`, and `recall`, respectively.\n"
   ]
  },
  {
   "cell_type": "code",
   "execution_count": 11,
   "metadata": {
    "deletable": false,
    "nbgrader": {
     "cell_type": "code",
     "checksum": "4370424a84d07418cc108afcd087163d",
     "grade": false,
     "grade_id": "cell-282f4248c3e596bd",
     "locked": false,
     "schema_version": 3,
     "solution": true
    }
   },
   "outputs": [
    {
     "name": "stdout",
     "output_type": "stream",
     "text": [
      "Accuracy:  0.99\n",
      "Precision:  1.00\n",
      "Recall:  0.96\n"
     ]
    }
   ],
   "source": [
    "### GRADED\n",
    "preds = ''\n",
    "accuracy = ''\n",
    "precision = ''\n",
    "recall = ''\n",
    "\n",
    "# YOUR CODE HERE\n",
    "# Get predictions\n",
    "preds = logreg.predict(X_test)\n",
    "\n",
    "# Calculate metrics\n",
    "accuracy = accuracy_score(y_test, preds)\n",
    "precision = precision_score(y_test, preds)\n",
    "recall = recall_score(y_test, preds)\n",
    "\n",
    "# Answer check\n",
    "print(f'Accuracy: {accuracy: .2f}\\nPrecision: {precision: .2f}\\nRecall: {recall: .2f}')"
   ]
  },
  {
   "cell_type": "code",
   "execution_count": null,
   "metadata": {
    "deletable": false,
    "editable": false,
    "nbgrader": {
     "cell_type": "code",
     "checksum": "61d0aa45af94be456eabca3f41544dae",
     "grade": true,
     "grade_id": "cell-69af0c46ddd5ab2a",
     "locked": true,
     "points": 10,
     "schema_version": 3,
     "solution": false
    }
   },
   "outputs": [],
   "source": []
  },
  {
   "cell_type": "markdown",
   "metadata": {
    "deletable": false,
    "editable": false,
    "nbgrader": {
     "cell_type": "markdown",
     "checksum": "ad2c4d9883a9ce05ef9c5f2ac9403c45",
     "grade": false,
     "grade_id": "cell-60f9c42e51e97653",
     "locked": true,
     "schema_version": 3,
     "solution": false
    }
   },
   "source": [
    "From this example it seems you have a powerful classifier.  In the following activity, you will explore more about exactly where these coefficients come from and how they are determined in general.  "
   ]
  },
  {
   "cell_type": "markdown",
   "metadata": {},
   "source": [
    "# Summary: Introduction to Logistic Regression with scikit-learn\n",
    "\n",
    "This notebook demonstrates key concepts of binary classification using Logistic Regression through 6 main problems:\n",
    "\n",
    "1. **Model Building**: Implementing basic LogisticRegression model using scikit-learn on penguin dataset to classify species (Adelie vs Gentoo) based on flipper length.\n",
    "\n",
    "2. **Understanding Coefficients**: Exploring model coefficients and intercepts to calculate linear predictions using the formula: intercept + coefficient * X\n",
    "\n",
    "3. **Log Odds to Probabilities**: Converting log odds to probabilities using the sigmoid function:\n",
    "   σ(x) = 1 / (1 + e^(-x))\n",
    "\n",
    "4. **Class Predictions**: Converting probabilities to binary class predictions using 0.5 threshold\n",
    "\n",
    "5. **Probability Predictions**: Using predict_proba() method to directly obtain class probabilities\n",
    "\n",
    "6. **Model Evaluation**: Assessing model performance using key metrics:\n",
    "   - Accuracy\n",
    "   - Precision \n",
    "   - Recall\n",
    "\n",
    "Key Takeaways:\n",
    "- Logistic Regression transforms linear predictions into probabilities using sigmoid function\n",
    "- Model provides both probability estimates (predict_proba) and class predictions (predict)\n",
    "- Multiple evaluation metrics help assess different aspects of model performance\n",
    "- The penguin classification example showed strong performance across all metrics"
   ]
  }
 ],
 "metadata": {
  "kernelspec": {
   "display_name": "Python 3 (ipykernel)",
   "language": "python",
   "name": "python3"
  },
  "language_info": {
   "codemirror_mode": {
    "name": "ipython",
    "version": 3
   },
   "file_extension": ".py",
   "mimetype": "text/x-python",
   "name": "python",
   "nbconvert_exporter": "python",
   "pygments_lexer": "ipython3",
   "version": "3.12.7"
  },
  "widgets": {
   "application/vnd.jupyter.widget-state+json": {
    "state": {},
    "version_major": 2,
    "version_minor": 0
   }
  }
 },
 "nbformat": 4,
 "nbformat_minor": 4
}
