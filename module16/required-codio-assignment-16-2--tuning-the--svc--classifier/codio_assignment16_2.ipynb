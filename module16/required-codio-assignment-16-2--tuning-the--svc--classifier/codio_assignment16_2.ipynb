{
 "cells": [
  {
   "cell_type": "markdown",
   "metadata": {
    "deletable": false,
    "editable": false,
    "nbgrader": {
     "cell_type": "markdown",
     "checksum": "159b548a0cea9c56582f197053d59f91",
     "grade": false,
     "grade_id": "cell-230ef21a911a94f8",
     "locked": true,
     "schema_version": 3,
     "solution": false
    }
   },
   "source": [
    "### Required Codio Assignment 16.2: Tuning the 'SVC' Classifier\n",
    "\n",
    "**Expected Time = 60 minutes**\n",
    "\n",
    "**Total Points = 40**\n",
    "\n",
    "This activity focuses on tuning the `SVC` classifier parameters to improve its performance using the wine data.  Typically, the `SVC` will need some parameter tuning.  In practice, you will want to be deliberate about the tuning parameters and not be too exhaustive as the grid searches can be energy intensive.  Here, you will compare different kernels and the `gamma` parameter of the classifier.\n",
    "\n",
    "#### Index\n",
    "\n",
    "- [Problem 1](#-Problem-1)\n",
    "- [Problem 2](#-Problem-2)\n",
    "- [Problem 3](#-Problem-3)\n",
    "- [Problem 4](#-Problem-4)"
   ]
  },
  {
   "cell_type": "code",
   "execution_count": 1,
   "metadata": {},
   "outputs": [],
   "source": [
    "import pandas as pd\n",
    "import seaborn as sns\n",
    "from sklearn.datasets import load_breast_cancer\n",
    "from sklearn.svm import SVC\n",
    "from sklearn.model_selection import train_test_split, GridSearchCV, RandomizedSearchCV"
   ]
  },
  {
   "cell_type": "code",
   "execution_count": 2,
   "metadata": {},
   "outputs": [],
   "source": [
    "from sklearn.linear_model import LogisticRegression\n",
    "from sklearn.dummy import DummyClassifier\n",
    "from sklearn.svm import SVC\n",
    "from sklearn.model_selection import train_test_split, GridSearchCV\n",
    "from sklearn.metrics import confusion_matrix\n",
    "from sklearn.datasets import load_wine"
   ]
  },
  {
   "cell_type": "code",
   "execution_count": 3,
   "metadata": {},
   "outputs": [],
   "source": [
    "X, y = load_wine(return_X_y=True, as_frame=True)"
   ]
  },
  {
   "cell_type": "code",
   "execution_count": 4,
   "metadata": {},
   "outputs": [
    {
     "data": {
      "text/plain": [
       "target\n",
       "1    0.398876\n",
       "0    0.331461\n",
       "2    0.269663\n",
       "Name: proportion, dtype: float64"
      ]
     },
     "execution_count": 4,
     "metadata": {},
     "output_type": "execute_result"
    }
   ],
   "source": [
    "y.value_counts(normalize = True)"
   ]
  },
  {
   "cell_type": "code",
   "execution_count": 5,
   "metadata": {},
   "outputs": [],
   "source": [
    "X_train, X_test, y_train, y_test = train_test_split(X, y,\n",
    "                                                   random_state = 42)"
   ]
  },
  {
   "cell_type": "markdown",
   "metadata": {
    "deletable": false,
    "editable": false,
    "nbgrader": {
     "cell_type": "markdown",
     "checksum": "fa55c27d4a5dab5869c28a46b7a85819",
     "grade": false,
     "grade_id": "cell-067da2d0ca9b8beb",
     "locked": true,
     "schema_version": 3,
     "solution": false
    }
   },
   "source": [
    "[Back to top](#-Index)\n",
    "\n",
    "### Problem 1\n",
    "\n",
    "#### Baseline for Classifier\n",
    "\n",
    "**10 Points**\n",
    "\n",
    "Below, determine the baseline score for the classifier by using the `DummyClassifier` to fit the the training data `X_train` and `y_train`.  Assign this to the variable `dummy_clf`.\n",
    "\n",
    "Next, use the `score` function on `dummy_clf` with arguments `X_test` and `y_test` and assign the result to `baseline_score`.\n",
    "\n",
    "\n",
    "**Note**: The `DummyClassifier` works just as all other estimators you have encountered and has a `.fit` and `.score` method."
   ]
  },
  {
   "cell_type": "code",
   "execution_count": 6,
   "metadata": {
    "deletable": false,
    "nbgrader": {
     "cell_type": "code",
     "checksum": "099ae67be9b93db90e77690fce348804",
     "grade": false,
     "grade_id": "cell-2deeb12d446f03a7",
     "locked": false,
     "schema_version": 3,
     "solution": true
    }
   },
   "outputs": [
    {
     "name": "stdout",
     "output_type": "stream",
     "text": [
      "0.4\n"
     ]
    }
   ],
   "source": [
    "### GRADED\n",
    "dummy_clf = ''\n",
    "baseline_score = ''\n",
    "\n",
    "\n",
    "# YOUR CODE HERE\n",
    "dummy_clf = DummyClassifier()\n",
    "dummy_clf.fit(X_train, y_train)\n",
    "baseline_score = dummy_clf.score(X_test, y_test)\n",
    "\n",
    "### ANSWER CHECK\n",
    "print(baseline_score)"
   ]
  },
  {
   "cell_type": "code",
   "execution_count": null,
   "metadata": {
    "deletable": false,
    "editable": false,
    "nbgrader": {
     "cell_type": "code",
     "checksum": "175ebf14292f9e6746515d52a936a5b9",
     "grade": true,
     "grade_id": "cell-240d375f22ae6842",
     "locked": true,
     "points": 10,
     "schema_version": 3,
     "solution": false
    }
   },
   "outputs": [],
   "source": []
  },
  {
   "cell_type": "markdown",
   "metadata": {
    "deletable": false,
    "editable": false,
    "nbgrader": {
     "cell_type": "markdown",
     "checksum": "d449e46ace14fb2968123626e5839dba",
     "grade": false,
     "grade_id": "cell-7c41917d1a9811ea",
     "locked": true,
     "schema_version": 3,
     "solution": false
    }
   },
   "source": [
    "[Back to top](#-Index)\n",
    "\n",
    "### Problem 2\n",
    "\n",
    "#### Default Settings with `SVC`\n",
    "\n",
    "**10 Points**\n",
    "\n",
    "Now, define an `SVC` estimator with default parameters and fit it to the training data `X_train` and `y_train`. Assign this estimator to `svc` below.\n",
    "\n",
    "Next, use the function `score` on `svc` with arguments `X_test` and `y_test`. Assign your answer as a float to `svc_defaults` below."
   ]
  },
  {
   "cell_type": "code",
   "execution_count": 7,
   "metadata": {
    "deletable": false,
    "nbgrader": {
     "cell_type": "code",
     "checksum": "b6a03f77fed70ba6b2e6b4c46afe4e9a",
     "grade": false,
     "grade_id": "cell-6c4b443781c2c6f6",
     "locked": false,
     "schema_version": 3,
     "solution": true
    }
   },
   "outputs": [
    {
     "name": "stdout",
     "output_type": "stream",
     "text": [
      "0.7111111111111111\n"
     ]
    }
   ],
   "source": [
    "### GRADED\n",
    "svc = ''\n",
    "svc_defaults = ''\n",
    "\n",
    "\n",
    "# YOUR CODE HERE\n",
    "svc = SVC()\n",
    "svc.fit(X_train, y_train)\n",
    "svc_defaults = svc.score(X_test, y_test)\n",
    "\n",
    "### ANSWER CHECK\n",
    "print(svc_defaults)"
   ]
  },
  {
   "cell_type": "code",
   "execution_count": null,
   "metadata": {
    "deletable": false,
    "editable": false,
    "nbgrader": {
     "cell_type": "code",
     "checksum": "c97d0c0a09b370b2b44f06c70ea1fb41",
     "grade": true,
     "grade_id": "cell-5590d1684afcc27c",
     "locked": true,
     "points": 10,
     "schema_version": 3,
     "solution": false
    }
   },
   "outputs": [],
   "source": []
  },
  {
   "cell_type": "markdown",
   "metadata": {
    "deletable": false,
    "editable": false,
    "nbgrader": {
     "cell_type": "markdown",
     "checksum": "f0641164f8c19cee75157a3a00b82b5a",
     "grade": false,
     "grade_id": "cell-3f8f385146b3a338",
     "locked": true,
     "schema_version": 3,
     "solution": false
    }
   },
   "source": [
    "[Back to top](#-Index)\n",
    "\n",
    "### Problem 3\n",
    "\n",
    "#### Grid Searching with `SVC`\n",
    "\n",
    "**10 Points**\n",
    "\n",
    "While your `svc` should improve upon the baseline score, there is possible room for improvement.  Below, use `GridSearchCV` to grid search the different kernels available with the `SVC` estimator and some different parameters defined by the `params` dictionary below. Fit this estimator to the training data. Assign this result to `grid`.\n",
    "\n",
    "Next, use the function `score` on `grid` with arguments `X_test` and `y_test`. Assign your answer as a float to `grid_score` below.\n"
   ]
  },
  {
   "cell_type": "code",
   "execution_count": 8,
   "metadata": {},
   "outputs": [],
   "source": [
    "params = {'kernel': ['rbf', 'poly', 'linear', 'sigmoid'],\n",
    "         'gamma': [0.1, 1.0, 10.0, 100.0],}"
   ]
  },
  {
   "cell_type": "code",
   "execution_count": 9,
   "metadata": {
    "deletable": false,
    "nbgrader": {
     "cell_type": "code",
     "checksum": "1d5f7382b89afa368a8b7bacf3897e56",
     "grade": false,
     "grade_id": "cell-95da60885c56cfce",
     "locked": false,
     "schema_version": 3,
     "solution": true
    }
   },
   "outputs": [
    {
     "name": "stdout",
     "output_type": "stream",
     "text": [
      "1.0\n"
     ]
    }
   ],
   "source": [
    "### GRADED\n",
    "grid = ''\n",
    "grid_score = ''\n",
    "\n",
    "\n",
    "# YOUR CODE HERE\n",
    "grid = GridSearchCV(SVC(), params)\n",
    "grid.fit(X_train, y_train)\n",
    "grid_score = grid.score(X_test, y_test)\n",
    "\n",
    "### ANSWER CHECK\n",
    "print(grid_score)"
   ]
  },
  {
   "cell_type": "code",
   "execution_count": null,
   "metadata": {
    "deletable": false,
    "editable": false,
    "nbgrader": {
     "cell_type": "code",
     "checksum": "cb5653f8cbf32ceded1c61f3d85590ef",
     "grade": true,
     "grade_id": "cell-97240b6adad50e47",
     "locked": true,
     "points": 10,
     "schema_version": 3,
     "solution": false
    }
   },
   "outputs": [],
   "source": []
  },
  {
   "cell_type": "markdown",
   "metadata": {
    "deletable": false,
    "editable": false,
    "nbgrader": {
     "cell_type": "markdown",
     "checksum": "1d999b49d831b3d917e79d58923d1c45",
     "grade": false,
     "grade_id": "cell-305cfaa8e8d12a7f",
     "locked": true,
     "schema_version": 3,
     "solution": false
    }
   },
   "source": [
    "[Back to top](#-Index)\n",
    "\n",
    "### Problem 4\n",
    "\n",
    "#### Optimal Kernel Function\n",
    "\n",
    "**10 Points**\n",
    "\n",
    "Based on your grid search above what is the best performing kernel function?  Assign your answer as a string -- `linear`, `poly`, `rbf`, or `sigmoid` -- to `best_kernel` below.  "
   ]
  },
  {
   "cell_type": "code",
   "execution_count": 10,
   "metadata": {
    "deletable": false,
    "nbgrader": {
     "cell_type": "code",
     "checksum": "91eb4e80d6225c53a562a2895542bda4",
     "grade": false,
     "grade_id": "cell-525415b478919bb2",
     "locked": false,
     "schema_version": 3,
     "solution": true
    }
   },
   "outputs": [
    {
     "name": "stdout",
     "output_type": "stream",
     "text": [
      "poly\n"
     ]
    }
   ],
   "source": [
    "### GRADED\n",
    "best_kernel = ''\n",
    "\n",
    "\n",
    "# YOUR CODE HERE\n",
    "best_kernel = grid.best_params_['kernel']\n",
    "\n",
    "### ANSWER CHECK\n",
    "print(best_kernel)"
   ]
  },
  {
   "cell_type": "markdown",
   "metadata": {},
   "source": [
    "### Summary of Exercises\n",
    "\n",
    "This notebook explores SVC (Support Vector Classification) tuning using the wine dataset with 4 main problems:\n",
    "\n",
    "1. **Baseline Classification**: Establishing a baseline performance using DummyClassifier\n",
    "2. **Default SVC**: Testing SVC performance with default parameters\n",
    "3. **Grid Search Optimization**: Tuning SVC using GridSearchCV across different kernels and gamma values\n",
    "4. **Kernel Analysis**: Identifying the best performing kernel function\n",
    "\n",
    "### Key Takeaways\n",
    "\n",
    "1. **Model Comparison**: The progression from baseline (DummyClassifier) to default SVC to tuned SVC demonstrates the importance of parameter optimization\n",
    "2. **Parameter Space**: The grid search explored:\n",
    "   - Kernels: rbf, poly, linear, sigmoid\n",
    "   - Gamma values: 0.1, 1.0, 10.0, 100.0\n",
    "3. **Best Practices**: The notebook showcases systematic model improvement through:\n",
    "   - Establishing baselines\n",
    "   - Testing default configurations\n",
    "   - Systematic parameter tuning\n",
    "   - Final model selection\n",
    "\n",
    "This exercise emphasizes the importance of hyperparameter tuning in SVM classification and demonstrates a structured approach to model optimization."
   ]
  }
 ],
 "metadata": {
  "kernelspec": {
   "display_name": "Python 3 (ipykernel)",
   "language": "python",
   "name": "python3"
  },
  "language_info": {
   "codemirror_mode": {
    "name": "ipython",
    "version": 3
   },
   "file_extension": ".py",
   "mimetype": "text/x-python",
   "name": "python",
   "nbconvert_exporter": "python",
   "pygments_lexer": "ipython3",
   "version": "3.12.7"
  }
 },
 "nbformat": 4,
 "nbformat_minor": 4
}
